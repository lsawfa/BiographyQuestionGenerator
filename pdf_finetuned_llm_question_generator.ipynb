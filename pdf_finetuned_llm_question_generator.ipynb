{
  "nbformat": 4,
  "nbformat_minor": 0,
  "metadata": {
    "colab": {
      "provenance": []
    },
    "kernelspec": {
      "name": "python3",
      "display_name": "Python 3"
    },
    "language_info": {
      "name": "python"
    },
    "widgets": {
      "application/vnd.jupyter.widget-state+json": {
        "8b911e1cb65d4ccab91640b94b568f27": {
          "model_module": "@jupyter-widgets/controls",
          "model_name": "HBoxModel",
          "model_module_version": "1.5.0",
          "state": {
            "_dom_classes": [],
            "_model_module": "@jupyter-widgets/controls",
            "_model_module_version": "1.5.0",
            "_model_name": "HBoxModel",
            "_view_count": null,
            "_view_module": "@jupyter-widgets/controls",
            "_view_module_version": "1.5.0",
            "_view_name": "HBoxView",
            "box_style": "",
            "children": [
              "IPY_MODEL_5e550c207f314d958a64587ac9bcabb4",
              "IPY_MODEL_63df86176fad48128b7c119411f4bc27",
              "IPY_MODEL_e1244b184e37462cb6b99b48038d36b8"
            ],
            "layout": "IPY_MODEL_f4f4ec311529490dbc8ed18dd58b614d"
          }
        },
        "5e550c207f314d958a64587ac9bcabb4": {
          "model_module": "@jupyter-widgets/controls",
          "model_name": "HTMLModel",
          "model_module_version": "1.5.0",
          "state": {
            "_dom_classes": [],
            "_model_module": "@jupyter-widgets/controls",
            "_model_module_version": "1.5.0",
            "_model_name": "HTMLModel",
            "_view_count": null,
            "_view_module": "@jupyter-widgets/controls",
            "_view_module_version": "1.5.0",
            "_view_name": "HTMLView",
            "description": "",
            "description_tooltip": null,
            "layout": "IPY_MODEL_07e6f2eac69743a9950955bd13274d23",
            "placeholder": "​",
            "style": "IPY_MODEL_58bd4ca1bdd145719af2d3b6b970ce13",
            "value": "Downloading https://raw.githubusercontent.com/stanfordnlp/stanza-resources/main/resources_1.6.0.json: "
          }
        },
        "63df86176fad48128b7c119411f4bc27": {
          "model_module": "@jupyter-widgets/controls",
          "model_name": "FloatProgressModel",
          "model_module_version": "1.5.0",
          "state": {
            "_dom_classes": [],
            "_model_module": "@jupyter-widgets/controls",
            "_model_module_version": "1.5.0",
            "_model_name": "FloatProgressModel",
            "_view_count": null,
            "_view_module": "@jupyter-widgets/controls",
            "_view_module_version": "1.5.0",
            "_view_name": "ProgressView",
            "bar_style": "success",
            "description": "",
            "description_tooltip": null,
            "layout": "IPY_MODEL_c24a46112543471ba67f716ba984211c",
            "max": 45744,
            "min": 0,
            "orientation": "horizontal",
            "style": "IPY_MODEL_a7b10fd504cf4b5bbbd511a8c631f224",
            "value": 45744
          }
        },
        "e1244b184e37462cb6b99b48038d36b8": {
          "model_module": "@jupyter-widgets/controls",
          "model_name": "HTMLModel",
          "model_module_version": "1.5.0",
          "state": {
            "_dom_classes": [],
            "_model_module": "@jupyter-widgets/controls",
            "_model_module_version": "1.5.0",
            "_model_name": "HTMLModel",
            "_view_count": null,
            "_view_module": "@jupyter-widgets/controls",
            "_view_module_version": "1.5.0",
            "_view_name": "HTMLView",
            "description": "",
            "description_tooltip": null,
            "layout": "IPY_MODEL_06187be13b7a458fb6970f9dda7522d9",
            "placeholder": "​",
            "style": "IPY_MODEL_c8d0a612737f4b038513ce85c5024b4a",
            "value": " 367k/? [00:00&lt;00:00, 12.1MB/s]"
          }
        },
        "f4f4ec311529490dbc8ed18dd58b614d": {
          "model_module": "@jupyter-widgets/base",
          "model_name": "LayoutModel",
          "model_module_version": "1.2.0",
          "state": {
            "_model_module": "@jupyter-widgets/base",
            "_model_module_version": "1.2.0",
            "_model_name": "LayoutModel",
            "_view_count": null,
            "_view_module": "@jupyter-widgets/base",
            "_view_module_version": "1.2.0",
            "_view_name": "LayoutView",
            "align_content": null,
            "align_items": null,
            "align_self": null,
            "border": null,
            "bottom": null,
            "display": null,
            "flex": null,
            "flex_flow": null,
            "grid_area": null,
            "grid_auto_columns": null,
            "grid_auto_flow": null,
            "grid_auto_rows": null,
            "grid_column": null,
            "grid_gap": null,
            "grid_row": null,
            "grid_template_areas": null,
            "grid_template_columns": null,
            "grid_template_rows": null,
            "height": null,
            "justify_content": null,
            "justify_items": null,
            "left": null,
            "margin": null,
            "max_height": null,
            "max_width": null,
            "min_height": null,
            "min_width": null,
            "object_fit": null,
            "object_position": null,
            "order": null,
            "overflow": null,
            "overflow_x": null,
            "overflow_y": null,
            "padding": null,
            "right": null,
            "top": null,
            "visibility": null,
            "width": null
          }
        },
        "07e6f2eac69743a9950955bd13274d23": {
          "model_module": "@jupyter-widgets/base",
          "model_name": "LayoutModel",
          "model_module_version": "1.2.0",
          "state": {
            "_model_module": "@jupyter-widgets/base",
            "_model_module_version": "1.2.0",
            "_model_name": "LayoutModel",
            "_view_count": null,
            "_view_module": "@jupyter-widgets/base",
            "_view_module_version": "1.2.0",
            "_view_name": "LayoutView",
            "align_content": null,
            "align_items": null,
            "align_self": null,
            "border": null,
            "bottom": null,
            "display": null,
            "flex": null,
            "flex_flow": null,
            "grid_area": null,
            "grid_auto_columns": null,
            "grid_auto_flow": null,
            "grid_auto_rows": null,
            "grid_column": null,
            "grid_gap": null,
            "grid_row": null,
            "grid_template_areas": null,
            "grid_template_columns": null,
            "grid_template_rows": null,
            "height": null,
            "justify_content": null,
            "justify_items": null,
            "left": null,
            "margin": null,
            "max_height": null,
            "max_width": null,
            "min_height": null,
            "min_width": null,
            "object_fit": null,
            "object_position": null,
            "order": null,
            "overflow": null,
            "overflow_x": null,
            "overflow_y": null,
            "padding": null,
            "right": null,
            "top": null,
            "visibility": null,
            "width": null
          }
        },
        "58bd4ca1bdd145719af2d3b6b970ce13": {
          "model_module": "@jupyter-widgets/controls",
          "model_name": "DescriptionStyleModel",
          "model_module_version": "1.5.0",
          "state": {
            "_model_module": "@jupyter-widgets/controls",
            "_model_module_version": "1.5.0",
            "_model_name": "DescriptionStyleModel",
            "_view_count": null,
            "_view_module": "@jupyter-widgets/base",
            "_view_module_version": "1.2.0",
            "_view_name": "StyleView",
            "description_width": ""
          }
        },
        "c24a46112543471ba67f716ba984211c": {
          "model_module": "@jupyter-widgets/base",
          "model_name": "LayoutModel",
          "model_module_version": "1.2.0",
          "state": {
            "_model_module": "@jupyter-widgets/base",
            "_model_module_version": "1.2.0",
            "_model_name": "LayoutModel",
            "_view_count": null,
            "_view_module": "@jupyter-widgets/base",
            "_view_module_version": "1.2.0",
            "_view_name": "LayoutView",
            "align_content": null,
            "align_items": null,
            "align_self": null,
            "border": null,
            "bottom": null,
            "display": null,
            "flex": null,
            "flex_flow": null,
            "grid_area": null,
            "grid_auto_columns": null,
            "grid_auto_flow": null,
            "grid_auto_rows": null,
            "grid_column": null,
            "grid_gap": null,
            "grid_row": null,
            "grid_template_areas": null,
            "grid_template_columns": null,
            "grid_template_rows": null,
            "height": null,
            "justify_content": null,
            "justify_items": null,
            "left": null,
            "margin": null,
            "max_height": null,
            "max_width": null,
            "min_height": null,
            "min_width": null,
            "object_fit": null,
            "object_position": null,
            "order": null,
            "overflow": null,
            "overflow_x": null,
            "overflow_y": null,
            "padding": null,
            "right": null,
            "top": null,
            "visibility": null,
            "width": null
          }
        },
        "a7b10fd504cf4b5bbbd511a8c631f224": {
          "model_module": "@jupyter-widgets/controls",
          "model_name": "ProgressStyleModel",
          "model_module_version": "1.5.0",
          "state": {
            "_model_module": "@jupyter-widgets/controls",
            "_model_module_version": "1.5.0",
            "_model_name": "ProgressStyleModel",
            "_view_count": null,
            "_view_module": "@jupyter-widgets/base",
            "_view_module_version": "1.2.0",
            "_view_name": "StyleView",
            "bar_color": null,
            "description_width": ""
          }
        },
        "06187be13b7a458fb6970f9dda7522d9": {
          "model_module": "@jupyter-widgets/base",
          "model_name": "LayoutModel",
          "model_module_version": "1.2.0",
          "state": {
            "_model_module": "@jupyter-widgets/base",
            "_model_module_version": "1.2.0",
            "_model_name": "LayoutModel",
            "_view_count": null,
            "_view_module": "@jupyter-widgets/base",
            "_view_module_version": "1.2.0",
            "_view_name": "LayoutView",
            "align_content": null,
            "align_items": null,
            "align_self": null,
            "border": null,
            "bottom": null,
            "display": null,
            "flex": null,
            "flex_flow": null,
            "grid_area": null,
            "grid_auto_columns": null,
            "grid_auto_flow": null,
            "grid_auto_rows": null,
            "grid_column": null,
            "grid_gap": null,
            "grid_row": null,
            "grid_template_areas": null,
            "grid_template_columns": null,
            "grid_template_rows": null,
            "height": null,
            "justify_content": null,
            "justify_items": null,
            "left": null,
            "margin": null,
            "max_height": null,
            "max_width": null,
            "min_height": null,
            "min_width": null,
            "object_fit": null,
            "object_position": null,
            "order": null,
            "overflow": null,
            "overflow_x": null,
            "overflow_y": null,
            "padding": null,
            "right": null,
            "top": null,
            "visibility": null,
            "width": null
          }
        },
        "c8d0a612737f4b038513ce85c5024b4a": {
          "model_module": "@jupyter-widgets/controls",
          "model_name": "DescriptionStyleModel",
          "model_module_version": "1.5.0",
          "state": {
            "_model_module": "@jupyter-widgets/controls",
            "_model_module_version": "1.5.0",
            "_model_name": "DescriptionStyleModel",
            "_view_count": null,
            "_view_module": "@jupyter-widgets/base",
            "_view_module_version": "1.2.0",
            "_view_name": "StyleView",
            "description_width": ""
          }
        },
        "11ae7170954c4018b0835ebdc7a7e025": {
          "model_module": "@jupyter-widgets/controls",
          "model_name": "HBoxModel",
          "model_module_version": "1.5.0",
          "state": {
            "_dom_classes": [],
            "_model_module": "@jupyter-widgets/controls",
            "_model_module_version": "1.5.0",
            "_model_name": "HBoxModel",
            "_view_count": null,
            "_view_module": "@jupyter-widgets/controls",
            "_view_module_version": "1.5.0",
            "_view_name": "HBoxView",
            "box_style": "",
            "children": [
              "IPY_MODEL_3057ed0566d643ed9a8ff2e6b6f29fdc",
              "IPY_MODEL_71767325f78e453b87317cb12c9f2f7a",
              "IPY_MODEL_4e5a0360fa2f44df8a5285698fdb7162"
            ],
            "layout": "IPY_MODEL_1c9ee98170794775a92537cff874677b"
          }
        },
        "3057ed0566d643ed9a8ff2e6b6f29fdc": {
          "model_module": "@jupyter-widgets/controls",
          "model_name": "HTMLModel",
          "model_module_version": "1.5.0",
          "state": {
            "_dom_classes": [],
            "_model_module": "@jupyter-widgets/controls",
            "_model_module_version": "1.5.0",
            "_model_name": "HTMLModel",
            "_view_count": null,
            "_view_module": "@jupyter-widgets/controls",
            "_view_module_version": "1.5.0",
            "_view_name": "HTMLView",
            "description": "",
            "description_tooltip": null,
            "layout": "IPY_MODEL_51ba398349b04cc09493274e6b4b6d6d",
            "placeholder": "​",
            "style": "IPY_MODEL_5f060bdf33864833b0bd0eb6715a1271",
            "value": "Loading checkpoint shards:  33%"
          }
        },
        "71767325f78e453b87317cb12c9f2f7a": {
          "model_module": "@jupyter-widgets/controls",
          "model_name": "FloatProgressModel",
          "model_module_version": "1.5.0",
          "state": {
            "_dom_classes": [],
            "_model_module": "@jupyter-widgets/controls",
            "_model_module_version": "1.5.0",
            "_model_name": "FloatProgressModel",
            "_view_count": null,
            "_view_module": "@jupyter-widgets/controls",
            "_view_module_version": "1.5.0",
            "_view_name": "ProgressView",
            "bar_style": "",
            "description": "",
            "description_tooltip": null,
            "layout": "IPY_MODEL_21a7a0e65269448fa3fc3a3900bbef37",
            "max": 3,
            "min": 0,
            "orientation": "horizontal",
            "style": "IPY_MODEL_f64190dfc5bb48a697ab44cf0643b676",
            "value": 1
          }
        },
        "4e5a0360fa2f44df8a5285698fdb7162": {
          "model_module": "@jupyter-widgets/controls",
          "model_name": "HTMLModel",
          "model_module_version": "1.5.0",
          "state": {
            "_dom_classes": [],
            "_model_module": "@jupyter-widgets/controls",
            "_model_module_version": "1.5.0",
            "_model_name": "HTMLModel",
            "_view_count": null,
            "_view_module": "@jupyter-widgets/controls",
            "_view_module_version": "1.5.0",
            "_view_name": "HTMLView",
            "description": "",
            "description_tooltip": null,
            "layout": "IPY_MODEL_60e85aa669c244029dd0c019ed908847",
            "placeholder": "​",
            "style": "IPY_MODEL_86bdda3a6e9c4bec8444c6ec04f359ce",
            "value": " 1/3 [00:27&lt;00:54, 27.31s/it]"
          }
        },
        "1c9ee98170794775a92537cff874677b": {
          "model_module": "@jupyter-widgets/base",
          "model_name": "LayoutModel",
          "model_module_version": "1.2.0",
          "state": {
            "_model_module": "@jupyter-widgets/base",
            "_model_module_version": "1.2.0",
            "_model_name": "LayoutModel",
            "_view_count": null,
            "_view_module": "@jupyter-widgets/base",
            "_view_module_version": "1.2.0",
            "_view_name": "LayoutView",
            "align_content": null,
            "align_items": null,
            "align_self": null,
            "border": null,
            "bottom": null,
            "display": null,
            "flex": null,
            "flex_flow": null,
            "grid_area": null,
            "grid_auto_columns": null,
            "grid_auto_flow": null,
            "grid_auto_rows": null,
            "grid_column": null,
            "grid_gap": null,
            "grid_row": null,
            "grid_template_areas": null,
            "grid_template_columns": null,
            "grid_template_rows": null,
            "height": null,
            "justify_content": null,
            "justify_items": null,
            "left": null,
            "margin": null,
            "max_height": null,
            "max_width": null,
            "min_height": null,
            "min_width": null,
            "object_fit": null,
            "object_position": null,
            "order": null,
            "overflow": null,
            "overflow_x": null,
            "overflow_y": null,
            "padding": null,
            "right": null,
            "top": null,
            "visibility": null,
            "width": null
          }
        },
        "51ba398349b04cc09493274e6b4b6d6d": {
          "model_module": "@jupyter-widgets/base",
          "model_name": "LayoutModel",
          "model_module_version": "1.2.0",
          "state": {
            "_model_module": "@jupyter-widgets/base",
            "_model_module_version": "1.2.0",
            "_model_name": "LayoutModel",
            "_view_count": null,
            "_view_module": "@jupyter-widgets/base",
            "_view_module_version": "1.2.0",
            "_view_name": "LayoutView",
            "align_content": null,
            "align_items": null,
            "align_self": null,
            "border": null,
            "bottom": null,
            "display": null,
            "flex": null,
            "flex_flow": null,
            "grid_area": null,
            "grid_auto_columns": null,
            "grid_auto_flow": null,
            "grid_auto_rows": null,
            "grid_column": null,
            "grid_gap": null,
            "grid_row": null,
            "grid_template_areas": null,
            "grid_template_columns": null,
            "grid_template_rows": null,
            "height": null,
            "justify_content": null,
            "justify_items": null,
            "left": null,
            "margin": null,
            "max_height": null,
            "max_width": null,
            "min_height": null,
            "min_width": null,
            "object_fit": null,
            "object_position": null,
            "order": null,
            "overflow": null,
            "overflow_x": null,
            "overflow_y": null,
            "padding": null,
            "right": null,
            "top": null,
            "visibility": null,
            "width": null
          }
        },
        "5f060bdf33864833b0bd0eb6715a1271": {
          "model_module": "@jupyter-widgets/controls",
          "model_name": "DescriptionStyleModel",
          "model_module_version": "1.5.0",
          "state": {
            "_model_module": "@jupyter-widgets/controls",
            "_model_module_version": "1.5.0",
            "_model_name": "DescriptionStyleModel",
            "_view_count": null,
            "_view_module": "@jupyter-widgets/base",
            "_view_module_version": "1.2.0",
            "_view_name": "StyleView",
            "description_width": ""
          }
        },
        "21a7a0e65269448fa3fc3a3900bbef37": {
          "model_module": "@jupyter-widgets/base",
          "model_name": "LayoutModel",
          "model_module_version": "1.2.0",
          "state": {
            "_model_module": "@jupyter-widgets/base",
            "_model_module_version": "1.2.0",
            "_model_name": "LayoutModel",
            "_view_count": null,
            "_view_module": "@jupyter-widgets/base",
            "_view_module_version": "1.2.0",
            "_view_name": "LayoutView",
            "align_content": null,
            "align_items": null,
            "align_self": null,
            "border": null,
            "bottom": null,
            "display": null,
            "flex": null,
            "flex_flow": null,
            "grid_area": null,
            "grid_auto_columns": null,
            "grid_auto_flow": null,
            "grid_auto_rows": null,
            "grid_column": null,
            "grid_gap": null,
            "grid_row": null,
            "grid_template_areas": null,
            "grid_template_columns": null,
            "grid_template_rows": null,
            "height": null,
            "justify_content": null,
            "justify_items": null,
            "left": null,
            "margin": null,
            "max_height": null,
            "max_width": null,
            "min_height": null,
            "min_width": null,
            "object_fit": null,
            "object_position": null,
            "order": null,
            "overflow": null,
            "overflow_x": null,
            "overflow_y": null,
            "padding": null,
            "right": null,
            "top": null,
            "visibility": null,
            "width": null
          }
        },
        "f64190dfc5bb48a697ab44cf0643b676": {
          "model_module": "@jupyter-widgets/controls",
          "model_name": "ProgressStyleModel",
          "model_module_version": "1.5.0",
          "state": {
            "_model_module": "@jupyter-widgets/controls",
            "_model_module_version": "1.5.0",
            "_model_name": "ProgressStyleModel",
            "_view_count": null,
            "_view_module": "@jupyter-widgets/base",
            "_view_module_version": "1.2.0",
            "_view_name": "StyleView",
            "bar_color": null,
            "description_width": ""
          }
        },
        "60e85aa669c244029dd0c019ed908847": {
          "model_module": "@jupyter-widgets/base",
          "model_name": "LayoutModel",
          "model_module_version": "1.2.0",
          "state": {
            "_model_module": "@jupyter-widgets/base",
            "_model_module_version": "1.2.0",
            "_model_name": "LayoutModel",
            "_view_count": null,
            "_view_module": "@jupyter-widgets/base",
            "_view_module_version": "1.2.0",
            "_view_name": "LayoutView",
            "align_content": null,
            "align_items": null,
            "align_self": null,
            "border": null,
            "bottom": null,
            "display": null,
            "flex": null,
            "flex_flow": null,
            "grid_area": null,
            "grid_auto_columns": null,
            "grid_auto_flow": null,
            "grid_auto_rows": null,
            "grid_column": null,
            "grid_gap": null,
            "grid_row": null,
            "grid_template_areas": null,
            "grid_template_columns": null,
            "grid_template_rows": null,
            "height": null,
            "justify_content": null,
            "justify_items": null,
            "left": null,
            "margin": null,
            "max_height": null,
            "max_width": null,
            "min_height": null,
            "min_width": null,
            "object_fit": null,
            "object_position": null,
            "order": null,
            "overflow": null,
            "overflow_x": null,
            "overflow_y": null,
            "padding": null,
            "right": null,
            "top": null,
            "visibility": null,
            "width": null
          }
        },
        "86bdda3a6e9c4bec8444c6ec04f359ce": {
          "model_module": "@jupyter-widgets/controls",
          "model_name": "DescriptionStyleModel",
          "model_module_version": "1.5.0",
          "state": {
            "_model_module": "@jupyter-widgets/controls",
            "_model_module_version": "1.5.0",
            "_model_name": "DescriptionStyleModel",
            "_view_count": null,
            "_view_module": "@jupyter-widgets/base",
            "_view_module_version": "1.2.0",
            "_view_name": "StyleView",
            "description_width": ""
          }
        }
      }
    }
  },
  "cells": [
    {
      "cell_type": "markdown",
      "source": [
        "# Parsing & Structuring"
      ],
      "metadata": {
        "id": "uqR3vsOo67Zb"
      }
    },
    {
      "cell_type": "markdown",
      "source": [
        "Parsing (Ekstraksi Teks)"
      ],
      "metadata": {
        "id": "CaZpKkD97v7q"
      }
    },
    {
      "cell_type": "code",
      "execution_count": null,
      "metadata": {
        "id": "JmKwN9vu1J4V"
      },
      "outputs": [],
      "source": [
        "import pdfplumber\n",
        "\n",
        "with pdfplumber.open(\"Biografi1.pdf\") as pdf:\n",
        "    text = \"\\n\".join([page.extract_text() for page in pdf.pages if page.extract_text()])"
      ]
    },
    {
      "cell_type": "markdown",
      "source": [
        "Structuring - Segmentasi Paragraf"
      ],
      "metadata": {
        "id": "gzVe8Btj72Y6"
      }
    },
    {
      "cell_type": "code",
      "source": [
        "paragraphs = text.split(\"\\n\\n\")"
      ],
      "metadata": {
        "id": "eeh39VWa73L7"
      },
      "execution_count": null,
      "outputs": []
    },
    {
      "cell_type": "markdown",
      "source": [
        "Structuring - Named Entity Recognition (NER)\n",
        "\n",
        "\n",
        "\n",
        "*   Pakai stanza\n",
        "- Memetakan relasi dengan SVO\n"
      ],
      "metadata": {
        "id": "JJdtVSBC8dZJ"
      }
    },
    {
      "cell_type": "code",
      "source": [
        "import spacy_stanza\n",
        "import textacy.extract\n",
        "\n",
        "nlp = spacy_stanza.load_pipeline(\"id\")\n",
        "\n",
        "doc = nlp(text)\n",
        "\n",
        "svo_triples = list(textacy.extract.subject_verb_object_triples(doc))\n",
        "\n",
        "print(\"\\nRelasi SVO yang ditemukan:\")\n",
        "for triple in svo_triples:\n",
        "    subj = \" \".join(token.text for token in triple[0])\n",
        "    verb = \" \".join(token.text for token in triple[1])\n",
        "    obj = \" \".join(token.text for token in triple[2])\n",
        "    print(f\"({subj}) --[{verb}]--> ({obj})\")\n"
      ],
      "metadata": {
        "colab": {
          "base_uri": "https://localhost:8080/",
          "height": 1000,
          "referenced_widgets": [
            "8b911e1cb65d4ccab91640b94b568f27",
            "5e550c207f314d958a64587ac9bcabb4",
            "63df86176fad48128b7c119411f4bc27",
            "e1244b184e37462cb6b99b48038d36b8",
            "f4f4ec311529490dbc8ed18dd58b614d",
            "07e6f2eac69743a9950955bd13274d23",
            "58bd4ca1bdd145719af2d3b6b970ce13",
            "c24a46112543471ba67f716ba984211c",
            "a7b10fd504cf4b5bbbd511a8c631f224",
            "06187be13b7a458fb6970f9dda7522d9",
            "c8d0a612737f4b038513ce85c5024b4a"
          ]
        },
        "id": "3HLIJgJgRj6m",
        "outputId": "0d20ec35-3a44-48b8-9466-5ee3f73e5dd1"
      },
      "execution_count": null,
      "outputs": [
        {
          "output_type": "stream",
          "name": "stdout",
          "text": [
            "Requirement already satisfied: spacy-stanza in /usr/local/lib/python3.11/dist-packages (1.0.4)\n",
            "Requirement already satisfied: stanza in /usr/local/lib/python3.11/dist-packages (1.6.1)\n",
            "Requirement already satisfied: textacy in /usr/local/lib/python3.11/dist-packages (0.13.0)\n",
            "Requirement already satisfied: spacy<4.0.0,>=3.0.0 in /usr/local/lib/python3.11/dist-packages (from spacy-stanza) (3.7.5)\n",
            "Requirement already satisfied: emoji in /usr/local/lib/python3.11/dist-packages (from stanza) (2.14.1)\n",
            "Requirement already satisfied: numpy in /usr/local/lib/python3.11/dist-packages (from stanza) (1.26.4)\n",
            "Requirement already satisfied: protobuf>=3.15.0 in /usr/local/lib/python3.11/dist-packages (from stanza) (4.25.6)\n",
            "Requirement already satisfied: requests in /usr/local/lib/python3.11/dist-packages (from stanza) (2.32.3)\n",
            "Requirement already satisfied: torch>=1.3.0 in /usr/local/lib/python3.11/dist-packages (from stanza) (2.5.1+cu124)\n",
            "Requirement already satisfied: tqdm in /usr/local/lib/python3.11/dist-packages (from stanza) (4.67.1)\n",
            "Requirement already satisfied: cachetools>=4.0.0 in /usr/local/lib/python3.11/dist-packages (from textacy) (5.5.2)\n",
            "Requirement already satisfied: catalogue~=2.0 in /usr/local/lib/python3.11/dist-packages (from textacy) (2.0.10)\n",
            "Requirement already satisfied: cytoolz>=0.10.1 in /usr/local/lib/python3.11/dist-packages (from textacy) (1.0.1)\n",
            "Requirement already satisfied: floret~=0.10.0 in /usr/local/lib/python3.11/dist-packages (from textacy) (0.10.5)\n",
            "Requirement already satisfied: jellyfish>=0.8.0 in /usr/local/lib/python3.11/dist-packages (from textacy) (1.1.0)\n",
            "Requirement already satisfied: joblib>=0.13.0 in /usr/local/lib/python3.11/dist-packages (from textacy) (1.4.2)\n",
            "Requirement already satisfied: networkx>=2.7 in /usr/local/lib/python3.11/dist-packages (from textacy) (3.4.2)\n",
            "Requirement already satisfied: pyphen>=0.10.0 in /usr/local/lib/python3.11/dist-packages (from textacy) (0.17.2)\n",
            "Requirement already satisfied: scipy>=1.8.0 in /usr/local/lib/python3.11/dist-packages (from textacy) (1.13.1)\n",
            "Requirement already satisfied: scikit-learn>=1.0 in /usr/local/lib/python3.11/dist-packages (from textacy) (1.6.1)\n",
            "Requirement already satisfied: toolz>=0.8.0 in /usr/local/lib/python3.11/dist-packages (from cytoolz>=0.10.1->textacy) (0.12.1)\n",
            "Requirement already satisfied: charset-normalizer<4,>=2 in /usr/local/lib/python3.11/dist-packages (from requests->stanza) (3.4.1)\n",
            "Requirement already satisfied: idna<4,>=2.5 in /usr/local/lib/python3.11/dist-packages (from requests->stanza) (3.10)\n",
            "Requirement already satisfied: urllib3<3,>=1.21.1 in /usr/local/lib/python3.11/dist-packages (from requests->stanza) (2.3.0)\n",
            "Requirement already satisfied: certifi>=2017.4.17 in /usr/local/lib/python3.11/dist-packages (from requests->stanza) (2025.1.31)\n",
            "Requirement already satisfied: threadpoolctl>=3.1.0 in /usr/local/lib/python3.11/dist-packages (from scikit-learn>=1.0->textacy) (3.5.0)\n",
            "Requirement already satisfied: spacy-legacy<3.1.0,>=3.0.11 in /usr/local/lib/python3.11/dist-packages (from spacy<4.0.0,>=3.0.0->spacy-stanza) (3.0.12)\n",
            "Requirement already satisfied: spacy-loggers<2.0.0,>=1.0.0 in /usr/local/lib/python3.11/dist-packages (from spacy<4.0.0,>=3.0.0->spacy-stanza) (1.0.5)\n",
            "Requirement already satisfied: murmurhash<1.1.0,>=0.28.0 in /usr/local/lib/python3.11/dist-packages (from spacy<4.0.0,>=3.0.0->spacy-stanza) (1.0.12)\n",
            "Requirement already satisfied: cymem<2.1.0,>=2.0.2 in /usr/local/lib/python3.11/dist-packages (from spacy<4.0.0,>=3.0.0->spacy-stanza) (2.0.11)\n",
            "Requirement already satisfied: preshed<3.1.0,>=3.0.2 in /usr/local/lib/python3.11/dist-packages (from spacy<4.0.0,>=3.0.0->spacy-stanza) (3.0.9)\n",
            "Requirement already satisfied: thinc<8.3.0,>=8.2.2 in /usr/local/lib/python3.11/dist-packages (from spacy<4.0.0,>=3.0.0->spacy-stanza) (8.2.5)\n",
            "Requirement already satisfied: wasabi<1.2.0,>=0.9.1 in /usr/local/lib/python3.11/dist-packages (from spacy<4.0.0,>=3.0.0->spacy-stanza) (1.1.3)\n",
            "Requirement already satisfied: srsly<3.0.0,>=2.4.3 in /usr/local/lib/python3.11/dist-packages (from spacy<4.0.0,>=3.0.0->spacy-stanza) (2.5.1)\n",
            "Requirement already satisfied: weasel<0.5.0,>=0.1.0 in /usr/local/lib/python3.11/dist-packages (from spacy<4.0.0,>=3.0.0->spacy-stanza) (0.4.1)\n",
            "Requirement already satisfied: typer<1.0.0,>=0.3.0 in /usr/local/lib/python3.11/dist-packages (from spacy<4.0.0,>=3.0.0->spacy-stanza) (0.15.1)\n",
            "Requirement already satisfied: pydantic!=1.8,!=1.8.1,<3.0.0,>=1.7.4 in /usr/local/lib/python3.11/dist-packages (from spacy<4.0.0,>=3.0.0->spacy-stanza) (2.10.6)\n",
            "Requirement already satisfied: jinja2 in /usr/local/lib/python3.11/dist-packages (from spacy<4.0.0,>=3.0.0->spacy-stanza) (3.1.5)\n",
            "Requirement already satisfied: setuptools in /usr/local/lib/python3.11/dist-packages (from spacy<4.0.0,>=3.0.0->spacy-stanza) (75.1.0)\n",
            "Requirement already satisfied: packaging>=20.0 in /usr/local/lib/python3.11/dist-packages (from spacy<4.0.0,>=3.0.0->spacy-stanza) (24.2)\n",
            "Requirement already satisfied: langcodes<4.0.0,>=3.2.0 in /usr/local/lib/python3.11/dist-packages (from spacy<4.0.0,>=3.0.0->spacy-stanza) (3.5.0)\n",
            "Requirement already satisfied: filelock in /usr/local/lib/python3.11/dist-packages (from torch>=1.3.0->stanza) (3.17.0)\n",
            "Requirement already satisfied: typing-extensions>=4.8.0 in /usr/local/lib/python3.11/dist-packages (from torch>=1.3.0->stanza) (4.12.2)\n",
            "Requirement already satisfied: fsspec in /usr/local/lib/python3.11/dist-packages (from torch>=1.3.0->stanza) (2024.10.0)\n",
            "Requirement already satisfied: nvidia-cuda-nvrtc-cu12==12.4.127 in /usr/local/lib/python3.11/dist-packages (from torch>=1.3.0->stanza) (12.4.127)\n",
            "Requirement already satisfied: nvidia-cuda-runtime-cu12==12.4.127 in /usr/local/lib/python3.11/dist-packages (from torch>=1.3.0->stanza) (12.4.127)\n",
            "Requirement already satisfied: nvidia-cuda-cupti-cu12==12.4.127 in /usr/local/lib/python3.11/dist-packages (from torch>=1.3.0->stanza) (12.4.127)\n",
            "Requirement already satisfied: nvidia-cudnn-cu12==9.1.0.70 in /usr/local/lib/python3.11/dist-packages (from torch>=1.3.0->stanza) (9.1.0.70)\n",
            "Requirement already satisfied: nvidia-cublas-cu12==12.4.5.8 in /usr/local/lib/python3.11/dist-packages (from torch>=1.3.0->stanza) (12.4.5.8)\n",
            "Requirement already satisfied: nvidia-cufft-cu12==11.2.1.3 in /usr/local/lib/python3.11/dist-packages (from torch>=1.3.0->stanza) (11.2.1.3)\n",
            "Requirement already satisfied: nvidia-curand-cu12==10.3.5.147 in /usr/local/lib/python3.11/dist-packages (from torch>=1.3.0->stanza) (10.3.5.147)\n",
            "Requirement already satisfied: nvidia-cusolver-cu12==11.6.1.9 in /usr/local/lib/python3.11/dist-packages (from torch>=1.3.0->stanza) (11.6.1.9)\n",
            "Requirement already satisfied: nvidia-cusparse-cu12==12.3.1.170 in /usr/local/lib/python3.11/dist-packages (from torch>=1.3.0->stanza) (12.3.1.170)\n",
            "Requirement already satisfied: nvidia-nccl-cu12==2.21.5 in /usr/local/lib/python3.11/dist-packages (from torch>=1.3.0->stanza) (2.21.5)\n",
            "Requirement already satisfied: nvidia-nvtx-cu12==12.4.127 in /usr/local/lib/python3.11/dist-packages (from torch>=1.3.0->stanza) (12.4.127)\n",
            "Requirement already satisfied: nvidia-nvjitlink-cu12==12.4.127 in /usr/local/lib/python3.11/dist-packages (from torch>=1.3.0->stanza) (12.4.127)\n",
            "Requirement already satisfied: triton==3.1.0 in /usr/local/lib/python3.11/dist-packages (from torch>=1.3.0->stanza) (3.1.0)\n",
            "Requirement already satisfied: sympy==1.13.1 in /usr/local/lib/python3.11/dist-packages (from torch>=1.3.0->stanza) (1.13.1)\n",
            "Requirement already satisfied: mpmath<1.4,>=1.1.0 in /usr/local/lib/python3.11/dist-packages (from sympy==1.13.1->torch>=1.3.0->stanza) (1.3.0)\n",
            "Requirement already satisfied: language-data>=1.2 in /usr/local/lib/python3.11/dist-packages (from langcodes<4.0.0,>=3.2.0->spacy<4.0.0,>=3.0.0->spacy-stanza) (1.3.0)\n",
            "Requirement already satisfied: annotated-types>=0.6.0 in /usr/local/lib/python3.11/dist-packages (from pydantic!=1.8,!=1.8.1,<3.0.0,>=1.7.4->spacy<4.0.0,>=3.0.0->spacy-stanza) (0.7.0)\n",
            "Requirement already satisfied: pydantic-core==2.27.2 in /usr/local/lib/python3.11/dist-packages (from pydantic!=1.8,!=1.8.1,<3.0.0,>=1.7.4->spacy<4.0.0,>=3.0.0->spacy-stanza) (2.27.2)\n",
            "Requirement already satisfied: blis<0.8.0,>=0.7.8 in /usr/local/lib/python3.11/dist-packages (from thinc<8.3.0,>=8.2.2->spacy<4.0.0,>=3.0.0->spacy-stanza) (0.7.11)\n",
            "Requirement already satisfied: confection<1.0.0,>=0.0.1 in /usr/local/lib/python3.11/dist-packages (from thinc<8.3.0,>=8.2.2->spacy<4.0.0,>=3.0.0->spacy-stanza) (0.1.5)\n",
            "Requirement already satisfied: click>=8.0.0 in /usr/local/lib/python3.11/dist-packages (from typer<1.0.0,>=0.3.0->spacy<4.0.0,>=3.0.0->spacy-stanza) (8.1.8)\n",
            "Requirement already satisfied: shellingham>=1.3.0 in /usr/local/lib/python3.11/dist-packages (from typer<1.0.0,>=0.3.0->spacy<4.0.0,>=3.0.0->spacy-stanza) (1.5.4)\n",
            "Requirement already satisfied: rich>=10.11.0 in /usr/local/lib/python3.11/dist-packages (from typer<1.0.0,>=0.3.0->spacy<4.0.0,>=3.0.0->spacy-stanza) (13.9.4)\n",
            "Requirement already satisfied: cloudpathlib<1.0.0,>=0.7.0 in /usr/local/lib/python3.11/dist-packages (from weasel<0.5.0,>=0.1.0->spacy<4.0.0,>=3.0.0->spacy-stanza) (0.20.0)\n",
            "Requirement already satisfied: smart-open<8.0.0,>=5.2.1 in /usr/local/lib/python3.11/dist-packages (from weasel<0.5.0,>=0.1.0->spacy<4.0.0,>=3.0.0->spacy-stanza) (7.1.0)\n",
            "Requirement already satisfied: MarkupSafe>=2.0 in /usr/local/lib/python3.11/dist-packages (from jinja2->spacy<4.0.0,>=3.0.0->spacy-stanza) (3.0.2)\n",
            "Requirement already satisfied: marisa-trie>=1.1.0 in /usr/local/lib/python3.11/dist-packages (from language-data>=1.2->langcodes<4.0.0,>=3.2.0->spacy<4.0.0,>=3.0.0->spacy-stanza) (1.2.1)\n",
            "Requirement already satisfied: markdown-it-py>=2.2.0 in /usr/local/lib/python3.11/dist-packages (from rich>=10.11.0->typer<1.0.0,>=0.3.0->spacy<4.0.0,>=3.0.0->spacy-stanza) (3.0.0)\n",
            "Requirement already satisfied: pygments<3.0.0,>=2.13.0 in /usr/local/lib/python3.11/dist-packages (from rich>=10.11.0->typer<1.0.0,>=0.3.0->spacy<4.0.0,>=3.0.0->spacy-stanza) (2.18.0)\n",
            "Requirement already satisfied: wrapt in /usr/local/lib/python3.11/dist-packages (from smart-open<8.0.0,>=5.2.1->weasel<0.5.0,>=0.1.0->spacy<4.0.0,>=3.0.0->spacy-stanza) (1.17.2)\n",
            "Requirement already satisfied: mdurl~=0.1 in /usr/local/lib/python3.11/dist-packages (from markdown-it-py>=2.2.0->rich>=10.11.0->typer<1.0.0,>=0.3.0->spacy<4.0.0,>=3.0.0->spacy-stanza) (0.1.2)\n"
          ]
        },
        {
          "output_type": "stream",
          "name": "stderr",
          "text": [
            "INFO:stanza:Checking for updates to resources.json in case models have been updated.  Note: this behavior can be turned off with download_method=None or download_method=DownloadMethod.REUSE_RESOURCES\n"
          ]
        },
        {
          "output_type": "display_data",
          "data": {
            "text/plain": [
              "Downloading https://raw.githubusercontent.com/stanfordnlp/stanza-resources/main/resources_1.6.0.json:   0%|   …"
            ],
            "application/vnd.jupyter.widget-view+json": {
              "version_major": 2,
              "version_minor": 0,
              "model_id": "8b911e1cb65d4ccab91640b94b568f27"
            }
          },
          "metadata": {}
        },
        {
          "output_type": "stream",
          "name": "stderr",
          "text": [
            "INFO:stanza:Loading these models for language: id (Indonesian):\n",
            "===============================\n",
            "| Processor    | Package      |\n",
            "-------------------------------\n",
            "| tokenize     | gsd          |\n",
            "| mwt          | gsd          |\n",
            "| pos          | gsd_charlm   |\n",
            "| lemma        | gsd_nocharlm |\n",
            "| constituency | icon_charlm  |\n",
            "| depparse     | gsd_charlm   |\n",
            "===============================\n",
            "\n",
            "WARNING:stanza:GPU requested, but is not available!\n",
            "INFO:stanza:Using device: cpu\n",
            "INFO:stanza:Loading: tokenize\n",
            "/usr/local/lib/python3.11/dist-packages/stanza/models/tokenization/trainer.py:82: FutureWarning: You are using `torch.load` with `weights_only=False` (the current default value), which uses the default pickle module implicitly. It is possible to construct malicious pickle data which will execute arbitrary code during unpickling (See https://github.com/pytorch/pytorch/blob/main/SECURITY.md#untrusted-models for more details). In a future release, the default value for `weights_only` will be flipped to `True`. This limits the functions that could be executed during unpickling. Arbitrary objects will no longer be allowed to be loaded via this mode unless they are explicitly allowlisted by the user via `torch.serialization.add_safe_globals`. We recommend you start setting `weights_only=True` for any use case where you don't have full control of the loaded file. Please open an issue on GitHub for any issues related to this experimental feature.\n",
            "  checkpoint = torch.load(filename, lambda storage, loc: storage)\n",
            "INFO:stanza:Loading: mwt\n",
            "/usr/local/lib/python3.11/dist-packages/stanza/models/mwt/trainer.py:133: FutureWarning: You are using `torch.load` with `weights_only=False` (the current default value), which uses the default pickle module implicitly. It is possible to construct malicious pickle data which will execute arbitrary code during unpickling (See https://github.com/pytorch/pytorch/blob/main/SECURITY.md#untrusted-models for more details). In a future release, the default value for `weights_only` will be flipped to `True`. This limits the functions that could be executed during unpickling. Arbitrary objects will no longer be allowed to be loaded via this mode unless they are explicitly allowlisted by the user via `torch.serialization.add_safe_globals`. We recommend you start setting `weights_only=True` for any use case where you don't have full control of the loaded file. Please open an issue on GitHub for any issues related to this experimental feature.\n",
            "  checkpoint = torch.load(filename, lambda storage, loc: storage)\n",
            "INFO:stanza:Loading: pos\n",
            "/usr/local/lib/python3.11/dist-packages/stanza/models/pos/trainer.py:105: FutureWarning: You are using `torch.load` with `weights_only=False` (the current default value), which uses the default pickle module implicitly. It is possible to construct malicious pickle data which will execute arbitrary code during unpickling (See https://github.com/pytorch/pytorch/blob/main/SECURITY.md#untrusted-models for more details). In a future release, the default value for `weights_only` will be flipped to `True`. This limits the functions that could be executed during unpickling. Arbitrary objects will no longer be allowed to be loaded via this mode unless they are explicitly allowlisted by the user via `torch.serialization.add_safe_globals`. We recommend you start setting `weights_only=True` for any use case where you don't have full control of the loaded file. Please open an issue on GitHub for any issues related to this experimental feature.\n",
            "  checkpoint = torch.load(filename, lambda storage, loc: storage)\n",
            "/usr/local/lib/python3.11/dist-packages/stanza/models/common/pretrain.py:56: FutureWarning: You are using `torch.load` with `weights_only=False` (the current default value), which uses the default pickle module implicitly. It is possible to construct malicious pickle data which will execute arbitrary code during unpickling (See https://github.com/pytorch/pytorch/blob/main/SECURITY.md#untrusted-models for more details). In a future release, the default value for `weights_only` will be flipped to `True`. This limits the functions that could be executed during unpickling. Arbitrary objects will no longer be allowed to be loaded via this mode unless they are explicitly allowlisted by the user via `torch.serialization.add_safe_globals`. We recommend you start setting `weights_only=True` for any use case where you don't have full control of the loaded file. Please open an issue on GitHub for any issues related to this experimental feature.\n",
            "  data = torch.load(self.filename, lambda storage, loc: storage)\n",
            "/usr/local/lib/python3.11/dist-packages/stanza/models/common/char_model.py:262: FutureWarning: You are using `torch.load` with `weights_only=False` (the current default value), which uses the default pickle module implicitly. It is possible to construct malicious pickle data which will execute arbitrary code during unpickling (See https://github.com/pytorch/pytorch/blob/main/SECURITY.md#untrusted-models for more details). In a future release, the default value for `weights_only` will be flipped to `True`. This limits the functions that could be executed during unpickling. Arbitrary objects will no longer be allowed to be loaded via this mode unless they are explicitly allowlisted by the user via `torch.serialization.add_safe_globals`. We recommend you start setting `weights_only=True` for any use case where you don't have full control of the loaded file. Please open an issue on GitHub for any issues related to this experimental feature.\n",
            "  state = torch.load(filename, lambda storage, loc: storage)\n",
            "INFO:stanza:Loading: lemma\n",
            "/usr/local/lib/python3.11/dist-packages/stanza/models/lemma/trainer.py:227: FutureWarning: You are using `torch.load` with `weights_only=False` (the current default value), which uses the default pickle module implicitly. It is possible to construct malicious pickle data which will execute arbitrary code during unpickling (See https://github.com/pytorch/pytorch/blob/main/SECURITY.md#untrusted-models for more details). In a future release, the default value for `weights_only` will be flipped to `True`. This limits the functions that could be executed during unpickling. Arbitrary objects will no longer be allowed to be loaded via this mode unless they are explicitly allowlisted by the user via `torch.serialization.add_safe_globals`. We recommend you start setting `weights_only=True` for any use case where you don't have full control of the loaded file. Please open an issue on GitHub for any issues related to this experimental feature.\n",
            "  checkpoint = torch.load(filename, lambda storage, loc: storage)\n",
            "INFO:stanza:Loading: constituency\n",
            "/usr/local/lib/python3.11/dist-packages/stanza/models/constituency/trainer.py:196: FutureWarning: You are using `torch.load` with `weights_only=False` (the current default value), which uses the default pickle module implicitly. It is possible to construct malicious pickle data which will execute arbitrary code during unpickling (See https://github.com/pytorch/pytorch/blob/main/SECURITY.md#untrusted-models for more details). In a future release, the default value for `weights_only` will be flipped to `True`. This limits the functions that could be executed during unpickling. Arbitrary objects will no longer be allowed to be loaded via this mode unless they are explicitly allowlisted by the user via `torch.serialization.add_safe_globals`. We recommend you start setting `weights_only=True` for any use case where you don't have full control of the loaded file. Please open an issue on GitHub for any issues related to this experimental feature.\n",
            "  checkpoint = torch.load(filename, lambda storage, loc: storage)\n",
            "INFO:stanza:Loading: depparse\n",
            "/usr/local/lib/python3.11/dist-packages/stanza/models/depparse/trainer.py:103: FutureWarning: You are using `torch.load` with `weights_only=False` (the current default value), which uses the default pickle module implicitly. It is possible to construct malicious pickle data which will execute arbitrary code during unpickling (See https://github.com/pytorch/pytorch/blob/main/SECURITY.md#untrusted-models for more details). In a future release, the default value for `weights_only` will be flipped to `True`. This limits the functions that could be executed during unpickling. Arbitrary objects will no longer be allowed to be loaded via this mode unless they are explicitly allowlisted by the user via `torch.serialization.add_safe_globals`. We recommend you start setting `weights_only=True` for any use case where you don't have full control of the loaded file. Please open an issue on GitHub for any issues related to this experimental feature.\n",
            "  checkpoint = torch.load(filename, lambda storage, loc: storage)\n",
            "INFO:stanza:Done loading processors!\n"
          ]
        },
        {
          "output_type": "stream",
          "name": "stdout",
          "text": [
            "\n",
            "Relasi SVO yang ditemukan:\n",
            "(Habibie) --[menunjukkan]--> (kecil , \n",
            ")\n",
            "(Habibie) --[menghabiskan]--> (Setelah pensiun dari politik ,)\n"
          ]
        }
      ]
    },
    {
      "cell_type": "markdown",
      "source": [
        "# Visualisasi Knowledge Graph dengan NetworkX"
      ],
      "metadata": {
        "id": "CBHpuP_N6_74"
      }
    },
    {
      "cell_type": "code",
      "source": [
        "import networkx as nx\n",
        "import matplotlib.pyplot as plt\n",
        "\n",
        "G = nx.DiGraph()\n",
        "\n",
        "for ent, label in entities.items():\n",
        "    G.add_node(ent, label=label, color=\"lightblue\")\n",
        "\n",
        "for triple in svo_triples:\n",
        "    subj = \" \".join(token.text for token in triple[0])\n",
        "    verb = \" \".join(token.text for token in triple[1])\n",
        "    obj = \" \".join(token.text for token in triple[2])\n",
        "\n",
        "    G.add_edge(subj, obj, label=verb)\n",
        "\n",
        "pos = nx.spring_layout(G)\n",
        "\n",
        "node_colors = [\"lightblue\" if G.nodes[n].get(\"color\") == \"lightblue\" else \"lightgray\" for n in G.nodes]\n",
        "\n",
        "plt.figure(figsize=(10, 6))\n",
        "nx.draw(G, pos, with_labels=True, node_color=node_colors, edge_color=\"gray\", node_size=3000, font_size=10)\n",
        "\n",
        "edge_labels = {(u, v): d[\"label\"] for u, v, d in G.edges(data=True)}\n",
        "nx.draw_networkx_edge_labels(G, pos, edge_labels=edge_labels, font_size=9, label_pos=0.5)\n",
        "\n",
        "plt.title(\"Knowledge Graph: Hubungan SVO dari Biografi Habibie\")\n",
        "plt.show()\n"
      ],
      "metadata": {
        "colab": {
          "base_uri": "https://localhost:8080/",
          "height": 413
        },
        "id": "k1xSvB9ECXSy",
        "outputId": "8514d2cf-1582-447c-c640-4d0815816f8f"
      },
      "execution_count": null,
      "outputs": [
        {
          "output_type": "display_data",
          "data": {
            "text/plain": [
              "<Figure size 1000x600 with 1 Axes>"
            ],
            "image/png": "[encoded data removed]"
          },
          "metadata": {}
        }
      ]
    },
    {
      "cell_type": "markdown",
      "source": [
        "# RAG (Retrieval-Augmented Generation)"
      ],
      "metadata": {
        "id": "uQgLZz7ODu2O"
      }
    },
    {
      "cell_type": "markdown",
      "source": [
        "FAISS Knoladge Base"
      ],
      "metadata": {
        "id": "0YbXJLwwGEnd"
      }
    },
    {
      "cell_type": "code",
      "source": [
        "import faiss\n",
        "import numpy as np\n",
        "from sentence_transformers import SentenceTransformer\n",
        "\n",
        "embedder = SentenceTransformer(\"all-MiniLM-L6-v2\")\n",
        "\n",
        "import pdfplumber\n",
        "\n",
        "with pdfplumber.open(\"Biografi1.pdf\") as pdf:\n",
        "    text = \"\\n\".join([page.extract_text() for page in pdf.pages if page.extract_text()])\n",
        "\n",
        "paragraphs = text.split(\"\\n\\n\")\n",
        "\n",
        "paragraph_embeddings = np.array(embedder.encode(paragraphs))\n",
        "\n",
        "index = faiss.IndexFlatL2(paragraph_embeddings.shape[1])\n",
        "index.add(paragraph_embeddings)\n",
        "\n",
        "print(\"Knowledge Base dengan FAISS sudah dibuat!\")\n"
      ],
      "metadata": {
        "colab": {
          "base_uri": "https://localhost:8080/"
        },
        "id": "90FcgBTfDwV7",
        "outputId": "461c689c-7b47-42f4-9b32-b708ba2d8973"
      },
      "execution_count": null,
      "outputs": [
        {
          "output_type": "stream",
          "name": "stderr",
          "text": [
            "/usr/local/lib/python3.11/dist-packages/huggingface_hub/utils/_auth.py:94: UserWarning: \n",
            "The secret `HF_TOKEN` does not exist in your Colab secrets.\n",
            "To authenticate with the Hugging Face Hub, create a token in your settings tab (https://huggingface.co/settings/tokens), set it as secret in your Google Colab and restart your session.\n",
            "You will be able to reuse this secret in all of your notebooks.\n",
            "Please note that authentication is recommended but still optional to access public models or datasets.\n",
            "  warnings.warn(\n"
          ]
        },
        {
          "output_type": "stream",
          "name": "stdout",
          "text": [
            "Knowledge Base dengan FAISS sudah dibuat!\n"
          ]
        }
      ]
    },
    {
      "cell_type": "markdown",
      "source": [
        "Pencarian Dokumen Relevan"
      ],
      "metadata": {
        "id": "SzZo34yOGpY8"
      }
    },
    {
      "cell_type": "code",
      "source": [
        "def search_knowledge_base(query, top_k=3):\n",
        "    \"\"\"Cari paragraf terkait dengan pertanyaan di FAISS.\"\"\"\n",
        "    query_embedding = np.array([embedder.encode(query)])\n",
        "    D, I = index.search(query_embedding, top_k)\n",
        "\n",
        "    results = [paragraphs[i] for i in I[0]]\n",
        "    return results\n",
        "\n",
        "query = \"Bagaimana peran Habibie dalam dunia penerbangan?\"\n",
        "retrieved_docs = search_knowledge_base(query)\n",
        "\n",
        "print(\"\\nParagraf yang ditemukan:\")\n",
        "for doc in retrieved_docs:\n",
        "    print(\"-\", doc)\n"
      ],
      "metadata": {
        "colab": {
          "base_uri": "https://localhost:8080/"
        },
        "id": "GO_lbW6-GrCy",
        "outputId": "f9f5d531-319f-4e1f-dbc7-3b0427bc21d2"
      },
      "execution_count": null,
      "outputs": [
        {
          "output_type": "stream",
          "name": "stdout",
          "text": [
            "\n",
            "Paragraf yang ditemukan:\n",
            "- Bacharuddin Jusuf Habibie lahir pada 25 Juni 1936 di Parepare, Sulawesi Selatan. Ia merupakan\n",
            "anak keempat dari delapan bersaudara. Ayahnya, Alwi Abdul Jalil Habibie, adalah seorang ahli\n",
            "pertanian, sementara ibunya, R.A. Tuti Marini Puspowardojo, adalah seorang guru. Sejak kecil,\n",
            "Habibie menunjukkan minat yang besar dalam dunia teknologi dan sains.\n",
            "Pada tahun 1955, setelah menyelesaikan pendidikan menengahnya di Indonesia, Habibie\n",
            "melanjutkan studi ke RWTH Aachen, Jerman, mengambil jurusan teknik penerbangan. Selama\n",
            "masa studinya, ia dikenal sebagai mahasiswa yang cerdas dan tekun. Setelah lulus dengan gelar\n",
            "insinyur, ia melanjutkan studi doktoralnya dan meraih gelar doktor di bidang teknik penerbangan\n",
            "dengan spesialisasi konstruksi pesawat terbang.\n",
            "Habibie bekerja di berbagai perusahaan penerbangan di Jerman sebelum akhirnya kembali ke\n",
            "Indonesia pada tahun 1974 atas permintaan Presiden Soeharto. Ia ditugaskan untuk membangun\n",
            "industri kedirgantaraan nasional dan menjadi pemimpin dalam pengembangan pesawat terbang\n",
            "nasional, seperti N-250. Berkat kontribusinya, ia diangkat menjadi Menteri Riset dan Teknologi\n",
            "pada tahun 1978.\n",
            "Pada tahun 1998, setelah Presiden Soeharto mengundurkan diri, Habibie dilantik menjadi\n",
            "Presiden Indonesia ketiga. Meskipun masa jabatannya hanya berlangsung selama 17 bulan, ia\n",
            "melakukan berbagai reformasi penting dalam sistem politik dan ekonomi Indonesia, termasuk\n",
            "kebijakan demokratisasi dan referendum di Timor Timur.\n",
            "Setelah pensiun dari politik, Habibie lebih banyak menghabiskan waktunya bersama keluarga\n",
            "dan tetap aktif dalam berbagai kegiatan sosial serta pendidikan di Indonesia. Ia juga dikenal\n",
            "sebagai penulis buku yang menginspirasi banyak orang. Habibie wafat pada 11 September 2019,\n",
            "meninggalkan warisan besar dalam dunia teknologi dan kepemimpinan nasional.\n",
            "- Bacharuddin Jusuf Habibie lahir pada 25 Juni 1936 di Parepare, Sulawesi Selatan. Ia merupakan\n",
            "anak keempat dari delapan bersaudara. Ayahnya, Alwi Abdul Jalil Habibie, adalah seorang ahli\n",
            "pertanian, sementara ibunya, R.A. Tuti Marini Puspowardojo, adalah seorang guru. Sejak kecil,\n",
            "Habibie menunjukkan minat yang besar dalam dunia teknologi dan sains.\n",
            "Pada tahun 1955, setelah menyelesaikan pendidikan menengahnya di Indonesia, Habibie\n",
            "melanjutkan studi ke RWTH Aachen, Jerman, mengambil jurusan teknik penerbangan. Selama\n",
            "masa studinya, ia dikenal sebagai mahasiswa yang cerdas dan tekun. Setelah lulus dengan gelar\n",
            "insinyur, ia melanjutkan studi doktoralnya dan meraih gelar doktor di bidang teknik penerbangan\n",
            "dengan spesialisasi konstruksi pesawat terbang.\n",
            "Habibie bekerja di berbagai perusahaan penerbangan di Jerman sebelum akhirnya kembali ke\n",
            "Indonesia pada tahun 1974 atas permintaan Presiden Soeharto. Ia ditugaskan untuk membangun\n",
            "industri kedirgantaraan nasional dan menjadi pemimpin dalam pengembangan pesawat terbang\n",
            "nasional, seperti N-250. Berkat kontribusinya, ia diangkat menjadi Menteri Riset dan Teknologi\n",
            "pada tahun 1978.\n",
            "Pada tahun 1998, setelah Presiden Soeharto mengundurkan diri, Habibie dilantik menjadi\n",
            "Presiden Indonesia ketiga. Meskipun masa jabatannya hanya berlangsung selama 17 bulan, ia\n",
            "melakukan berbagai reformasi penting dalam sistem politik dan ekonomi Indonesia, termasuk\n",
            "kebijakan demokratisasi dan referendum di Timor Timur.\n",
            "Setelah pensiun dari politik, Habibie lebih banyak menghabiskan waktunya bersama keluarga\n",
            "dan tetap aktif dalam berbagai kegiatan sosial serta pendidikan di Indonesia. Ia juga dikenal\n",
            "sebagai penulis buku yang menginspirasi banyak orang. Habibie wafat pada 11 September 2019,\n",
            "meninggalkan warisan besar dalam dunia teknologi dan kepemimpinan nasional.\n",
            "- Bacharuddin Jusuf Habibie lahir pada 25 Juni 1936 di Parepare, Sulawesi Selatan. Ia merupakan\n",
            "anak keempat dari delapan bersaudara. Ayahnya, Alwi Abdul Jalil Habibie, adalah seorang ahli\n",
            "pertanian, sementara ibunya, R.A. Tuti Marini Puspowardojo, adalah seorang guru. Sejak kecil,\n",
            "Habibie menunjukkan minat yang besar dalam dunia teknologi dan sains.\n",
            "Pada tahun 1955, setelah menyelesaikan pendidikan menengahnya di Indonesia, Habibie\n",
            "melanjutkan studi ke RWTH Aachen, Jerman, mengambil jurusan teknik penerbangan. Selama\n",
            "masa studinya, ia dikenal sebagai mahasiswa yang cerdas dan tekun. Setelah lulus dengan gelar\n",
            "insinyur, ia melanjutkan studi doktoralnya dan meraih gelar doktor di bidang teknik penerbangan\n",
            "dengan spesialisasi konstruksi pesawat terbang.\n",
            "Habibie bekerja di berbagai perusahaan penerbangan di Jerman sebelum akhirnya kembali ke\n",
            "Indonesia pada tahun 1974 atas permintaan Presiden Soeharto. Ia ditugaskan untuk membangun\n",
            "industri kedirgantaraan nasional dan menjadi pemimpin dalam pengembangan pesawat terbang\n",
            "nasional, seperti N-250. Berkat kontribusinya, ia diangkat menjadi Menteri Riset dan Teknologi\n",
            "pada tahun 1978.\n",
            "Pada tahun 1998, setelah Presiden Soeharto mengundurkan diri, Habibie dilantik menjadi\n",
            "Presiden Indonesia ketiga. Meskipun masa jabatannya hanya berlangsung selama 17 bulan, ia\n",
            "melakukan berbagai reformasi penting dalam sistem politik dan ekonomi Indonesia, termasuk\n",
            "kebijakan demokratisasi dan referendum di Timor Timur.\n",
            "Setelah pensiun dari politik, Habibie lebih banyak menghabiskan waktunya bersama keluarga\n",
            "dan tetap aktif dalam berbagai kegiatan sosial serta pendidikan di Indonesia. Ia juga dikenal\n",
            "sebagai penulis buku yang menginspirasi banyak orang. Habibie wafat pada 11 September 2019,\n",
            "meninggalkan warisan besar dalam dunia teknologi dan kepemimpinan nasional.\n"
          ]
        }
      ]
    },
    {
      "cell_type": "markdown",
      "source": [
        "# Model LLM"
      ],
      "metadata": {
        "id": "wSbaxJQX7DK5"
      }
    },
    {
      "cell_type": "code",
      "source": [
        "!huggingface-cli login"
      ],
      "metadata": {
        "colab": {
          "base_uri": "https://localhost:8080/"
        },
        "id": "ehb8razDHAOZ",
        "outputId": "2c5210d5-31c6-48e6-89d2-f7016177260b"
      },
      "execution_count": null,
      "outputs": [
        {
          "output_type": "stream",
          "name": "stdout",
          "text": [
            "\n",
            "    _|    _|  _|    _|    _|_|_|    _|_|_|  _|_|_|  _|      _|    _|_|_|      _|_|_|_|    _|_|      _|_|_|  _|_|_|_|\n",
            "    _|    _|  _|    _|  _|        _|          _|    _|_|    _|  _|            _|        _|    _|  _|        _|\n",
            "    _|_|_|_|  _|    _|  _|  _|_|  _|  _|_|    _|    _|  _|  _|  _|  _|_|      _|_|_|    _|_|_|_|  _|        _|_|_|\n",
            "    _|    _|  _|    _|  _|    _|  _|    _|    _|    _|    _|_|  _|    _|      _|        _|    _|  _|        _|\n",
            "    _|    _|    _|_|      _|_|_|    _|_|_|  _|_|_|  _|      _|    _|_|_|      _|        _|    _|    _|_|_|  _|_|_|_|\n",
            "\n",
            "    A token is already saved on your machine. Run `huggingface-cli whoami` to get more information or `huggingface-cli logout` if you want to log out.\n",
            "    Setting a new token will erase the existing one.\n",
            "    To log in, `huggingface_hub` requires a token generated from https://huggingface.co/settings/tokens .\n",
            "Enter your token (input will not be visible): "
          ]
        }
      ]
    },
    {
      "cell_type": "code",
      "source": [
        "from transformers import AutoModelForCausalLM, AutoTokenizer\n",
        "import torch\n",
        "\n",
        "model_name = \"mistralai/Mistral-7B-Instruct-v0.3\"\n",
        "\n",
        "tokenizer = AutoTokenizer.from_pretrained(model_name, trust_remote_code=True)\n",
        "\n",
        "model = AutoModelForCausalLM.from_pretrained(\n",
        "    model_name,\n",
        "    torch_dtype=torch.float32,\n",
        "    trust_remote_code=True\n",
        ").to(\"cpu\")\n",
        "\n",
        "def generate_questions_from_text(text, num_questions=5):\n",
        "    prompt = f\"\"\"Buatlah {num_questions} pertanyaan berbobot berdasarkan teks berikut:\n",
        "    {text}\n",
        "\n",
        "    Pertanyaan:\n",
        "    \"\"\"\n",
        "\n",
        "    inputs = tokenizer(prompt, return_tensors=\"pt\").to(\"cpu\")\n",
        "    outputs = model.generate(**inputs, max_new_tokens=200)\n",
        "\n",
        "    return tokenizer.decode(outputs[0], skip_special_tokens=True)\n",
        "\n",
        "retrieved_texts = search_knowledge_base(\"B.J. Habibie dan dunia penerbangan\", top_k=1)\n",
        "context_text = \"\\n\".join(retrieved_texts)\n",
        "\n",
        "questions = generate_questions_from_text(context_text, num_questions=5)\n",
        "\n",
        "print(\"\\nPertanyaan yang dihasilkan:\")\n",
        "print(questions)\n"
      ],
      "metadata": {
        "colab": {
          "base_uri": "https://localhost:8080/",
          "height": 49,
          "referenced_widgets": [
            "11ae7170954c4018b0835ebdc7a7e025",
            "3057ed0566d643ed9a8ff2e6b6f29fdc",
            "71767325f78e453b87317cb12c9f2f7a",
            "4e5a0360fa2f44df8a5285698fdb7162",
            "1c9ee98170794775a92537cff874677b",
            "51ba398349b04cc09493274e6b4b6d6d",
            "5f060bdf33864833b0bd0eb6715a1271",
            "21a7a0e65269448fa3fc3a3900bbef37",
            "f64190dfc5bb48a697ab44cf0643b676",
            "60e85aa669c244029dd0c019ed908847",
            "86bdda3a6e9c4bec8444c6ec04f359ce"
          ]
        },
        "id": "VAwS1tKzG2zU",
        "outputId": "d67613f1-f89a-401a-e51e-e75a5ed3e7b1"
      },
      "execution_count": null,
      "outputs": [
        {
          "output_type": "display_data",
          "data": {
            "text/plain": [
              "Loading checkpoint shards:   0%|          | 0/3 [00:00<?, ?it/s]"
            ],
            "application/vnd.jupyter.widget-view+json": {
              "version_major": 2,
              "version_minor": 0,
              "model_id": "11ae7170954c4018b0835ebdc7a7e025"
            }
          },
          "metadata": {}
        }
      ]
    }
  ]
}