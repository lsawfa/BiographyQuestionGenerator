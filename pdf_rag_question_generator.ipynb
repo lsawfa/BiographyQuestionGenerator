{
  "cells": [
    {
      "cell_type": "markdown",
      "metadata": {
        "id": "iRbkPYz2K1-i"
      },
      "source": [
        "# Teks 1 Halaman"
      ]
    },
    {
      "cell_type": "markdown",
      "metadata": {
        "id": "adtgdDUcK1-o"
      },
      "source": [
        "## Extract Text"
      ]
    },
    {
      "cell_type": "code",
      "execution_count": 4,
      "metadata": {
        "id": "L3EqwgzlK1-p"
      },
      "outputs": [],
      "source": [
        "import PyPDF2\n",
        "\n",
        "def extract_text_from_pdf(pdf_path):\n",
        "    with open(pdf_path, \"rb\") as file:\n",
        "        reader = PyPDF2.PdfReader(file)\n",
        "        text = \" \".join([page.extract_text() for page in reader.pages if page.extract_text()])\n",
        "    return text\n"
      ]
    },
    {
      "cell_type": "code",
      "execution_count": 6,
      "metadata": {
        "id": "ynFHrECmK1-t"
      },
      "outputs": [],
      "source": [
        "# Contoh dokumen 1 halaman\n",
        "pdf_text = extract_text_from_pdf(\"Dokumen Biografi/Biografi1.pdf\")"
      ]
    },
    {
      "cell_type": "markdown",
      "metadata": {
        "id": "E6wJS1l_K1-u"
      },
      "source": [
        "## Embedding Text"
      ]
    },
    {
      "cell_type": "code",
      "execution_count": 7,
      "metadata": {
        "colab": {
          "base_uri": "https://localhost:8080/",
          "height": 476,
          "referenced_widgets": [
            "2f22f735dbc346f6b29e3ebe578bc782",
            "63538432536b46a2b19ebe3c29d718d9",
            "66bc70c34e1c4f08acb51e0ca3a5ee80",
            "6c39f879d9b4497c8a22a6d3004ada95",
            "306bb43f88da46829ed8607fdc496910",
            "4e480dcf6f064c67a9fc9ab608ac0bf0",
            "bcff2e5338ae43bcbb6c60b59dacbcc4",
            "80deac9767e94484a0510c7e01f4c936",
            "49898998c89147ee878ae3dda1da556e",
            "e4e014fc2ceb4878873eb9805837c69a",
            "9e711e34c095401ea4c857c4b068dfaa",
            "e8288fbc36514ea9a0a8dcde3e72ceec",
            "a8ec8199b7754ffaa70837230409c96b",
            "c6a4fededa5647d2a742558073ceaace",
            "0ed97e34b1614cdab429fb2ca75faa19",
            "f2ebd8e1d6d94862805dca2f8552a755",
            "54636efc32b8443fabd5f6791d2b6a18",
            "61400759daca4b2b9397482c7cfa6ef6",
            "af8dbccbdce34eb19576a31320ccc7d4",
            "191febf3932c49798abf410112ad3ca4",
            "669864ef9287455884890ab7b5518a60",
            "31c0bf69c7ec4d66b36d0cf850531ec0",
            "6bbdd39e9341415aa03203d93ca1fcf1",
            "bd3a8f9a82d147f2a1f94b58850ff274",
            "0575c75abb7546fe9dd3fbf706ec9a3d",
            "33d7c1dfde694a94a37742f7c82675e5",
            "d55aebb5cfe24678886086e71c437e52",
            "a30c1547bceb46a7b694d1d55afd813b",
            "4a7bd07d647246b683e301147632c67e",
            "430a9d269e3c4a45a18a7d724e6637d9",
            "e4087aa0d7674cb0a74f16db4ad0c633",
            "5953d90466f34c8490d11a8dbe40f82e",
            "7c44aa579fa943db8ca0577a6a2b51da",
            "8ceb81a0f1ff4396a06d25f24548567f",
            "d5960c87008b42bfa62ca9b470af5bc8",
            "61d79cd5f668479e80991325c20581c7",
            "a2bb90aea97e4e04923d06fabb85c370",
            "5e6bd1f439b8406587dd5334999f4818",
            "112c26a864644e928814662b6652ae9c",
            "d7dd62abbd6e4741966ceb6d33972c65",
            "a9e33524e99d4e7a99e74700bba4abdc",
            "fc601351c35e4910988c1d0e52887bfe",
            "d95296ed16e946eaaaa025502279e4cf",
            "176ca011992c4caf933e56233ab7a23a",
            "4bc4cf876068498cbe1cb8910302e5df",
            "693cfbcaee3d45429c8d703b6157a1fa",
            "0cb2aaee6c2e462d9a832d62aaabb5e5",
            "a242349613064fa9b54d379c4e6b95e0",
            "68a5d994ac044a3cbdbb8bec724f17e1",
            "e5b45a7217034f8dbc33bb6e7ecdea7d",
            "c163c7eb5f2f4c5caf0a598a69a843e2",
            "5c4f9a7f7d514e95858a4aa23ace2e8f",
            "d63fe62eb32949559fc8cf6c809bf577",
            "58bd0145542c49faad101c66fe45832d",
            "457776e474e8436086a2737c1d90db2d",
            "6eab278264a845e8b7581bb0e865656f",
            "2d5e66f5f70d42f0a3261b61a7ccd999",
            "6190a87582a8450786a545d133d34794",
            "f8a68c6332b74203a4944b44b131de21",
            "283cd8daff964d249769c5f8872ef28e",
            "02c0fa6a36b9422a8391f6340d4efef0",
            "68bcba0c27f549b3b885926ee1398413",
            "539910c933e347d7be05725967321617",
            "00920aca41f84df18d066fa809bc5612",
            "94bd1fb7822f4f4a9f2dba23716ab203",
            "6af7a8994cb9447d81a1af04a631830d",
            "1eb3400830f345dab50aee1016749a45",
            "6a1f46abb4b14e8291e8a229c85fe7a0",
            "4aa51e9ceec14456b708e5a36a26b639",
            "0dd6bbedd7014072a27df179b233e68b",
            "f3e99bb9ff3841d493ccaa03a745120b",
            "48232f180994400ab438b1ea47c11927",
            "373992d10b2a46878d4f65f8f6979b83",
            "078f79f308e841b1af7b63cf8c21e58a",
            "63a1ef55fb614645a9b74ecc33f169fc",
            "99fcf2830651460abf6679be56482c91",
            "5cae7262ddfe49e38ed7dacf59fed974",
            "4a48893726d448218ef3bf70e4d09050",
            "7683d9c9783e46bda933b0ebd54377fa",
            "a4f4982b95794472a322e64738b534c9",
            "dcbd87627a7f46a4be77a42d25828d9e",
            "fa824daf2ec04c05a0168e5f15489648",
            "bc5b670de0714e5abd6cd445e5d99c1a",
            "a14399b3f3f64352a984f7f1ffd7a5d9",
            "d523811717cd48cd83444c3d6718273b",
            "d948e2bbb5164d79906d2346f5b98269",
            "c830aeae41d74397a01b8f1073e167cf",
            "7647247cbffd46a7aa17cae5d7f63fa0",
            "2e1f9be3795941cfb44d3980db005f74",
            "6e9df0ee691844b4b5eecb858832d4ce",
            "9651a4f810bd4bd1b7c49e17c5258bf2",
            "a1dfcd2eddb7482281d45f764fa264c8",
            "1725cfdfedf944a2aaa816b9a818d44f",
            "9abd70762350448cafc2f4f8ccf51750",
            "04a828733e0c4c05bd31776e612a056f",
            "243833cec10542c8b6b6144198b84d35",
            "a32e15b5537f4327ba49daab8aaeddc5",
            "2db14e659a1a438db63787ca8e047b7a",
            "8703fce1795247a78d97dfe6f1700ba9",
            "e4ec2cef3c884d188f82ee6964def7ac",
            "057e516db01d44b0960282c135271130",
            "362d2bb359a84b51bd8778de9a62ab40",
            "a6ada28420044dcdb3710319762b766c",
            "8760f087f5b24d6185eb365949baf342",
            "eff12a81e4d24ffb859693c14b713af0",
            "ffd05394af7b4fe3a7f48d8b97bb4a0c",
            "2c7cad5524fd488f894599ce10b1fd16",
            "d4fbc44ae840413ebc19de8ea8fe300e",
            "526d87ee5aef4603b60b1526d74a5b8f",
            "cfe9e3e2115b4bc0b620db7e69c1b35e",
            "b8502a0931b14889b8016f7e410eaa06",
            "542b096ecec54845ad2ad9be6e9988f8",
            "861d0f24213a4da0b89685838d83bd20",
            "f960c7a50ce24425a05cf8b22a415efd",
            "902a50c0d5a643c08c3ed634fd58769e",
            "de8a5056d4ed49b6adfa5e226a762dff",
            "cd83b9f63e2e4c54b398a4f1a2a497a7",
            "c491e4b9ec7d4f45b5e1bdfbb63e7bef",
            "f172c02d4dca4afa9540af7c8cdd528d",
            "cd54fe1dd278429a9ad311c6fdf4db82",
            "1719a4f68fbd41eb9817b4e73a21f125"
          ]
        },
        "id": "iiPBDJZDK1-v",
        "outputId": "8a5bba8d-b968-4c97-962f-f8e6395c69db"
      },
      "outputs": [
        {
          "output_type": "stream",
          "name": "stderr",
          "text": [
            "/usr/local/lib/python3.11/dist-packages/huggingface_hub/utils/_auth.py:104: UserWarning: \n",
            "Error while fetching `HF_TOKEN` secret value from your vault: 'Requesting secret HF_TOKEN timed out. Secrets can only be fetched when running from the Colab UI.'.\n",
            "You are not authenticated with the Hugging Face Hub in this notebook.\n",
            "If the error persists, please let us know by opening an issue on GitHub (https://github.com/huggingface/huggingface_hub/issues/new).\n",
            "  warnings.warn(\n"
          ]
        },
        {
          "output_type": "display_data",
          "data": {
            "text/plain": [
              "modules.json:   0%|          | 0.00/349 [00:00<?, ?B/s]"
            ],
            "application/vnd.jupyter.widget-view+json": {
              "version_major": 2,
              "version_minor": 0,
              "model_id": "2f22f735dbc346f6b29e3ebe578bc782"
            }
          },
          "metadata": {}
        },
        {
          "output_type": "display_data",
          "data": {
            "text/plain": [
              "config_sentence_transformers.json:   0%|          | 0.00/116 [00:00<?, ?B/s]"
            ],
            "application/vnd.jupyter.widget-view+json": {
              "version_major": 2,
              "version_minor": 0,
              "model_id": "e8288fbc36514ea9a0a8dcde3e72ceec"
            }
          },
          "metadata": {}
        },
        {
          "output_type": "display_data",
          "data": {
            "text/plain": [
              "README.md:   0%|          | 0.00/10.6k [00:00<?, ?B/s]"
            ],
            "application/vnd.jupyter.widget-view+json": {
              "version_major": 2,
              "version_minor": 0,
              "model_id": "6bbdd39e9341415aa03203d93ca1fcf1"
            }
          },
          "metadata": {}
        },
        {
          "output_type": "display_data",
          "data": {
            "text/plain": [
              "sentence_bert_config.json:   0%|          | 0.00/53.0 [00:00<?, ?B/s]"
            ],
            "application/vnd.jupyter.widget-view+json": {
              "version_major": 2,
              "version_minor": 0,
              "model_id": "8ceb81a0f1ff4396a06d25f24548567f"
            }
          },
          "metadata": {}
        },
        {
          "output_type": "display_data",
          "data": {
            "text/plain": [
              "config.json:   0%|          | 0.00/571 [00:00<?, ?B/s]"
            ],
            "application/vnd.jupyter.widget-view+json": {
              "version_major": 2,
              "version_minor": 0,
              "model_id": "4bc4cf876068498cbe1cb8910302e5df"
            }
          },
          "metadata": {}
        },
        {
          "output_type": "display_data",
          "data": {
            "text/plain": [
              "model.safetensors:   0%|          | 0.00/438M [00:00<?, ?B/s]"
            ],
            "application/vnd.jupyter.widget-view+json": {
              "version_major": 2,
              "version_minor": 0,
              "model_id": "6eab278264a845e8b7581bb0e865656f"
            }
          },
          "metadata": {}
        },
        {
          "output_type": "display_data",
          "data": {
            "text/plain": [
              "tokenizer_config.json:   0%|          | 0.00/363 [00:00<?, ?B/s]"
            ],
            "application/vnd.jupyter.widget-view+json": {
              "version_major": 2,
              "version_minor": 0,
              "model_id": "1eb3400830f345dab50aee1016749a45"
            }
          },
          "metadata": {}
        },
        {
          "output_type": "display_data",
          "data": {
            "text/plain": [
              "vocab.txt:   0%|          | 0.00/232k [00:00<?, ?B/s]"
            ],
            "application/vnd.jupyter.widget-view+json": {
              "version_major": 2,
              "version_minor": 0,
              "model_id": "4a48893726d448218ef3bf70e4d09050"
            }
          },
          "metadata": {}
        },
        {
          "output_type": "display_data",
          "data": {
            "text/plain": [
              "tokenizer.json:   0%|          | 0.00/466k [00:00<?, ?B/s]"
            ],
            "application/vnd.jupyter.widget-view+json": {
              "version_major": 2,
              "version_minor": 0,
              "model_id": "2e1f9be3795941cfb44d3980db005f74"
            }
          },
          "metadata": {}
        },
        {
          "output_type": "display_data",
          "data": {
            "text/plain": [
              "special_tokens_map.json:   0%|          | 0.00/239 [00:00<?, ?B/s]"
            ],
            "application/vnd.jupyter.widget-view+json": {
              "version_major": 2,
              "version_minor": 0,
              "model_id": "e4ec2cef3c884d188f82ee6964def7ac"
            }
          },
          "metadata": {}
        },
        {
          "output_type": "display_data",
          "data": {
            "text/plain": [
              "config.json:   0%|          | 0.00/190 [00:00<?, ?B/s]"
            ],
            "application/vnd.jupyter.widget-view+json": {
              "version_major": 2,
              "version_minor": 0,
              "model_id": "b8502a0931b14889b8016f7e410eaa06"
            }
          },
          "metadata": {}
        }
      ],
      "source": [
        "from sentence_transformers import SentenceTransformer\n",
        "\n",
        "embedding_model = SentenceTransformer(\"sentence-transformers/all-mpnet-base-v2\")\n",
        "\n",
        "def embed_text(text):\n",
        "    return embedding_model.encode([text])[0]\n"
      ]
    },
    {
      "cell_type": "markdown",
      "metadata": {
        "id": "GGCFu6MRK1-x"
      },
      "source": [
        "## Sparate into Chuncks"
      ]
    },
    {
      "cell_type": "code",
      "execution_count": 10,
      "metadata": {
        "id": "BIGSqp-aK1-x"
      },
      "outputs": [],
      "source": [
        "import nltk\n",
        "from nltk.tokenize import sent_tokenize\n",
        "\n",
        "def chunk_text(text, chunk_size=3):\n",
        "    sentences = sent_tokenize(text)\n",
        "    chunks = [\" \".join(sentences[i:i+chunk_size]) for i in range(0, len(sentences), chunk_size)]\n",
        "    return chunks\n",
        "\n",
        "pdf_chunks = chunk_text(pdf_text, chunk_size=3)\n"
      ]
    },
    {
      "cell_type": "markdown",
      "metadata": {
        "id": "zktPHyRCK1-y"
      },
      "source": [
        "## Save Embedding to FAISS"
      ]
    },
    {
      "cell_type": "code",
      "execution_count": 11,
      "metadata": {
        "id": "XOfedHTKK1-y"
      },
      "outputs": [],
      "source": [
        "import faiss\n",
        "import numpy as np\n",
        "\n",
        "dim = 768\n",
        "index = faiss.IndexFlatL2(dim)\n",
        "\n",
        "embeddings = np.array([embed_text(chunk) for chunk in pdf_chunks], dtype=np.float32)\n",
        "index.add(embeddings)\n"
      ]
    },
    {
      "cell_type": "markdown",
      "metadata": {
        "id": "r29NkxKCK1-z"
      },
      "source": [
        "## Modifikasi search_similar() untuk Mencari Chunk Relevan"
      ]
    },
    {
      "cell_type": "code",
      "execution_count": 12,
      "metadata": {
        "id": "GWxgRClIK1-0"
      },
      "outputs": [],
      "source": [
        "def search_similar(query, top_k=3):\n",
        "    query_embedding = np.array([embed_text(query)], dtype=np.float32)\n",
        "    distances, indices = index.search(query_embedding, top_k)\n",
        "    return [pdf_chunks[i] for i in indices[0]]\n"
      ]
    },
    {
      "cell_type": "markdown",
      "metadata": {
        "id": "R-JVf9CMK1-1"
      },
      "source": [
        "## Generate Question Example"
      ]
    },
    {
      "cell_type": "code",
      "execution_count": 13,
      "metadata": {
        "id": "9kAgv8LYK1-2"
      },
      "outputs": [],
      "source": [
        "import google.generativeai as genai\n",
        "genai.configure(api_key=\"YOUR_API_KEY\")\n",
        "\n",
        "def generate_questions(text):\n",
        "    prompt = f\"\"\"\n",
        "    Buatlah 10 pertanyaan berdasarkan biografi teks berikut:\n",
        "    ---\n",
        "    {text}\n",
        "    \"\"\"\n",
        "    model = genai.GenerativeModel(\"gemini-1.5-pro-latest\")\n",
        "    response = model.generate_content(prompt)\n",
        "    return response.text\n"
      ]
    },
    {
      "cell_type": "code",
      "execution_count": 14,
      "metadata": {
        "id": "3bhxAmRaK1-2"
      },
      "outputs": [],
      "source": [
        "pdf_chunks = chunk_text(pdf_text, chunk_size=3)"
      ]
    },
    {
      "cell_type": "code",
      "execution_count": 15,
      "metadata": {
        "colab": {
          "base_uri": "https://localhost:8080/"
        },
        "id": "55fFVgnQK1-3",
        "outputId": "bd3f5cd2-c0e1-4f86-888e-b93f6e9d87d7"
      },
      "outputs": [
        {
          "output_type": "stream",
          "name": "stdout",
          "text": [
            "Teks relevan: Setelah lulus deng an gelar \n",
            "insinyur, ia melanjutkan studi doktoralnya dan meraih gelar doktor di bidang teknik penerbangan \n",
            "dengan spesialisasi konstruksi pesawat terbang. Habibie bekerja di berbagai perusahaan penerbangan di Jerman sebelum akhirnya kembali ke \n",
            "Indonesia pada tahun 1974 atas permintaan Presiden Soeharto. Ia ditugaskan untuk membangun \n",
            "industri kedirgantaraan nasional dan menjadi pemimpin dalam pengembangan pes awat terbang \n",
            "nasional, seperti N -250.\n"
          ]
        }
      ],
      "source": [
        "relevant_texts = search_similar(\"Apa peran beliau dalam pengembangan industri pesawat terbang di Indonesia?\", top_k=1)\n",
        "\n",
        "print(\"Teks relevan:\", relevant_texts[0])"
      ]
    },
    {
      "cell_type": "code",
      "execution_count": 16,
      "metadata": {
        "colab": {
          "base_uri": "https://localhost:8080/",
          "height": 419
        },
        "id": "yPkQEKJ0K1-4",
        "outputId": "53f2d10a-dade-4a2e-caec-188cc7f6c045"
      },
      "outputs": [
        {
          "output_type": "stream",
          "name": "stdout",
          "text": [
            "Berikut 10 pertanyaan berbobot berdasarkan biografi singkat B.J. Habibie tersebut:\n",
            "\n",
            "1. **Bagaimana kontribusi spesifik gelar doktor Habibie dalam bidang teknik penerbangan, khususnya spesialisasi konstruksi pesawat terbang, terhadap pengembangan industri kedirgantaraan di Indonesia?** (Menghubungkan latar belakang pendidikan dengan kontribusinya)\n",
            "\n",
            "2. **Apa saja tantangan yang dihadapi Habibie dalam membangun industri kedirgantaraan nasional, mengingat Indonesia pada saat itu belum memiliki fondasi yang kuat di bidang tersebut?** (Menganalisis konteks dan tantangan)\n",
            "\n",
            "3. **Selain N-250, apa saja proyek atau program penting lain yang diinisiasi Habibie dalam mengembangkan industri dirgantara Indonesia? Bagaimana keberlanjutan program-program tersebut setelah Habibie tidak lagi memimpin?** (Menggali kontribusi di luar N-250 dan dampak jangka panjang)\n",
            "\n",
            "4. **Bagaimana Habibie mengaplikasikan ilmu dan pengalamannya yang diperoleh di Jerman untuk membangun industri kedirgantaraan di Indonesia?  Apa adaptasi yang perlu dilakukan mengingat perbedaan konteks kedua negara?** (Membandingkan dan menganalisis transfer pengetahuan & teknologi)\n",
            "\n",
            "5. **Bagaimana peran Habibie dalam mendorong transfer teknologi dan pengembangan sumber daya manusia di bidang kedirgantaraan di Indonesia?** (Menilai dampaknya terhadap pengembangan SDM)\n",
            "\n",
            "6. **Bagaimana visi Habibie tentang kemandirian teknologi Indonesia, khususnya di bidang kedirgantaraan, dan apa strategi yang ia terapkan untuk mencapai visi tersebut?** (Menganalisis visi dan strategi)\n",
            "\n",
            "7. **Apa dampak signifikan dari pengembangan pesawat N-250 terhadap kemajuan teknologi dan ekonomi Indonesia?** (Menganalisis dampak ekonomi dan teknologi)\n",
            "\n",
            "8. **Bagaimana kondisi geopolitik dan ekonomi global pada tahun 1970-an mempengaruhi keputusan Habibie untuk kembali ke Indonesia dan membangun industri kedirgantaraan?** (Menganalisis konteks global)\n",
            "\n",
            "9. **Apa saja kritik atau kontroversi yang terkait dengan kebijakan dan program Habibie dalam pengembangan industri kedirgantaraan nasional? Bagaimana Habibie menanggapi kritik tersebut?** (Mengevaluasi secara kritis)\n",
            "\n",
            "10. **Bagaimana warisan Habibie dalam bidang kedirgantaraan  mempengaruhi perkembangan industri dan teknologi penerbangan di Indonesia saat ini?** (Menganalisis dampak jangka panjang dan warisan)\n",
            "\n"
          ]
        }
      ],
      "source": [
        "generated_questions = generate_questions(relevant_texts[0])\n",
        "\n",
        "print(generated_questions)\n"
      ]
    },
    {
      "cell_type": "markdown",
      "metadata": {
        "id": "9YKnz4s3K1-5"
      },
      "source": [
        "# Teks 6 Halaman"
      ]
    },
    {
      "cell_type": "markdown",
      "metadata": {
        "id": "NkH55tBwK1-6"
      },
      "source": [
        "## Extract Text"
      ]
    },
    {
      "cell_type": "code",
      "execution_count": 17,
      "metadata": {
        "id": "e_RyScK7K1-6"
      },
      "outputs": [],
      "source": [
        "import PyPDF2\n",
        "\n",
        "def extract_text_from_pdf(pdf_path):\n",
        "    with open(pdf_path, \"rb\") as file:\n",
        "        reader = PyPDF2.PdfReader(file)\n",
        "        text = \" \".join([page.extract_text() for page in reader.pages if page.extract_text()])\n",
        "    return text\n"
      ]
    },
    {
      "cell_type": "code",
      "execution_count": 18,
      "metadata": {
        "id": "CbbV46dFK1-7"
      },
      "outputs": [],
      "source": [
        "# # Contoh dokumen 6 halaman\n",
        "pdf_text = extract_text_from_pdf(\"Dokumen Biografi/Biografi RA Kartini.pdf\")"
      ]
    },
    {
      "cell_type": "markdown",
      "metadata": {
        "id": "-YvhGhoIK1-8"
      },
      "source": [
        "## Embedding Text"
      ]
    },
    {
      "cell_type": "code",
      "execution_count": 19,
      "metadata": {
        "id": "v3l7XdfUK1--"
      },
      "outputs": [],
      "source": [
        "from sentence_transformers import SentenceTransformer\n",
        "\n",
        "embedding_model = SentenceTransformer(\"sentence-transformers/all-mpnet-base-v2\")\n",
        "\n",
        "def embed_text(text):\n",
        "    return embedding_model.encode([text])[0]\n"
      ]
    },
    {
      "cell_type": "markdown",
      "metadata": {
        "id": "bjn5puh9K1-_"
      },
      "source": [
        "## Sparate into Chuncks"
      ]
    },
    {
      "cell_type": "code",
      "execution_count": 20,
      "metadata": {
        "id": "F9AvLCRFK1_C"
      },
      "outputs": [],
      "source": [
        "import nltk\n",
        "from nltk.tokenize import sent_tokenize\n",
        "\n",
        "def chunk_text(text, chunk_size=3):\n",
        "    sentences = sent_tokenize(text)\n",
        "    chunks = [\" \".join(sentences[i:i+chunk_size]) for i in range(0, len(sentences), chunk_size)]\n",
        "    return chunks\n",
        "\n",
        "pdf_chunks = chunk_text(pdf_text, chunk_size=3)\n"
      ]
    },
    {
      "cell_type": "markdown",
      "metadata": {
        "id": "MrDn_muKK1_D"
      },
      "source": [
        "## Save Embedding to FAISS"
      ]
    },
    {
      "cell_type": "code",
      "execution_count": 21,
      "metadata": {
        "id": "3liaaH7_K1_D"
      },
      "outputs": [],
      "source": [
        "import faiss\n",
        "import numpy as np\n",
        "\n",
        "dim = 768\n",
        "index = faiss.IndexFlatL2(dim)\n",
        "\n",
        "embeddings = np.array([embed_text(chunk) for chunk in pdf_chunks], dtype=np.float32)\n",
        "index.add(embeddings)\n"
      ]
    },
    {
      "cell_type": "markdown",
      "metadata": {
        "id": "vtqvCmH4K1_E"
      },
      "source": [
        "## Modifikasi search_similar() untuk Mencari Chunk Relevan"
      ]
    },
    {
      "cell_type": "code",
      "execution_count": 22,
      "metadata": {
        "id": "tBqWCc3ZK1_F"
      },
      "outputs": [],
      "source": [
        "def search_similar(query, top_k=3):\n",
        "    query_embedding = np.array([embed_text(query)], dtype=np.float32)\n",
        "    distances, indices = index.search(query_embedding, top_k)\n",
        "    return [pdf_chunks[i] for i in indices[0]]\n"
      ]
    },
    {
      "cell_type": "markdown",
      "metadata": {
        "id": "kC91F6KfK1_F"
      },
      "source": [
        "## Generate Question Example"
      ]
    },
    {
      "cell_type": "code",
      "execution_count": 23,
      "metadata": {
        "id": "pj8bpimwK1_F"
      },
      "outputs": [],
      "source": [
        "import google.generativeai as genai\n",
        "genai.configure(api_key=\"YOUR_API_KEY\")\n",
        "\n",
        "def generate_questions(text):\n",
        "    prompt = f\"\"\"\n",
        "    Buatlah 10 pertanyaan berdasarkan biografi teks berikut:\n",
        "    ---\n",
        "    {text}\n",
        "    \"\"\"\n",
        "    model = genai.GenerativeModel(\"gemini-1.5-pro-latest\")\n",
        "    response = model.generate_content(prompt)\n",
        "    return response.text\n"
      ]
    },
    {
      "cell_type": "code",
      "execution_count": 24,
      "metadata": {
        "id": "nX7CdvXfK1_G"
      },
      "outputs": [],
      "source": [
        "pdf_chunks = chunk_text(pdf_text, chunk_size=3)"
      ]
    },
    {
      "cell_type": "code",
      "execution_count": 25,
      "metadata": {
        "colab": {
          "base_uri": "https://localhost:8080/"
        },
        "id": "HqMCpQjNK1_G",
        "outputId": "9ad00340-4263-41b0-e516-1f2f402df99e"
      },
      "outputs": [
        {
          "output_type": "stream",
          "name": "stdout",
          "text": [
            "Teks relevan: Ia juga mengungkapkan dalam tulisannya bahwa ada \n",
            "banyak kendala yang dihadapi perempuan pribumi khususnya di Jawa agar bisa lebih maju. Kartini menuliskan penderitaa n perempuan di jawa seperti harus dipingit, tidak bebas dalam \n",
            "menuntuk ilmu atau belajar, serta adanya adat yang mengekang kebebasan perempuan. Cita-cita luhur R.A Kartini adalah ia ingin melihat perempuan pribumi dapat menuntut ilmu dan \n",
            "belajar seperti s ekarang ini.\n"
          ]
        }
      ],
      "source": [
        "relevant_texts = search_similar(\"Bagaimana pandangan beliau terhadap adat istiadat Jawa dan peran perempuan dalam masyarakatnya?\", top_k=1)\n",
        "\n",
        "print(\"Teks relevan:\", relevant_texts[0])"
      ]
    },
    {
      "cell_type": "code",
      "execution_count": 26,
      "metadata": {
        "colab": {
          "base_uri": "https://localhost:8080/",
          "height": 315
        },
        "id": "dk11WqcYK1_H",
        "outputId": "b6be0f73-90ea-4666-ff93-0b3a0719fd55"
      },
      "outputs": [
        {
          "output_type": "stream",
          "name": "stdout",
          "text": [
            "Berikut 10 pertanyaan berbobot berdasarkan teks biografi R.A. Kartini tersebut:\n",
            "\n",
            "1.  Bagaimana konteks sosial-politik pada masa R.A. Kartini mempengaruhi pandangan dan perjuangannya terkait emansipasi perempuan?\n",
            "2.  Selain pingitan, kurangnya akses pendidikan, dan adat yang mengekang, apa saja kendala lain yang dihadapi perempuan pribumi di Jawa pada masa itu menurut tulisan Kartini?  Jelaskan dengan contoh.\n",
            "3.  Bagaimana R.A. Kartini memperjuangkan cita-citanya agar perempuan pribumi dapat menuntut ilmu setara laki-laki?  Metode apa yang ia gunakan?\n",
            "4.  Seberapa besar pengaruh tulisan-tulisan R.A. Kartini dalam mendorong perubahan sosial terkait hak-hak perempuan di Indonesia? Berikan contoh konkret.\n",
            "5.  Apa relevansi pemikiran R.A. Kartini dengan kondisi perempuan Indonesia saat ini? Apakah cita-citanya sudah sepenuhnya tercapai?\n",
            "6.  Bagaimana perspektif kita dalam memaknai \"kebebasan\" yang diperjuangkan Kartini di era modern yang penuh tantangan baru bagi perempuan?\n",
            "7.  Bagaimana kita dapat meneruskan perjuangan R.A. Kartini dalam konteks kekinian, mengingat masih adanya diskriminasi dan ketidakadilan gender di berbagai bidang?\n",
            "8.  Apa saja kritik terhadap pemikiran dan gerakan R.A. Kartini, dan bagaimana kita dapat melihatnya secara objektif?\n",
            "9.  Bandingkan perjuangan R.A. Kartini dengan tokoh emansipasi perempuan lain di Indonesia atau dunia. Apa persamaan dan perbedaannya?\n",
            "10.  Jika R.A. Kartini hidup di masa kini, isu apa yang menurut Anda akan menjadi fokus perjuangannya berkaitan dengan hak-hak perempuan?\n",
            "\n",
            "\n",
            "Pertanyaan-pertanyaan di atas dirancang untuk mendorong pemikiran kritis dan analisis mendalam tentang biografi R.A. Kartini, melampaui sekadar pemahaman tekstual.  Pertanyaan-pertanyaan tersebut juga menghubungkan perjuangan Kartini dengan konteks masa kini, mendorong pembaca untuk merefleksikan relevansi dan penerapannya di era modern.\n",
            "\n"
          ]
        }
      ],
      "source": [
        "generated_questions = generate_questions(relevant_texts[0])\n",
        "\n",
        "print(generated_questions)\n"
      ]
    },
    {
      "cell_type": "markdown",
      "metadata": {
        "id": "s8cZgNKdK1_I"
      },
      "source": [
        "# Teks 17 halaman"
      ]
    },
    {
      "cell_type": "markdown",
      "metadata": {
        "id": "aiaKYQwFK1_I"
      },
      "source": [
        "## Extract Text"
      ]
    },
    {
      "cell_type": "code",
      "execution_count": 27,
      "metadata": {
        "id": "1a5umjx2K1_J"
      },
      "outputs": [],
      "source": [
        "import PyPDF2\n",
        "\n",
        "def extract_text_from_pdf(pdf_path):\n",
        "    with open(pdf_path, \"rb\") as file:\n",
        "        reader = PyPDF2.PdfReader(file)\n",
        "        text = \" \".join([page.extract_text() for page in reader.pages if page.extract_text()])\n",
        "    return text\n"
      ]
    },
    {
      "cell_type": "code",
      "execution_count": 29,
      "metadata": {
        "id": "X5WfNazEK1_J"
      },
      "outputs": [],
      "source": [
        "# # Contoh dokumen 17 halaman\n",
        "pdf_text = extract_text_from_pdf(\"Dokumen Biografi/Biografi6.pdf\")"
      ]
    },
    {
      "cell_type": "markdown",
      "metadata": {
        "id": "Ji432aPFK1_K"
      },
      "source": [
        "## Embedding Text"
      ]
    },
    {
      "cell_type": "code",
      "execution_count": 30,
      "metadata": {
        "id": "br6BOCgyK1_W"
      },
      "outputs": [],
      "source": [
        "from sentence_transformers import SentenceTransformer\n",
        "\n",
        "embedding_model = SentenceTransformer(\"sentence-transformers/all-mpnet-base-v2\")\n",
        "\n",
        "def embed_text(text):\n",
        "    return embedding_model.encode([text])[0]\n"
      ]
    },
    {
      "cell_type": "markdown",
      "metadata": {
        "id": "hgWoFJmqK1_X"
      },
      "source": [
        "## Sparate into Chuncks"
      ]
    },
    {
      "cell_type": "code",
      "execution_count": 31,
      "metadata": {
        "id": "-g6dlGYyK1_X"
      },
      "outputs": [],
      "source": [
        "import nltk\n",
        "from nltk.tokenize import sent_tokenize\n",
        "\n",
        "def chunk_text(text, chunk_size=3):\n",
        "    sentences = sent_tokenize(text)\n",
        "    chunks = [\" \".join(sentences[i:i+chunk_size]) for i in range(0, len(sentences), chunk_size)]\n",
        "    return chunks\n",
        "\n",
        "pdf_chunks = chunk_text(pdf_text, chunk_size=3)\n"
      ]
    },
    {
      "cell_type": "markdown",
      "metadata": {
        "id": "4jjYToQSK1_Y"
      },
      "source": [
        "## Save Embedding to FAISS"
      ]
    },
    {
      "cell_type": "code",
      "execution_count": 32,
      "metadata": {
        "id": "aooeG6gYK1_Y"
      },
      "outputs": [],
      "source": [
        "import faiss\n",
        "import numpy as np\n",
        "\n",
        "dim = 768\n",
        "index = faiss.IndexFlatL2(dim)\n",
        "\n",
        "embeddings = np.array([embed_text(chunk) for chunk in pdf_chunks], dtype=np.float32)\n",
        "index.add(embeddings)\n"
      ]
    },
    {
      "cell_type": "markdown",
      "metadata": {
        "id": "R01hmIknK1_Z"
      },
      "source": [
        "## Modifikasi search_similar() untuk Mencari Chunk Relevan"
      ]
    },
    {
      "cell_type": "code",
      "execution_count": 33,
      "metadata": {
        "id": "KdiOOI97K1_Z"
      },
      "outputs": [],
      "source": [
        "def search_similar(query, top_k=3):\n",
        "    query_embedding = np.array([embed_text(query)], dtype=np.float32)\n",
        "    distances, indices = index.search(query_embedding, top_k)\n",
        "    return [pdf_chunks[i] for i in indices[0]]\n"
      ]
    },
    {
      "cell_type": "markdown",
      "metadata": {
        "id": "_gRUjc3nK1_Z"
      },
      "source": [
        "## Generate Question Example"
      ]
    },
    {
      "cell_type": "code",
      "execution_count": 40,
      "metadata": {
        "id": "MUXI6u6oK1_a"
      },
      "outputs": [],
      "source": [
        "import google.generativeai as genai\n",
        "genai.configure(api_key=\"YOUR_API_KEY\")\n",
        "\n",
        "def generate_questions(text):\n",
        "    prompt = f\"\"\"\n",
        "    Buatlah 10 pertanyaan berdasarkan biografi teks berikut:\n",
        "    ---\n",
        "    {text}\n",
        "    \"\"\"\n",
        "    model = genai.GenerativeModel(\"gemini-1.5-pro-latest\")\n",
        "    response = model.generate_content(prompt)\n",
        "    return response.text\n"
      ]
    },
    {
      "cell_type": "code",
      "execution_count": 41,
      "metadata": {
        "id": "6QtE7fdQK1_a"
      },
      "outputs": [],
      "source": [
        "pdf_chunks = chunk_text(pdf_text, chunk_size=3)"
      ]
    },
    {
      "cell_type": "code",
      "execution_count": 44,
      "metadata": {
        "colab": {
          "base_uri": "https://localhost:8080/"
        },
        "id": "GEb-SCaHK1_b",
        "outputId": "e952e137-ca7f-4298-d925-f127d762c9b5"
      },
      "outputs": [
        {
          "output_type": "stream",
          "name": "stdout",
          "text": [
            "Teks relevan: Dakwah secara murni untuk menegakkannya, membangkitkan hasrat para\n",
            "aktivis untuk meraih tujuan ini, menjelaskan secara terperinci mengenai\n",
            "masyarakat Islami pertama yang didirikan oleh Rasulullah SAW. Di atas nash -\n",
            "nash al-Qur’an, arahan -arahan dan manhaj -manhajnya sebagai be ntuk nyata\n",
            "yang bias dijadikan teladan, mi sal dan contoh bagi para aktivis. E.Metode Penafsirannya\n",
            "Sayyid Quthb menggunakan metode tahlili, suatu metode tafsir yang\n",
            "bermaksud menjelaskan kandungan ayat -ayat al-Qur’an dan seluruh aspeknya.\n"
          ]
        }
      ],
      "source": [
        "relevant_texts = search_similar(\"Apa kontribusi utama beliau dalam dunia pemikiran Islam modern?\", top_k=1)\n",
        "\n",
        "print(\"Teks relevan:\", relevant_texts[0])"
      ]
    },
    {
      "cell_type": "code",
      "execution_count": 45,
      "metadata": {
        "colab": {
          "base_uri": "https://localhost:8080/",
          "height": 315
        },
        "id": "B09wjp_-K1_b",
        "outputId": "9651fe77-38ea-4a94-d2fa-8aeb037d2c56"
      },
      "outputs": [
        {
          "output_type": "stream",
          "name": "stdout",
          "text": [
            "Berikut 10 pertanyaan berbobot berdasarkan teks biografi Sayyid Qutb tersebut:\n",
            "\n",
            "1.  Bagaimana konsep \"masyarakat Islami pertama\" yang dirujuk Sayyid Qutb mempengaruhi pandangannya tentang aktivisme Islam modern? Jelaskan dengan contoh konkret.\n",
            "2.  Apa implikasi praktis dari penekanan Sayyid Qutb pada \"nash-nash al-Qur'an, arahan-arahan, dan manhaj-manhaj Rasulullah\" sebagai model bagi aktivis? Bagaimana hal ini diterjemahkan dalam konteks sosial dan politik?\n",
            "3.  Mengingat konteks historis Sayyid Qutb, bagaimana metode tahlili yang ia gunakan dalam menafsirkan Al-Qur'an berkontribusi pada pemahamannya tentang dakwah dan aktivisme?\n",
            "4.  Apa kelebihan dan kekurangan penggunaan metode tahlili dalam menafsirkan Al-Qur'an untuk konteks kekinian, khususnya dalam kaitannya dengan gerakan-gerakan Islam?\n",
            "5.  Bagaimana pandangan Sayyid Qutb tentang \"membangkitkan hasrat para aktivis\" dapat diinterpretasikan secara kritis, mengingat potensi penafsiran yang mengarah pada ekstremisme?\n",
            "6.  Bagaimana gagasan Sayyid Qutb tentang \"dakwah secara murni\"  berkaitan dengan dinamika sosial dan politik pada masanya?  Apakah terdapat kontradiksi atau tension dalam penerapan konsep ini?\n",
            "7.  Sejauh mana pengaruh metode tafsir Sayyid Qutb terhadap perkembangan pemikiran Islam kontemporer, khususnya dalam wacana mengenai negara Islam dan jihad?\n",
            "8.  Bagaimana relevansi pemikiran Sayyid Qutb tentang aktivisme Islam di era globalisasi ini, mengingat tantangan dan perubahan sosial-politik yang terjadi?\n",
            "9.  Apa kritik utama terhadap pemikiran Sayyid Qutb, khususnya terkait penafsirannya terhadap Al-Qur'an dan konsep masyarakat Islam?\n",
            "10. Bagaimana kita dapat mengambil hikmah dari pemikiran Sayyid Qutb tentang dakwah dan aktivisme Islam tanpa terjebak dalam interpretasi yang sempit dan berpotensi menimbulkan kekerasan?\n",
            "\n",
            "\n",
            "Pertanyaan-pertanyaan ini dirancang untuk mendorong pemikiran kritis dan analisis mendalam terhadap pemikiran Sayyid Qutb,  melampaui sekadar pemaparan informasi yang ada dalam teks biografi singkat tersebut.\n",
            "\n"
          ]
        }
      ],
      "source": [
        "generated_questions = generate_questions(relevant_texts[0])\n",
        "\n",
        "print(generated_questions)\n"
      ]
    },
    {
      "cell_type": "markdown",
      "metadata": {
        "id": "zaSlXiZjK1_f"
      },
      "source": [
        "# Teks 216 Halaman"
      ]
    },
    {
      "cell_type": "markdown",
      "metadata": {
        "id": "MGZydDypK1_g"
      },
      "source": [
        "## Extract Text"
      ]
    },
    {
      "cell_type": "code",
      "execution_count": 46,
      "metadata": {
        "id": "m4ktc3OcK1_h"
      },
      "outputs": [],
      "source": [
        "import PyPDF2\n",
        "\n",
        "def extract_text_from_pdf(pdf_path):\n",
        "    with open(pdf_path, \"rb\") as file:\n",
        "        reader = PyPDF2.PdfReader(file)\n",
        "        text = \" \".join([page.extract_text() for page in reader.pages if page.extract_text()])\n",
        "    return text\n"
      ]
    },
    {
      "cell_type": "code",
      "execution_count": 47,
      "metadata": {
        "id": "t9ZDwYNuK1_i"
      },
      "outputs": [],
      "source": [
        "# # Contoh dokumen 216 halaman\n",
        "pdf_text = extract_text_from_pdf(\"Dokumen Biografi/Buku Biografi - Ahmad Dahlan.pdf.pdf\")"
      ]
    },
    {
      "cell_type": "markdown",
      "metadata": {
        "id": "HvqxA3zVK1_j"
      },
      "source": [
        "## Embedding Text"
      ]
    },
    {
      "cell_type": "code",
      "execution_count": 48,
      "metadata": {
        "id": "71UjQXTrK1_k"
      },
      "outputs": [],
      "source": [
        "from sentence_transformers import SentenceTransformer\n",
        "\n",
        "embedding_model = SentenceTransformer(\"sentence-transformers/all-mpnet-base-v2\")\n",
        "\n",
        "def embed_text(text):\n",
        "    return embedding_model.encode([text])[0]\n"
      ]
    },
    {
      "cell_type": "markdown",
      "metadata": {
        "id": "uJFldU16K1_k"
      },
      "source": [
        "## Sparate into Chuncks"
      ]
    },
    {
      "cell_type": "code",
      "execution_count": 49,
      "metadata": {
        "id": "5cyQSPrdK1_l"
      },
      "outputs": [],
      "source": [
        "import nltk\n",
        "from nltk.tokenize import sent_tokenize\n",
        "\n",
        "def chunk_text(text, chunk_size=3):\n",
        "    sentences = sent_tokenize(text)\n",
        "    chunks = [\" \".join(sentences[i:i+chunk_size]) for i in range(0, len(sentences), chunk_size)]\n",
        "    return chunks\n",
        "\n",
        "pdf_chunks = chunk_text(pdf_text, chunk_size=3)\n"
      ]
    },
    {
      "cell_type": "markdown",
      "metadata": {
        "id": "OVWSbISLK1_l"
      },
      "source": [
        "## Save Embedding to FAISS"
      ]
    },
    {
      "cell_type": "code",
      "execution_count": 50,
      "metadata": {
        "id": "pOHsoGimK1_m"
      },
      "outputs": [],
      "source": [
        "import faiss\n",
        "import numpy as np\n",
        "\n",
        "dim = 768\n",
        "index = faiss.IndexFlatL2(dim)\n",
        "\n",
        "embeddings = np.array([embed_text(chunk) for chunk in pdf_chunks], dtype=np.float32)\n",
        "index.add(embeddings)\n"
      ]
    },
    {
      "cell_type": "markdown",
      "metadata": {
        "id": "798LkzcNK1_m"
      },
      "source": [
        "## Modifikasi search_similar() untuk Mencari Chunk Relevan"
      ]
    },
    {
      "cell_type": "code",
      "execution_count": 51,
      "metadata": {
        "id": "2LQQBM8wK1_n"
      },
      "outputs": [],
      "source": [
        "def search_similar(query, top_k=3):\n",
        "    query_embedding = np.array([embed_text(query)], dtype=np.float32)\n",
        "    distances, indices = index.search(query_embedding, top_k)\n",
        "    return [pdf_chunks[i] for i in indices[0]]\n"
      ]
    },
    {
      "cell_type": "markdown",
      "metadata": {
        "id": "RAu27kLsK1_n"
      },
      "source": [
        "## Generate Question Example"
      ]
    },
    {
      "cell_type": "code",
      "execution_count": 52,
      "metadata": {
        "id": "8S7_uhjlK1_o"
      },
      "outputs": [],
      "source": [
        "import google.generativeai as genai\n",
        "genai.configure(api_key=\"YOUR_API_KEY\")\n",
        "\n",
        "def generate_questions(text):\n",
        "    prompt = f\"\"\"\n",
        "    Buatlah 10 pertanyaan berdasarkan biografi teks berikut:\n",
        "    ---\n",
        "    {text}\n",
        "    \"\"\"\n",
        "    model = genai.GenerativeModel(\"gemini-1.5-pro-latest\")\n",
        "    response = model.generate_content(prompt)\n",
        "    return response.text\n"
      ]
    },
    {
      "cell_type": "code",
      "execution_count": 53,
      "metadata": {
        "id": "DYHahPxjK1_o"
      },
      "outputs": [],
      "source": [
        "pdf_chunks = chunk_text(pdf_text, chunk_size=3)"
      ]
    },
    {
      "cell_type": "code",
      "execution_count": 54,
      "metadata": {
        "colab": {
          "base_uri": "https://localhost:8080/"
        },
        "id": "6mXX4Z_4K1_s",
        "outputId": "98355e6a-00d8-43ef-b9f4-0ec3a3d133d5"
      },
      "outputs": [
        {
          "output_type": "stream",
          "name": "stdout",
          "text": [
            "Teks relevan: Ahmad Dahlan \n",
            "dengan tema “K.H. Ahmad Dahlan Perintis Modernisasi di \n",
            "Indonesia” dalam sub-tema “Pemikiran-Pemikiran K.H. Ahmad Dahlan tentang Pembaruan Ajaran Agama Islam” \n",
            "tanggal 20 Oktober sd 20 Nopember 2015 di Jakarta.\n"
          ]
        }
      ],
      "source": [
        "relevant_texts = search_similar(\"Apa prinsip utama yang dipegang dalam pembaruan pendidikan Islam di Indonesia?\", top_k=1)\n",
        "\n",
        "print(\"Teks relevan:\", relevant_texts[0])"
      ]
    },
    {
      "cell_type": "code",
      "execution_count": 55,
      "metadata": {
        "colab": {
          "base_uri": "https://localhost:8080/",
          "height": 263
        },
        "id": "FV8Bbb9AK1_u",
        "outputId": "7208bae1-3d60-4459-cbf7-656d30bdd0bc"
      },
      "outputs": [
        {
          "output_type": "stream",
          "name": "stdout",
          "text": [
            "Berikut 10 pertanyaan berbobot berdasarkan teks biografi singkat K.H. Ahmad Dahlan dengan tema \"K.H. Ahmad Dahlan Perintis Modernisasi di Indonesia\" dan sub-tema \"Pemikiran-Pemikiran K.H. Ahmad Dahlan tentang Pembaruan Ajaran Agama Islam\":\n",
            "\n",
            "1.  Bagaimana pemikiran K.H. Ahmad Dahlan tentang taklid buta terhadap ulama terdahulu mempengaruhi upaya pembaruan Islam di Indonesia, dan apa relevansinya dengan konteks Indonesia modern saat ini?\n",
            "2.  K.H. Ahmad Dahlan dikenal mengintegrasikan ilmu agama dengan ilmu umum.  Bagaimana strategi beliau dalam  mewujudkan integrasi ini, dan apa dampaknya terhadap perkembangan pendidikan Islam di Indonesia?\n",
            "3.  Dalam konteks pembaruan ajaran Islam, apa perbedaan signifikan antara pendekatan yang digunakan K.H. Ahmad Dahlan dengan tokoh pembaru lainnya di Nusantara pada masa itu, dan apa kontribusi unik beliau?\n",
            "4.  Bagaimana K.H. Ahmad Dahlan merespons tantangan dan resistensi dari kelompok-kelompok tradisional yang menentang pemikiran pembaruannya, dan pelajaran apa yang bisa dipetik dari strategi beliau dalam menghadapi konflik tersebut?\n",
            "5.  Apa saja pemikiran K.H. Ahmad Dahlan yang dianggap kontroversial pada masanya, dan bagaimana pemikiran tersebut  berkembang dan diterima di masyarakat Indonesia hingga saat ini?\n",
            "6.  Bagaimana konteks sosial-politik pada masa K.H. Ahmad Dahlan mempengaruhi pemikiran-pemikirannya tentang pembaruan Islam, dan bagaimana konteks tersebut membentuk gerakan Muhammadiyah?\n",
            "7.  Sejauh mana pemikiran K.H. Ahmad Dahlan tentang pemberdayaan ekonomi umat relevan dengan kondisi ekonomi Indonesia saat ini, dan bagaimana gagasan beliau dapat diimplementasikan untuk mengatasi kesenjangan ekonomi?\n",
            "8.  Bagaimana K.H. Ahmad Dahlan memandang peran perempuan dalam masyarakat dan agama, dan apa sumbangsih beliau dalam memajukan pendidikan dan peran perempuan di Indonesia?\n",
            "9.  Apa warisan intelektual utama K.H. Ahmad Dahlan yang masih relevan dan perlu dikaji ulang dalam menghadapi tantangan kontemporer, seperti ekstremisme, intoleransi, dan globalisasi?\n",
            "10. Bagaimana pameran dengan tema dan sub-tema tersebut dapat berkontribusi pada pemahaman masyarakat tentang pemikiran K.H. Ahmad Dahlan dan relevansinya dengan Indonesia modern, serta apa saran Anda untuk pameran serupa di masa depan?\n",
            "\n"
          ]
        }
      ],
      "source": [
        "generated_questions = generate_questions(relevant_texts[0])\n",
        "\n",
        "print(generated_questions)\n"
      ]
    }
  ],
  "metadata": {
    "kernelspec": {
      "display_name": "Python 3",
      "language": "python",
      "name": "python3"
    },
    "language_info": {
      "codemirror_mode": {
        "name": "ipython",
        "version": 3
      },
      "file_extension": ".py",
      "mimetype": "text/x-python",
      "name": "python",
      "nbconvert_exporter": "python",
      "pygments_lexer": "ipython3",
      "version": "3.11.2"
    },
    "colab": {
      "provenance": [],
      "collapsed_sections": [
        "iRbkPYz2K1-i",
        "9YKnz4s3K1-5"
      ]
    },
    "widgets": {
      "application/vnd.jupyter.widget-state+json": {
        "2f22f735dbc346f6b29e3ebe578bc782": {
          "model_module": "@jupyter-widgets/controls",
          "model_name": "HBoxModel",
          "model_module_version": "1.5.0",
          "state": {
            "_dom_classes": [],
            "_model_module": "@jupyter-widgets/controls",
            "_model_module_version": "1.5.0",
            "_model_name": "HBoxModel",
            "_view_count": null,
            "_view_module": "@jupyter-widgets/controls",
            "_view_module_version": "1.5.0",
            "_view_name": "HBoxView",
            "box_style": "",
            "children": [
              "IPY_MODEL_63538432536b46a2b19ebe3c29d718d9",
              "IPY_MODEL_66bc70c34e1c4f08acb51e0ca3a5ee80",
              "IPY_MODEL_6c39f879d9b4497c8a22a6d3004ada95"
            ],
            "layout": "IPY_MODEL_306bb43f88da46829ed8607fdc496910"
          }
        },
        "63538432536b46a2b19ebe3c29d718d9": {
          "model_module": "@jupyter-widgets/controls",
          "model_name": "HTMLModel",
          "model_module_version": "1.5.0",
          "state": {
            "_dom_classes": [],
            "_model_module": "@jupyter-widgets/controls",
            "_model_module_version": "1.5.0",
            "_model_name": "HTMLModel",
            "_view_count": null,
            "_view_module": "@jupyter-widgets/controls",
            "_view_module_version": "1.5.0",
            "_view_name": "HTMLView",
            "description": "",
            "description_tooltip": null,
            "layout": "IPY_MODEL_4e480dcf6f064c67a9fc9ab608ac0bf0",
            "placeholder": "​",
            "style": "IPY_MODEL_bcff2e5338ae43bcbb6c60b59dacbcc4",
            "value": "modules.json: 100%"
          }
        },
        "66bc70c34e1c4f08acb51e0ca3a5ee80": {
          "model_module": "@jupyter-widgets/controls",
          "model_name": "FloatProgressModel",
          "model_module_version": "1.5.0",
          "state": {
            "_dom_classes": [],
            "_model_module": "@jupyter-widgets/controls",
            "_model_module_version": "1.5.0",
            "_model_name": "FloatProgressModel",
            "_view_count": null,
            "_view_module": "@jupyter-widgets/controls",
            "_view_module_version": "1.5.0",
            "_view_name": "ProgressView",
            "bar_style": "success",
            "description": "",
            "description_tooltip": null,
            "layout": "IPY_MODEL_80deac9767e94484a0510c7e01f4c936",
            "max": 349,
            "min": 0,
            "orientation": "horizontal",
            "style": "IPY_MODEL_49898998c89147ee878ae3dda1da556e",
            "value": 349
          }
        },
        "6c39f879d9b4497c8a22a6d3004ada95": {
          "model_module": "@jupyter-widgets/controls",
          "model_name": "HTMLModel",
          "model_module_version": "1.5.0",
          "state": {
            "_dom_classes": [],
            "_model_module": "@jupyter-widgets/controls",
            "_model_module_version": "1.5.0",
            "_model_name": "HTMLModel",
            "_view_count": null,
            "_view_module": "@jupyter-widgets/controls",
            "_view_module_version": "1.5.0",
            "_view_name": "HTMLView",
            "description": "",
            "description_tooltip": null,
            "layout": "IPY_MODEL_e4e014fc2ceb4878873eb9805837c69a",
            "placeholder": "​",
            "style": "IPY_MODEL_9e711e34c095401ea4c857c4b068dfaa",
            "value": " 349/349 [00:00&lt;00:00, 25.9kB/s]"
          }
        },
        "306bb43f88da46829ed8607fdc496910": {
          "model_module": "@jupyter-widgets/base",
          "model_name": "LayoutModel",
          "model_module_version": "1.2.0",
          "state": {
            "_model_module": "@jupyter-widgets/base",
            "_model_module_version": "1.2.0",
            "_model_name": "LayoutModel",
            "_view_count": null,
            "_view_module": "@jupyter-widgets/base",
            "_view_module_version": "1.2.0",
            "_view_name": "LayoutView",
            "align_content": null,
            "align_items": null,
            "align_self": null,
            "border": null,
            "bottom": null,
            "display": null,
            "flex": null,
            "flex_flow": null,
            "grid_area": null,
            "grid_auto_columns": null,
            "grid_auto_flow": null,
            "grid_auto_rows": null,
            "grid_column": null,
            "grid_gap": null,
            "grid_row": null,
            "grid_template_areas": null,
            "grid_template_columns": null,
            "grid_template_rows": null,
            "height": null,
            "justify_content": null,
            "justify_items": null,
            "left": null,
            "margin": null,
            "max_height": null,
            "max_width": null,
            "min_height": null,
            "min_width": null,
            "object_fit": null,
            "object_position": null,
            "order": null,
            "overflow": null,
            "overflow_x": null,
            "overflow_y": null,
            "padding": null,
            "right": null,
            "top": null,
            "visibility": null,
            "width": null
          }
        },
        "4e480dcf6f064c67a9fc9ab608ac0bf0": {
          "model_module": "@jupyter-widgets/base",
          "model_name": "LayoutModel",
          "model_module_version": "1.2.0",
          "state": {
            "_model_module": "@jupyter-widgets/base",
            "_model_module_version": "1.2.0",
            "_model_name": "LayoutModel",
            "_view_count": null,
            "_view_module": "@jupyter-widgets/base",
            "_view_module_version": "1.2.0",
            "_view_name": "LayoutView",
            "align_content": null,
            "align_items": null,
            "align_self": null,
            "border": null,
            "bottom": null,
            "display": null,
            "flex": null,
            "flex_flow": null,
            "grid_area": null,
            "grid_auto_columns": null,
            "grid_auto_flow": null,
            "grid_auto_rows": null,
            "grid_column": null,
            "grid_gap": null,
            "grid_row": null,
            "grid_template_areas": null,
            "grid_template_columns": null,
            "grid_template_rows": null,
            "height": null,
            "justify_content": null,
            "justify_items": null,
            "left": null,
            "margin": null,
            "max_height": null,
            "max_width": null,
            "min_height": null,
            "min_width": null,
            "object_fit": null,
            "object_position": null,
            "order": null,
            "overflow": null,
            "overflow_x": null,
            "overflow_y": null,
            "padding": null,
            "right": null,
            "top": null,
            "visibility": null,
            "width": null
          }
        },
        "bcff2e5338ae43bcbb6c60b59dacbcc4": {
          "model_module": "@jupyter-widgets/controls",
          "model_name": "DescriptionStyleModel",
          "model_module_version": "1.5.0",
          "state": {
            "_model_module": "@jupyter-widgets/controls",
            "_model_module_version": "1.5.0",
            "_model_name": "DescriptionStyleModel",
            "_view_count": null,
            "_view_module": "@jupyter-widgets/base",
            "_view_module_version": "1.2.0",
            "_view_name": "StyleView",
            "description_width": ""
          }
        },
        "80deac9767e94484a0510c7e01f4c936": {
          "model_module": "@jupyter-widgets/base",
          "model_name": "LayoutModel",
          "model_module_version": "1.2.0",
          "state": {
            "_model_module": "@jupyter-widgets/base",
            "_model_module_version": "1.2.0",
            "_model_name": "LayoutModel",
            "_view_count": null,
            "_view_module": "@jupyter-widgets/base",
            "_view_module_version": "1.2.0",
            "_view_name": "LayoutView",
            "align_content": null,
            "align_items": null,
            "align_self": null,
            "border": null,
            "bottom": null,
            "display": null,
            "flex": null,
            "flex_flow": null,
            "grid_area": null,
            "grid_auto_columns": null,
            "grid_auto_flow": null,
            "grid_auto_rows": null,
            "grid_column": null,
            "grid_gap": null,
            "grid_row": null,
            "grid_template_areas": null,
            "grid_template_columns": null,
            "grid_template_rows": null,
            "height": null,
            "justify_content": null,
            "justify_items": null,
            "left": null,
            "margin": null,
            "max_height": null,
            "max_width": null,
            "min_height": null,
            "min_width": null,
            "object_fit": null,
            "object_position": null,
            "order": null,
            "overflow": null,
            "overflow_x": null,
            "overflow_y": null,
            "padding": null,
            "right": null,
            "top": null,
            "visibility": null,
            "width": null
          }
        },
        "49898998c89147ee878ae3dda1da556e": {
          "model_module": "@jupyter-widgets/controls",
          "model_name": "ProgressStyleModel",
          "model_module_version": "1.5.0",
          "state": {
            "_model_module": "@jupyter-widgets/controls",
            "_model_module_version": "1.5.0",
            "_model_name": "ProgressStyleModel",
            "_view_count": null,
            "_view_module": "@jupyter-widgets/base",
            "_view_module_version": "1.2.0",
            "_view_name": "StyleView",
            "bar_color": null,
            "description_width": ""
          }
        },
        "e4e014fc2ceb4878873eb9805837c69a": {
          "model_module": "@jupyter-widgets/base",
          "model_name": "LayoutModel",
          "model_module_version": "1.2.0",
          "state": {
            "_model_module": "@jupyter-widgets/base",
            "_model_module_version": "1.2.0",
            "_model_name": "LayoutModel",
            "_view_count": null,
            "_view_module": "@jupyter-widgets/base",
            "_view_module_version": "1.2.0",
            "_view_name": "LayoutView",
            "align_content": null,
            "align_items": null,
            "align_self": null,
            "border": null,
            "bottom": null,
            "display": null,
            "flex": null,
            "flex_flow": null,
            "grid_area": null,
            "grid_auto_columns": null,
            "grid_auto_flow": null,
            "grid_auto_rows": null,
            "grid_column": null,
            "grid_gap": null,
            "grid_row": null,
            "grid_template_areas": null,
            "grid_template_columns": null,
            "grid_template_rows": null,
            "height": null,
            "justify_content": null,
            "justify_items": null,
            "left": null,
            "margin": null,
            "max_height": null,
            "max_width": null,
            "min_height": null,
            "min_width": null,
            "object_fit": null,
            "object_position": null,
            "order": null,
            "overflow": null,
            "overflow_x": null,
            "overflow_y": null,
            "padding": null,
            "right": null,
            "top": null,
            "visibility": null,
            "width": null
          }
        },
        "9e711e34c095401ea4c857c4b068dfaa": {
          "model_module": "@jupyter-widgets/controls",
          "model_name": "DescriptionStyleModel",
          "model_module_version": "1.5.0",
          "state": {
            "_model_module": "@jupyter-widgets/controls",
            "_model_module_version": "1.5.0",
            "_model_name": "DescriptionStyleModel",
            "_view_count": null,
            "_view_module": "@jupyter-widgets/base",
            "_view_module_version": "1.2.0",
            "_view_name": "StyleView",
            "description_width": ""
          }
        },
        "e8288fbc36514ea9a0a8dcde3e72ceec": {
          "model_module": "@jupyter-widgets/controls",
          "model_name": "HBoxModel",
          "model_module_version": "1.5.0",
          "state": {
            "_dom_classes": [],
            "_model_module": "@jupyter-widgets/controls",
            "_model_module_version": "1.5.0",
            "_model_name": "HBoxModel",
            "_view_count": null,
            "_view_module": "@jupyter-widgets/controls",
            "_view_module_version": "1.5.0",
            "_view_name": "HBoxView",
            "box_style": "",
            "children": [
              "IPY_MODEL_a8ec8199b7754ffaa70837230409c96b",
              "IPY_MODEL_c6a4fededa5647d2a742558073ceaace",
              "IPY_MODEL_0ed97e34b1614cdab429fb2ca75faa19"
            ],
            "layout": "IPY_MODEL_f2ebd8e1d6d94862805dca2f8552a755"
          }
        },
        "a8ec8199b7754ffaa70837230409c96b": {
          "model_module": "@jupyter-widgets/controls",
          "model_name": "HTMLModel",
          "model_module_version": "1.5.0",
          "state": {
            "_dom_classes": [],
            "_model_module": "@jupyter-widgets/controls",
            "_model_module_version": "1.5.0",
            "_model_name": "HTMLModel",
            "_view_count": null,
            "_view_module": "@jupyter-widgets/controls",
            "_view_module_version": "1.5.0",
            "_view_name": "HTMLView",
            "description": "",
            "description_tooltip": null,
            "layout": "IPY_MODEL_54636efc32b8443fabd5f6791d2b6a18",
            "placeholder": "​",
            "style": "IPY_MODEL_61400759daca4b2b9397482c7cfa6ef6",
            "value": "config_sentence_transformers.json: 100%"
          }
        },
        "c6a4fededa5647d2a742558073ceaace": {
          "model_module": "@jupyter-widgets/controls",
          "model_name": "FloatProgressModel",
          "model_module_version": "1.5.0",
          "state": {
            "_dom_classes": [],
            "_model_module": "@jupyter-widgets/controls",
            "_model_module_version": "1.5.0",
            "_model_name": "FloatProgressModel",
            "_view_count": null,
            "_view_module": "@jupyter-widgets/controls",
            "_view_module_version": "1.5.0",
            "_view_name": "ProgressView",
            "bar_style": "success",
            "description": "",
            "description_tooltip": null,
            "layout": "IPY_MODEL_af8dbccbdce34eb19576a31320ccc7d4",
            "max": 116,
            "min": 0,
            "orientation": "horizontal",
            "style": "IPY_MODEL_191febf3932c49798abf410112ad3ca4",
            "value": 116
          }
        },
        "0ed97e34b1614cdab429fb2ca75faa19": {
          "model_module": "@jupyter-widgets/controls",
          "model_name": "HTMLModel",
          "model_module_version": "1.5.0",
          "state": {
            "_dom_classes": [],
            "_model_module": "@jupyter-widgets/controls",
            "_model_module_version": "1.5.0",
            "_model_name": "HTMLModel",
            "_view_count": null,
            "_view_module": "@jupyter-widgets/controls",
            "_view_module_version": "1.5.0",
            "_view_name": "HTMLView",
            "description": "",
            "description_tooltip": null,
            "layout": "IPY_MODEL_669864ef9287455884890ab7b5518a60",
            "placeholder": "​",
            "style": "IPY_MODEL_31c0bf69c7ec4d66b36d0cf850531ec0",
            "value": " 116/116 [00:00&lt;00:00, 6.31kB/s]"
          }
        },
        "f2ebd8e1d6d94862805dca2f8552a755": {
          "model_module": "@jupyter-widgets/base",
          "model_name": "LayoutModel",
          "model_module_version": "1.2.0",
          "state": {
            "_model_module": "@jupyter-widgets/base",
            "_model_module_version": "1.2.0",
            "_model_name": "LayoutModel",
            "_view_count": null,
            "_view_module": "@jupyter-widgets/base",
            "_view_module_version": "1.2.0",
            "_view_name": "LayoutView",
            "align_content": null,
            "align_items": null,
            "align_self": null,
            "border": null,
            "bottom": null,
            "display": null,
            "flex": null,
            "flex_flow": null,
            "grid_area": null,
            "grid_auto_columns": null,
            "grid_auto_flow": null,
            "grid_auto_rows": null,
            "grid_column": null,
            "grid_gap": null,
            "grid_row": null,
            "grid_template_areas": null,
            "grid_template_columns": null,
            "grid_template_rows": null,
            "height": null,
            "justify_content": null,
            "justify_items": null,
            "left": null,
            "margin": null,
            "max_height": null,
            "max_width": null,
            "min_height": null,
            "min_width": null,
            "object_fit": null,
            "object_position": null,
            "order": null,
            "overflow": null,
            "overflow_x": null,
            "overflow_y": null,
            "padding": null,
            "right": null,
            "top": null,
            "visibility": null,
            "width": null
          }
        },
        "54636efc32b8443fabd5f6791d2b6a18": {
          "model_module": "@jupyter-widgets/base",
          "model_name": "LayoutModel",
          "model_module_version": "1.2.0",
          "state": {
            "_model_module": "@jupyter-widgets/base",
            "_model_module_version": "1.2.0",
            "_model_name": "LayoutModel",
            "_view_count": null,
            "_view_module": "@jupyter-widgets/base",
            "_view_module_version": "1.2.0",
            "_view_name": "LayoutView",
            "align_content": null,
            "align_items": null,
            "align_self": null,
            "border": null,
            "bottom": null,
            "display": null,
            "flex": null,
            "flex_flow": null,
            "grid_area": null,
            "grid_auto_columns": null,
            "grid_auto_flow": null,
            "grid_auto_rows": null,
            "grid_column": null,
            "grid_gap": null,
            "grid_row": null,
            "grid_template_areas": null,
            "grid_template_columns": null,
            "grid_template_rows": null,
            "height": null,
            "justify_content": null,
            "justify_items": null,
            "left": null,
            "margin": null,
            "max_height": null,
            "max_width": null,
            "min_height": null,
            "min_width": null,
            "object_fit": null,
            "object_position": null,
            "order": null,
            "overflow": null,
            "overflow_x": null,
            "overflow_y": null,
            "padding": null,
            "right": null,
            "top": null,
            "visibility": null,
            "width": null
          }
        },
        "61400759daca4b2b9397482c7cfa6ef6": {
          "model_module": "@jupyter-widgets/controls",
          "model_name": "DescriptionStyleModel",
          "model_module_version": "1.5.0",
          "state": {
            "_model_module": "@jupyter-widgets/controls",
            "_model_module_version": "1.5.0",
            "_model_name": "DescriptionStyleModel",
            "_view_count": null,
            "_view_module": "@jupyter-widgets/base",
            "_view_module_version": "1.2.0",
            "_view_name": "StyleView",
            "description_width": ""
          }
        },
        "af8dbccbdce34eb19576a31320ccc7d4": {
          "model_module": "@jupyter-widgets/base",
          "model_name": "LayoutModel",
          "model_module_version": "1.2.0",
          "state": {
            "_model_module": "@jupyter-widgets/base",
            "_model_module_version": "1.2.0",
            "_model_name": "LayoutModel",
            "_view_count": null,
            "_view_module": "@jupyter-widgets/base",
            "_view_module_version": "1.2.0",
            "_view_name": "LayoutView",
            "align_content": null,
            "align_items": null,
            "align_self": null,
            "border": null,
            "bottom": null,
            "display": null,
            "flex": null,
            "flex_flow": null,
            "grid_area": null,
            "grid_auto_columns": null,
            "grid_auto_flow": null,
            "grid_auto_rows": null,
            "grid_column": null,
            "grid_gap": null,
            "grid_row": null,
            "grid_template_areas": null,
            "grid_template_columns": null,
            "grid_template_rows": null,
            "height": null,
            "justify_content": null,
            "justify_items": null,
            "left": null,
            "margin": null,
            "max_height": null,
            "max_width": null,
            "min_height": null,
            "min_width": null,
            "object_fit": null,
            "object_position": null,
            "order": null,
            "overflow": null,
            "overflow_x": null,
            "overflow_y": null,
            "padding": null,
            "right": null,
            "top": null,
            "visibility": null,
            "width": null
          }
        },
        "191febf3932c49798abf410112ad3ca4": {
          "model_module": "@jupyter-widgets/controls",
          "model_name": "ProgressStyleModel",
          "model_module_version": "1.5.0",
          "state": {
            "_model_module": "@jupyter-widgets/controls",
            "_model_module_version": "1.5.0",
            "_model_name": "ProgressStyleModel",
            "_view_count": null,
            "_view_module": "@jupyter-widgets/base",
            "_view_module_version": "1.2.0",
            "_view_name": "StyleView",
            "bar_color": null,
            "description_width": ""
          }
        },
        "669864ef9287455884890ab7b5518a60": {
          "model_module": "@jupyter-widgets/base",
          "model_name": "LayoutModel",
          "model_module_version": "1.2.0",
          "state": {
            "_model_module": "@jupyter-widgets/base",
            "_model_module_version": "1.2.0",
            "_model_name": "LayoutModel",
            "_view_count": null,
            "_view_module": "@jupyter-widgets/base",
            "_view_module_version": "1.2.0",
            "_view_name": "LayoutView",
            "align_content": null,
            "align_items": null,
            "align_self": null,
            "border": null,
            "bottom": null,
            "display": null,
            "flex": null,
            "flex_flow": null,
            "grid_area": null,
            "grid_auto_columns": null,
            "grid_auto_flow": null,
            "grid_auto_rows": null,
            "grid_column": null,
            "grid_gap": null,
            "grid_row": null,
            "grid_template_areas": null,
            "grid_template_columns": null,
            "grid_template_rows": null,
            "height": null,
            "justify_content": null,
            "justify_items": null,
            "left": null,
            "margin": null,
            "max_height": null,
            "max_width": null,
            "min_height": null,
            "min_width": null,
            "object_fit": null,
            "object_position": null,
            "order": null,
            "overflow": null,
            "overflow_x": null,
            "overflow_y": null,
            "padding": null,
            "right": null,
            "top": null,
            "visibility": null,
            "width": null
          }
        },
        "31c0bf69c7ec4d66b36d0cf850531ec0": {
          "model_module": "@jupyter-widgets/controls",
          "model_name": "DescriptionStyleModel",
          "model_module_version": "1.5.0",
          "state": {
            "_model_module": "@jupyter-widgets/controls",
            "_model_module_version": "1.5.0",
            "_model_name": "DescriptionStyleModel",
            "_view_count": null,
            "_view_module": "@jupyter-widgets/base",
            "_view_module_version": "1.2.0",
            "_view_name": "StyleView",
            "description_width": ""
          }
        },
        "6bbdd39e9341415aa03203d93ca1fcf1": {
          "model_module": "@jupyter-widgets/controls",
          "model_name": "HBoxModel",
          "model_module_version": "1.5.0",
          "state": {
            "_dom_classes": [],
            "_model_module": "@jupyter-widgets/controls",
            "_model_module_version": "1.5.0",
            "_model_name": "HBoxModel",
            "_view_count": null,
            "_view_module": "@jupyter-widgets/controls",
            "_view_module_version": "1.5.0",
            "_view_name": "HBoxView",
            "box_style": "",
            "children": [
              "IPY_MODEL_bd3a8f9a82d147f2a1f94b58850ff274",
              "IPY_MODEL_0575c75abb7546fe9dd3fbf706ec9a3d",
              "IPY_MODEL_33d7c1dfde694a94a37742f7c82675e5"
            ],
            "layout": "IPY_MODEL_d55aebb5cfe24678886086e71c437e52"
          }
        },
        "bd3a8f9a82d147f2a1f94b58850ff274": {
          "model_module": "@jupyter-widgets/controls",
          "model_name": "HTMLModel",
          "model_module_version": "1.5.0",
          "state": {
            "_dom_classes": [],
            "_model_module": "@jupyter-widgets/controls",
            "_model_module_version": "1.5.0",
            "_model_name": "HTMLModel",
            "_view_count": null,
            "_view_module": "@jupyter-widgets/controls",
            "_view_module_version": "1.5.0",
            "_view_name": "HTMLView",
            "description": "",
            "description_tooltip": null,
            "layout": "IPY_MODEL_a30c1547bceb46a7b694d1d55afd813b",
            "placeholder": "​",
            "style": "IPY_MODEL_4a7bd07d647246b683e301147632c67e",
            "value": "README.md: 100%"
          }
        },
        "0575c75abb7546fe9dd3fbf706ec9a3d": {
          "model_module": "@jupyter-widgets/controls",
          "model_name": "FloatProgressModel",
          "model_module_version": "1.5.0",
          "state": {
            "_dom_classes": [],
            "_model_module": "@jupyter-widgets/controls",
            "_model_module_version": "1.5.0",
            "_model_name": "FloatProgressModel",
            "_view_count": null,
            "_view_module": "@jupyter-widgets/controls",
            "_view_module_version": "1.5.0",
            "_view_name": "ProgressView",
            "bar_style": "success",
            "description": "",
            "description_tooltip": null,
            "layout": "IPY_MODEL_430a9d269e3c4a45a18a7d724e6637d9",
            "max": 10621,
            "min": 0,
            "orientation": "horizontal",
            "style": "IPY_MODEL_e4087aa0d7674cb0a74f16db4ad0c633",
            "value": 10621
          }
        },
        "33d7c1dfde694a94a37742f7c82675e5": {
          "model_module": "@jupyter-widgets/controls",
          "model_name": "HTMLModel",
          "model_module_version": "1.5.0",
          "state": {
            "_dom_classes": [],
            "_model_module": "@jupyter-widgets/controls",
            "_model_module_version": "1.5.0",
            "_model_name": "HTMLModel",
            "_view_count": null,
            "_view_module": "@jupyter-widgets/controls",
            "_view_module_version": "1.5.0",
            "_view_name": "HTMLView",
            "description": "",
            "description_tooltip": null,
            "layout": "IPY_MODEL_5953d90466f34c8490d11a8dbe40f82e",
            "placeholder": "​",
            "style": "IPY_MODEL_7c44aa579fa943db8ca0577a6a2b51da",
            "value": " 10.6k/10.6k [00:00&lt;00:00, 516kB/s]"
          }
        },
        "d55aebb5cfe24678886086e71c437e52": {
          "model_module": "@jupyter-widgets/base",
          "model_name": "LayoutModel",
          "model_module_version": "1.2.0",
          "state": {
            "_model_module": "@jupyter-widgets/base",
            "_model_module_version": "1.2.0",
            "_model_name": "LayoutModel",
            "_view_count": null,
            "_view_module": "@jupyter-widgets/base",
            "_view_module_version": "1.2.0",
            "_view_name": "LayoutView",
            "align_content": null,
            "align_items": null,
            "align_self": null,
            "border": null,
            "bottom": null,
            "display": null,
            "flex": null,
            "flex_flow": null,
            "grid_area": null,
            "grid_auto_columns": null,
            "grid_auto_flow": null,
            "grid_auto_rows": null,
            "grid_column": null,
            "grid_gap": null,
            "grid_row": null,
            "grid_template_areas": null,
            "grid_template_columns": null,
            "grid_template_rows": null,
            "height": null,
            "justify_content": null,
            "justify_items": null,
            "left": null,
            "margin": null,
            "max_height": null,
            "max_width": null,
            "min_height": null,
            "min_width": null,
            "object_fit": null,
            "object_position": null,
            "order": null,
            "overflow": null,
            "overflow_x": null,
            "overflow_y": null,
            "padding": null,
            "right": null,
            "top": null,
            "visibility": null,
            "width": null
          }
        },
        "a30c1547bceb46a7b694d1d55afd813b": {
          "model_module": "@jupyter-widgets/base",
          "model_name": "LayoutModel",
          "model_module_version": "1.2.0",
          "state": {
            "_model_module": "@jupyter-widgets/base",
            "_model_module_version": "1.2.0",
            "_model_name": "LayoutModel",
            "_view_count": null,
            "_view_module": "@jupyter-widgets/base",
            "_view_module_version": "1.2.0",
            "_view_name": "LayoutView",
            "align_content": null,
            "align_items": null,
            "align_self": null,
            "border": null,
            "bottom": null,
            "display": null,
            "flex": null,
            "flex_flow": null,
            "grid_area": null,
            "grid_auto_columns": null,
            "grid_auto_flow": null,
            "grid_auto_rows": null,
            "grid_column": null,
            "grid_gap": null,
            "grid_row": null,
            "grid_template_areas": null,
            "grid_template_columns": null,
            "grid_template_rows": null,
            "height": null,
            "justify_content": null,
            "justify_items": null,
            "left": null,
            "margin": null,
            "max_height": null,
            "max_width": null,
            "min_height": null,
            "min_width": null,
            "object_fit": null,
            "object_position": null,
            "order": null,
            "overflow": null,
            "overflow_x": null,
            "overflow_y": null,
            "padding": null,
            "right": null,
            "top": null,
            "visibility": null,
            "width": null
          }
        },
        "4a7bd07d647246b683e301147632c67e": {
          "model_module": "@jupyter-widgets/controls",
          "model_name": "DescriptionStyleModel",
          "model_module_version": "1.5.0",
          "state": {
            "_model_module": "@jupyter-widgets/controls",
            "_model_module_version": "1.5.0",
            "_model_name": "DescriptionStyleModel",
            "_view_count": null,
            "_view_module": "@jupyter-widgets/base",
            "_view_module_version": "1.2.0",
            "_view_name": "StyleView",
            "description_width": ""
          }
        },
        "430a9d269e3c4a45a18a7d724e6637d9": {
          "model_module": "@jupyter-widgets/base",
          "model_name": "LayoutModel",
          "model_module_version": "1.2.0",
          "state": {
            "_model_module": "@jupyter-widgets/base",
            "_model_module_version": "1.2.0",
            "_model_name": "LayoutModel",
            "_view_count": null,
            "_view_module": "@jupyter-widgets/base",
            "_view_module_version": "1.2.0",
            "_view_name": "LayoutView",
            "align_content": null,
            "align_items": null,
            "align_self": null,
            "border": null,
            "bottom": null,
            "display": null,
            "flex": null,
            "flex_flow": null,
            "grid_area": null,
            "grid_auto_columns": null,
            "grid_auto_flow": null,
            "grid_auto_rows": null,
            "grid_column": null,
            "grid_gap": null,
            "grid_row": null,
            "grid_template_areas": null,
            "grid_template_columns": null,
            "grid_template_rows": null,
            "height": null,
            "justify_content": null,
            "justify_items": null,
            "left": null,
            "margin": null,
            "max_height": null,
            "max_width": null,
            "min_height": null,
            "min_width": null,
            "object_fit": null,
            "object_position": null,
            "order": null,
            "overflow": null,
            "overflow_x": null,
            "overflow_y": null,
            "padding": null,
            "right": null,
            "top": null,
            "visibility": null,
            "width": null
          }
        },
        "e4087aa0d7674cb0a74f16db4ad0c633": {
          "model_module": "@jupyter-widgets/controls",
          "model_name": "ProgressStyleModel",
          "model_module_version": "1.5.0",
          "state": {
            "_model_module": "@jupyter-widgets/controls",
            "_model_module_version": "1.5.0",
            "_model_name": "ProgressStyleModel",
            "_view_count": null,
            "_view_module": "@jupyter-widgets/base",
            "_view_module_version": "1.2.0",
            "_view_name": "StyleView",
            "bar_color": null,
            "description_width": ""
          }
        },
        "5953d90466f34c8490d11a8dbe40f82e": {
          "model_module": "@jupyter-widgets/base",
          "model_name": "LayoutModel",
          "model_module_version": "1.2.0",
          "state": {
            "_model_module": "@jupyter-widgets/base",
            "_model_module_version": "1.2.0",
            "_model_name": "LayoutModel",
            "_view_count": null,
            "_view_module": "@jupyter-widgets/base",
            "_view_module_version": "1.2.0",
            "_view_name": "LayoutView",
            "align_content": null,
            "align_items": null,
            "align_self": null,
            "border": null,
            "bottom": null,
            "display": null,
            "flex": null,
            "flex_flow": null,
            "grid_area": null,
            "grid_auto_columns": null,
            "grid_auto_flow": null,
            "grid_auto_rows": null,
            "grid_column": null,
            "grid_gap": null,
            "grid_row": null,
            "grid_template_areas": null,
            "grid_template_columns": null,
            "grid_template_rows": null,
            "height": null,
            "justify_content": null,
            "justify_items": null,
            "left": null,
            "margin": null,
            "max_height": null,
            "max_width": null,
            "min_height": null,
            "min_width": null,
            "object_fit": null,
            "object_position": null,
            "order": null,
            "overflow": null,
            "overflow_x": null,
            "overflow_y": null,
            "padding": null,
            "right": null,
            "top": null,
            "visibility": null,
            "width": null
          }
        },
        "7c44aa579fa943db8ca0577a6a2b51da": {
          "model_module": "@jupyter-widgets/controls",
          "model_name": "DescriptionStyleModel",
          "model_module_version": "1.5.0",
          "state": {
            "_model_module": "@jupyter-widgets/controls",
            "_model_module_version": "1.5.0",
            "_model_name": "DescriptionStyleModel",
            "_view_count": null,
            "_view_module": "@jupyter-widgets/base",
            "_view_module_version": "1.2.0",
            "_view_name": "StyleView",
            "description_width": ""
          }
        },
        "8ceb81a0f1ff4396a06d25f24548567f": {
          "model_module": "@jupyter-widgets/controls",
          "model_name": "HBoxModel",
          "model_module_version": "1.5.0",
          "state": {
            "_dom_classes": [],
            "_model_module": "@jupyter-widgets/controls",
            "_model_module_version": "1.5.0",
            "_model_name": "HBoxModel",
            "_view_count": null,
            "_view_module": "@jupyter-widgets/controls",
            "_view_module_version": "1.5.0",
            "_view_name": "HBoxView",
            "box_style": "",
            "children": [
              "IPY_MODEL_d5960c87008b42bfa62ca9b470af5bc8",
              "IPY_MODEL_61d79cd5f668479e80991325c20581c7",
              "IPY_MODEL_a2bb90aea97e4e04923d06fabb85c370"
            ],
            "layout": "IPY_MODEL_5e6bd1f439b8406587dd5334999f4818"
          }
        },
        "d5960c87008b42bfa62ca9b470af5bc8": {
          "model_module": "@jupyter-widgets/controls",
          "model_name": "HTMLModel",
          "model_module_version": "1.5.0",
          "state": {
            "_dom_classes": [],
            "_model_module": "@jupyter-widgets/controls",
            "_model_module_version": "1.5.0",
            "_model_name": "HTMLModel",
            "_view_count": null,
            "_view_module": "@jupyter-widgets/controls",
            "_view_module_version": "1.5.0",
            "_view_name": "HTMLView",
            "description": "",
            "description_tooltip": null,
            "layout": "IPY_MODEL_112c26a864644e928814662b6652ae9c",
            "placeholder": "​",
            "style": "IPY_MODEL_d7dd62abbd6e4741966ceb6d33972c65",
            "value": "sentence_bert_config.json: 100%"
          }
        },
        "61d79cd5f668479e80991325c20581c7": {
          "model_module": "@jupyter-widgets/controls",
          "model_name": "FloatProgressModel",
          "model_module_version": "1.5.0",
          "state": {
            "_dom_classes": [],
            "_model_module": "@jupyter-widgets/controls",
            "_model_module_version": "1.5.0",
            "_model_name": "FloatProgressModel",
            "_view_count": null,
            "_view_module": "@jupyter-widgets/controls",
            "_view_module_version": "1.5.0",
            "_view_name": "ProgressView",
            "bar_style": "success",
            "description": "",
            "description_tooltip": null,
            "layout": "IPY_MODEL_a9e33524e99d4e7a99e74700bba4abdc",
            "max": 53,
            "min": 0,
            "orientation": "horizontal",
            "style": "IPY_MODEL_fc601351c35e4910988c1d0e52887bfe",
            "value": 53
          }
        },
        "a2bb90aea97e4e04923d06fabb85c370": {
          "model_module": "@jupyter-widgets/controls",
          "model_name": "HTMLModel",
          "model_module_version": "1.5.0",
          "state": {
            "_dom_classes": [],
            "_model_module": "@jupyter-widgets/controls",
            "_model_module_version": "1.5.0",
            "_model_name": "HTMLModel",
            "_view_count": null,
            "_view_module": "@jupyter-widgets/controls",
            "_view_module_version": "1.5.0",
            "_view_name": "HTMLView",
            "description": "",
            "description_tooltip": null,
            "layout": "IPY_MODEL_d95296ed16e946eaaaa025502279e4cf",
            "placeholder": "​",
            "style": "IPY_MODEL_176ca011992c4caf933e56233ab7a23a",
            "value": " 53.0/53.0 [00:00&lt;00:00, 4.86kB/s]"
          }
        },
        "5e6bd1f439b8406587dd5334999f4818": {
          "model_module": "@jupyter-widgets/base",
          "model_name": "LayoutModel",
          "model_module_version": "1.2.0",
          "state": {
            "_model_module": "@jupyter-widgets/base",
            "_model_module_version": "1.2.0",
            "_model_name": "LayoutModel",
            "_view_count": null,
            "_view_module": "@jupyter-widgets/base",
            "_view_module_version": "1.2.0",
            "_view_name": "LayoutView",
            "align_content": null,
            "align_items": null,
            "align_self": null,
            "border": null,
            "bottom": null,
            "display": null,
            "flex": null,
            "flex_flow": null,
            "grid_area": null,
            "grid_auto_columns": null,
            "grid_auto_flow": null,
            "grid_auto_rows": null,
            "grid_column": null,
            "grid_gap": null,
            "grid_row": null,
            "grid_template_areas": null,
            "grid_template_columns": null,
            "grid_template_rows": null,
            "height": null,
            "justify_content": null,
            "justify_items": null,
            "left": null,
            "margin": null,
            "max_height": null,
            "max_width": null,
            "min_height": null,
            "min_width": null,
            "object_fit": null,
            "object_position": null,
            "order": null,
            "overflow": null,
            "overflow_x": null,
            "overflow_y": null,
            "padding": null,
            "right": null,
            "top": null,
            "visibility": null,
            "width": null
          }
        },
        "112c26a864644e928814662b6652ae9c": {
          "model_module": "@jupyter-widgets/base",
          "model_name": "LayoutModel",
          "model_module_version": "1.2.0",
          "state": {
            "_model_module": "@jupyter-widgets/base",
            "_model_module_version": "1.2.0",
            "_model_name": "LayoutModel",
            "_view_count": null,
            "_view_module": "@jupyter-widgets/base",
            "_view_module_version": "1.2.0",
            "_view_name": "LayoutView",
            "align_content": null,
            "align_items": null,
            "align_self": null,
            "border": null,
            "bottom": null,
            "display": null,
            "flex": null,
            "flex_flow": null,
            "grid_area": null,
            "grid_auto_columns": null,
            "grid_auto_flow": null,
            "grid_auto_rows": null,
            "grid_column": null,
            "grid_gap": null,
            "grid_row": null,
            "grid_template_areas": null,
            "grid_template_columns": null,
            "grid_template_rows": null,
            "height": null,
            "justify_content": null,
            "justify_items": null,
            "left": null,
            "margin": null,
            "max_height": null,
            "max_width": null,
            "min_height": null,
            "min_width": null,
            "object_fit": null,
            "object_position": null,
            "order": null,
            "overflow": null,
            "overflow_x": null,
            "overflow_y": null,
            "padding": null,
            "right": null,
            "top": null,
            "visibility": null,
            "width": null
          }
        },
        "d7dd62abbd6e4741966ceb6d33972c65": {
          "model_module": "@jupyter-widgets/controls",
          "model_name": "DescriptionStyleModel",
          "model_module_version": "1.5.0",
          "state": {
            "_model_module": "@jupyter-widgets/controls",
            "_model_module_version": "1.5.0",
            "_model_name": "DescriptionStyleModel",
            "_view_count": null,
            "_view_module": "@jupyter-widgets/base",
            "_view_module_version": "1.2.0",
            "_view_name": "StyleView",
            "description_width": ""
          }
        },
        "a9e33524e99d4e7a99e74700bba4abdc": {
          "model_module": "@jupyter-widgets/base",
          "model_name": "LayoutModel",
          "model_module_version": "1.2.0",
          "state": {
            "_model_module": "@jupyter-widgets/base",
            "_model_module_version": "1.2.0",
            "_model_name": "LayoutModel",
            "_view_count": null,
            "_view_module": "@jupyter-widgets/base",
            "_view_module_version": "1.2.0",
            "_view_name": "LayoutView",
            "align_content": null,
            "align_items": null,
            "align_self": null,
            "border": null,
            "bottom": null,
            "display": null,
            "flex": null,
            "flex_flow": null,
            "grid_area": null,
            "grid_auto_columns": null,
            "grid_auto_flow": null,
            "grid_auto_rows": null,
            "grid_column": null,
            "grid_gap": null,
            "grid_row": null,
            "grid_template_areas": null,
            "grid_template_columns": null,
            "grid_template_rows": null,
            "height": null,
            "justify_content": null,
            "justify_items": null,
            "left": null,
            "margin": null,
            "max_height": null,
            "max_width": null,
            "min_height": null,
            "min_width": null,
            "object_fit": null,
            "object_position": null,
            "order": null,
            "overflow": null,
            "overflow_x": null,
            "overflow_y": null,
            "padding": null,
            "right": null,
            "top": null,
            "visibility": null,
            "width": null
          }
        },
        "fc601351c35e4910988c1d0e52887bfe": {
          "model_module": "@jupyter-widgets/controls",
          "model_name": "ProgressStyleModel",
          "model_module_version": "1.5.0",
          "state": {
            "_model_module": "@jupyter-widgets/controls",
            "_model_module_version": "1.5.0",
            "_model_name": "ProgressStyleModel",
            "_view_count": null,
            "_view_module": "@jupyter-widgets/base",
            "_view_module_version": "1.2.0",
            "_view_name": "StyleView",
            "bar_color": null,
            "description_width": ""
          }
        },
        "d95296ed16e946eaaaa025502279e4cf": {
          "model_module": "@jupyter-widgets/base",
          "model_name": "LayoutModel",
          "model_module_version": "1.2.0",
          "state": {
            "_model_module": "@jupyter-widgets/base",
            "_model_module_version": "1.2.0",
            "_model_name": "LayoutModel",
            "_view_count": null,
            "_view_module": "@jupyter-widgets/base",
            "_view_module_version": "1.2.0",
            "_view_name": "LayoutView",
            "align_content": null,
            "align_items": null,
            "align_self": null,
            "border": null,
            "bottom": null,
            "display": null,
            "flex": null,
            "flex_flow": null,
            "grid_area": null,
            "grid_auto_columns": null,
            "grid_auto_flow": null,
            "grid_auto_rows": null,
            "grid_column": null,
            "grid_gap": null,
            "grid_row": null,
            "grid_template_areas": null,
            "grid_template_columns": null,
            "grid_template_rows": null,
            "height": null,
            "justify_content": null,
            "justify_items": null,
            "left": null,
            "margin": null,
            "max_height": null,
            "max_width": null,
            "min_height": null,
            "min_width": null,
            "object_fit": null,
            "object_position": null,
            "order": null,
            "overflow": null,
            "overflow_x": null,
            "overflow_y": null,
            "padding": null,
            "right": null,
            "top": null,
            "visibility": null,
            "width": null
          }
        },
        "176ca011992c4caf933e56233ab7a23a": {
          "model_module": "@jupyter-widgets/controls",
          "model_name": "DescriptionStyleModel",
          "model_module_version": "1.5.0",
          "state": {
            "_model_module": "@jupyter-widgets/controls",
            "_model_module_version": "1.5.0",
            "_model_name": "DescriptionStyleModel",
            "_view_count": null,
            "_view_module": "@jupyter-widgets/base",
            "_view_module_version": "1.2.0",
            "_view_name": "StyleView",
            "description_width": ""
          }
        },
        "4bc4cf876068498cbe1cb8910302e5df": {
          "model_module": "@jupyter-widgets/controls",
          "model_name": "HBoxModel",
          "model_module_version": "1.5.0",
          "state": {
            "_dom_classes": [],
            "_model_module": "@jupyter-widgets/controls",
            "_model_module_version": "1.5.0",
            "_model_name": "HBoxModel",
            "_view_count": null,
            "_view_module": "@jupyter-widgets/controls",
            "_view_module_version": "1.5.0",
            "_view_name": "HBoxView",
            "box_style": "",
            "children": [
              "IPY_MODEL_693cfbcaee3d45429c8d703b6157a1fa",
              "IPY_MODEL_0cb2aaee6c2e462d9a832d62aaabb5e5",
              "IPY_MODEL_a242349613064fa9b54d379c4e6b95e0"
            ],
            "layout": "IPY_MODEL_68a5d994ac044a3cbdbb8bec724f17e1"
          }
        },
        "693cfbcaee3d45429c8d703b6157a1fa": {
          "model_module": "@jupyter-widgets/controls",
          "model_name": "HTMLModel",
          "model_module_version": "1.5.0",
          "state": {
            "_dom_classes": [],
            "_model_module": "@jupyter-widgets/controls",
            "_model_module_version": "1.5.0",
            "_model_name": "HTMLModel",
            "_view_count": null,
            "_view_module": "@jupyter-widgets/controls",
            "_view_module_version": "1.5.0",
            "_view_name": "HTMLView",
            "description": "",
            "description_tooltip": null,
            "layout": "IPY_MODEL_e5b45a7217034f8dbc33bb6e7ecdea7d",
            "placeholder": "​",
            "style": "IPY_MODEL_c163c7eb5f2f4c5caf0a598a69a843e2",
            "value": "config.json: 100%"
          }
        },
        "0cb2aaee6c2e462d9a832d62aaabb5e5": {
          "model_module": "@jupyter-widgets/controls",
          "model_name": "FloatProgressModel",
          "model_module_version": "1.5.0",
          "state": {
            "_dom_classes": [],
            "_model_module": "@jupyter-widgets/controls",
            "_model_module_version": "1.5.0",
            "_model_name": "FloatProgressModel",
            "_view_count": null,
            "_view_module": "@jupyter-widgets/controls",
            "_view_module_version": "1.5.0",
            "_view_name": "ProgressView",
            "bar_style": "success",
            "description": "",
            "description_tooltip": null,
            "layout": "IPY_MODEL_5c4f9a7f7d514e95858a4aa23ace2e8f",
            "max": 571,
            "min": 0,
            "orientation": "horizontal",
            "style": "IPY_MODEL_d63fe62eb32949559fc8cf6c809bf577",
            "value": 571
          }
        },
        "a242349613064fa9b54d379c4e6b95e0": {
          "model_module": "@jupyter-widgets/controls",
          "model_name": "HTMLModel",
          "model_module_version": "1.5.0",
          "state": {
            "_dom_classes": [],
            "_model_module": "@jupyter-widgets/controls",
            "_model_module_version": "1.5.0",
            "_model_name": "HTMLModel",
            "_view_count": null,
            "_view_module": "@jupyter-widgets/controls",
            "_view_module_version": "1.5.0",
            "_view_name": "HTMLView",
            "description": "",
            "description_tooltip": null,
            "layout": "IPY_MODEL_58bd0145542c49faad101c66fe45832d",
            "placeholder": "​",
            "style": "IPY_MODEL_457776e474e8436086a2737c1d90db2d",
            "value": " 571/571 [00:00&lt;00:00, 37.7kB/s]"
          }
        },
        "68a5d994ac044a3cbdbb8bec724f17e1": {
          "model_module": "@jupyter-widgets/base",
          "model_name": "LayoutModel",
          "model_module_version": "1.2.0",
          "state": {
            "_model_module": "@jupyter-widgets/base",
            "_model_module_version": "1.2.0",
            "_model_name": "LayoutModel",
            "_view_count": null,
            "_view_module": "@jupyter-widgets/base",
            "_view_module_version": "1.2.0",
            "_view_name": "LayoutView",
            "align_content": null,
            "align_items": null,
            "align_self": null,
            "border": null,
            "bottom": null,
            "display": null,
            "flex": null,
            "flex_flow": null,
            "grid_area": null,
            "grid_auto_columns": null,
            "grid_auto_flow": null,
            "grid_auto_rows": null,
            "grid_column": null,
            "grid_gap": null,
            "grid_row": null,
            "grid_template_areas": null,
            "grid_template_columns": null,
            "grid_template_rows": null,
            "height": null,
            "justify_content": null,
            "justify_items": null,
            "left": null,
            "margin": null,
            "max_height": null,
            "max_width": null,
            "min_height": null,
            "min_width": null,
            "object_fit": null,
            "object_position": null,
            "order": null,
            "overflow": null,
            "overflow_x": null,
            "overflow_y": null,
            "padding": null,
            "right": null,
            "top": null,
            "visibility": null,
            "width": null
          }
        },
        "e5b45a7217034f8dbc33bb6e7ecdea7d": {
          "model_module": "@jupyter-widgets/base",
          "model_name": "LayoutModel",
          "model_module_version": "1.2.0",
          "state": {
            "_model_module": "@jupyter-widgets/base",
            "_model_module_version": "1.2.0",
            "_model_name": "LayoutModel",
            "_view_count": null,
            "_view_module": "@jupyter-widgets/base",
            "_view_module_version": "1.2.0",
            "_view_name": "LayoutView",
            "align_content": null,
            "align_items": null,
            "align_self": null,
            "border": null,
            "bottom": null,
            "display": null,
            "flex": null,
            "flex_flow": null,
            "grid_area": null,
            "grid_auto_columns": null,
            "grid_auto_flow": null,
            "grid_auto_rows": null,
            "grid_column": null,
            "grid_gap": null,
            "grid_row": null,
            "grid_template_areas": null,
            "grid_template_columns": null,
            "grid_template_rows": null,
            "height": null,
            "justify_content": null,
            "justify_items": null,
            "left": null,
            "margin": null,
            "max_height": null,
            "max_width": null,
            "min_height": null,
            "min_width": null,
            "object_fit": null,
            "object_position": null,
            "order": null,
            "overflow": null,
            "overflow_x": null,
            "overflow_y": null,
            "padding": null,
            "right": null,
            "top": null,
            "visibility": null,
            "width": null
          }
        },
        "c163c7eb5f2f4c5caf0a598a69a843e2": {
          "model_module": "@jupyter-widgets/controls",
          "model_name": "DescriptionStyleModel",
          "model_module_version": "1.5.0",
          "state": {
            "_model_module": "@jupyter-widgets/controls",
            "_model_module_version": "1.5.0",
            "_model_name": "DescriptionStyleModel",
            "_view_count": null,
            "_view_module": "@jupyter-widgets/base",
            "_view_module_version": "1.2.0",
            "_view_name": "StyleView",
            "description_width": ""
          }
        },
        "5c4f9a7f7d514e95858a4aa23ace2e8f": {
          "model_module": "@jupyter-widgets/base",
          "model_name": "LayoutModel",
          "model_module_version": "1.2.0",
          "state": {
            "_model_module": "@jupyter-widgets/base",
            "_model_module_version": "1.2.0",
            "_model_name": "LayoutModel",
            "_view_count": null,
            "_view_module": "@jupyter-widgets/base",
            "_view_module_version": "1.2.0",
            "_view_name": "LayoutView",
            "align_content": null,
            "align_items": null,
            "align_self": null,
            "border": null,
            "bottom": null,
            "display": null,
            "flex": null,
            "flex_flow": null,
            "grid_area": null,
            "grid_auto_columns": null,
            "grid_auto_flow": null,
            "grid_auto_rows": null,
            "grid_column": null,
            "grid_gap": null,
            "grid_row": null,
            "grid_template_areas": null,
            "grid_template_columns": null,
            "grid_template_rows": null,
            "height": null,
            "justify_content": null,
            "justify_items": null,
            "left": null,
            "margin": null,
            "max_height": null,
            "max_width": null,
            "min_height": null,
            "min_width": null,
            "object_fit": null,
            "object_position": null,
            "order": null,
            "overflow": null,
            "overflow_x": null,
            "overflow_y": null,
            "padding": null,
            "right": null,
            "top": null,
            "visibility": null,
            "width": null
          }
        },
        "d63fe62eb32949559fc8cf6c809bf577": {
          "model_module": "@jupyter-widgets/controls",
          "model_name": "ProgressStyleModel",
          "model_module_version": "1.5.0",
          "state": {
            "_model_module": "@jupyter-widgets/controls",
            "_model_module_version": "1.5.0",
            "_model_name": "ProgressStyleModel",
            "_view_count": null,
            "_view_module": "@jupyter-widgets/base",
            "_view_module_version": "1.2.0",
            "_view_name": "StyleView",
            "bar_color": null,
            "description_width": ""
          }
        },
        "58bd0145542c49faad101c66fe45832d": {
          "model_module": "@jupyter-widgets/base",
          "model_name": "LayoutModel",
          "model_module_version": "1.2.0",
          "state": {
            "_model_module": "@jupyter-widgets/base",
            "_model_module_version": "1.2.0",
            "_model_name": "LayoutModel",
            "_view_count": null,
            "_view_module": "@jupyter-widgets/base",
            "_view_module_version": "1.2.0",
            "_view_name": "LayoutView",
            "align_content": null,
            "align_items": null,
            "align_self": null,
            "border": null,
            "bottom": null,
            "display": null,
            "flex": null,
            "flex_flow": null,
            "grid_area": null,
            "grid_auto_columns": null,
            "grid_auto_flow": null,
            "grid_auto_rows": null,
            "grid_column": null,
            "grid_gap": null,
            "grid_row": null,
            "grid_template_areas": null,
            "grid_template_columns": null,
            "grid_template_rows": null,
            "height": null,
            "justify_content": null,
            "justify_items": null,
            "left": null,
            "margin": null,
            "max_height": null,
            "max_width": null,
            "min_height": null,
            "min_width": null,
            "object_fit": null,
            "object_position": null,
            "order": null,
            "overflow": null,
            "overflow_x": null,
            "overflow_y": null,
            "padding": null,
            "right": null,
            "top": null,
            "visibility": null,
            "width": null
          }
        },
        "457776e474e8436086a2737c1d90db2d": {
          "model_module": "@jupyter-widgets/controls",
          "model_name": "DescriptionStyleModel",
          "model_module_version": "1.5.0",
          "state": {
            "_model_module": "@jupyter-widgets/controls",
            "_model_module_version": "1.5.0",
            "_model_name": "DescriptionStyleModel",
            "_view_count": null,
            "_view_module": "@jupyter-widgets/base",
            "_view_module_version": "1.2.0",
            "_view_name": "StyleView",
            "description_width": ""
          }
        },
        "6eab278264a845e8b7581bb0e865656f": {
          "model_module": "@jupyter-widgets/controls",
          "model_name": "HBoxModel",
          "model_module_version": "1.5.0",
          "state": {
            "_dom_classes": [],
            "_model_module": "@jupyter-widgets/controls",
            "_model_module_version": "1.5.0",
            "_model_name": "HBoxModel",
            "_view_count": null,
            "_view_module": "@jupyter-widgets/controls",
            "_view_module_version": "1.5.0",
            "_view_name": "HBoxView",
            "box_style": "",
            "children": [
              "IPY_MODEL_2d5e66f5f70d42f0a3261b61a7ccd999",
              "IPY_MODEL_6190a87582a8450786a545d133d34794",
              "IPY_MODEL_f8a68c6332b74203a4944b44b131de21"
            ],
            "layout": "IPY_MODEL_283cd8daff964d249769c5f8872ef28e"
          }
        },
        "2d5e66f5f70d42f0a3261b61a7ccd999": {
          "model_module": "@jupyter-widgets/controls",
          "model_name": "HTMLModel",
          "model_module_version": "1.5.0",
          "state": {
            "_dom_classes": [],
            "_model_module": "@jupyter-widgets/controls",
            "_model_module_version": "1.5.0",
            "_model_name": "HTMLModel",
            "_view_count": null,
            "_view_module": "@jupyter-widgets/controls",
            "_view_module_version": "1.5.0",
            "_view_name": "HTMLView",
            "description": "",
            "description_tooltip": null,
            "layout": "IPY_MODEL_02c0fa6a36b9422a8391f6340d4efef0",
            "placeholder": "​",
            "style": "IPY_MODEL_68bcba0c27f549b3b885926ee1398413",
            "value": "model.safetensors: 100%"
          }
        },
        "6190a87582a8450786a545d133d34794": {
          "model_module": "@jupyter-widgets/controls",
          "model_name": "FloatProgressModel",
          "model_module_version": "1.5.0",
          "state": {
            "_dom_classes": [],
            "_model_module": "@jupyter-widgets/controls",
            "_model_module_version": "1.5.0",
            "_model_name": "FloatProgressModel",
            "_view_count": null,
            "_view_module": "@jupyter-widgets/controls",
            "_view_module_version": "1.5.0",
            "_view_name": "ProgressView",
            "bar_style": "success",
            "description": "",
            "description_tooltip": null,
            "layout": "IPY_MODEL_539910c933e347d7be05725967321617",
            "max": 437971872,
            "min": 0,
            "orientation": "horizontal",
            "style": "IPY_MODEL_00920aca41f84df18d066fa809bc5612",
            "value": 437971872
          }
        },
        "f8a68c6332b74203a4944b44b131de21": {
          "model_module": "@jupyter-widgets/controls",
          "model_name": "HTMLModel",
          "model_module_version": "1.5.0",
          "state": {
            "_dom_classes": [],
            "_model_module": "@jupyter-widgets/controls",
            "_model_module_version": "1.5.0",
            "_model_name": "HTMLModel",
            "_view_count": null,
            "_view_module": "@jupyter-widgets/controls",
            "_view_module_version": "1.5.0",
            "_view_name": "HTMLView",
            "description": "",
            "description_tooltip": null,
            "layout": "IPY_MODEL_94bd1fb7822f4f4a9f2dba23716ab203",
            "placeholder": "​",
            "style": "IPY_MODEL_6af7a8994cb9447d81a1af04a631830d",
            "value": " 438M/438M [00:02&lt;00:00, 171MB/s]"
          }
        },
        "283cd8daff964d249769c5f8872ef28e": {
          "model_module": "@jupyter-widgets/base",
          "model_name": "LayoutModel",
          "model_module_version": "1.2.0",
          "state": {
            "_model_module": "@jupyter-widgets/base",
            "_model_module_version": "1.2.0",
            "_model_name": "LayoutModel",
            "_view_count": null,
            "_view_module": "@jupyter-widgets/base",
            "_view_module_version": "1.2.0",
            "_view_name": "LayoutView",
            "align_content": null,
            "align_items": null,
            "align_self": null,
            "border": null,
            "bottom": null,
            "display": null,
            "flex": null,
            "flex_flow": null,
            "grid_area": null,
            "grid_auto_columns": null,
            "grid_auto_flow": null,
            "grid_auto_rows": null,
            "grid_column": null,
            "grid_gap": null,
            "grid_row": null,
            "grid_template_areas": null,
            "grid_template_columns": null,
            "grid_template_rows": null,
            "height": null,
            "justify_content": null,
            "justify_items": null,
            "left": null,
            "margin": null,
            "max_height": null,
            "max_width": null,
            "min_height": null,
            "min_width": null,
            "object_fit": null,
            "object_position": null,
            "order": null,
            "overflow": null,
            "overflow_x": null,
            "overflow_y": null,
            "padding": null,
            "right": null,
            "top": null,
            "visibility": null,
            "width": null
          }
        },
        "02c0fa6a36b9422a8391f6340d4efef0": {
          "model_module": "@jupyter-widgets/base",
          "model_name": "LayoutModel",
          "model_module_version": "1.2.0",
          "state": {
            "_model_module": "@jupyter-widgets/base",
            "_model_module_version": "1.2.0",
            "_model_name": "LayoutModel",
            "_view_count": null,
            "_view_module": "@jupyter-widgets/base",
            "_view_module_version": "1.2.0",
            "_view_name": "LayoutView",
            "align_content": null,
            "align_items": null,
            "align_self": null,
            "border": null,
            "bottom": null,
            "display": null,
            "flex": null,
            "flex_flow": null,
            "grid_area": null,
            "grid_auto_columns": null,
            "grid_auto_flow": null,
            "grid_auto_rows": null,
            "grid_column": null,
            "grid_gap": null,
            "grid_row": null,
            "grid_template_areas": null,
            "grid_template_columns": null,
            "grid_template_rows": null,
            "height": null,
            "justify_content": null,
            "justify_items": null,
            "left": null,
            "margin": null,
            "max_height": null,
            "max_width": null,
            "min_height": null,
            "min_width": null,
            "object_fit": null,
            "object_position": null,
            "order": null,
            "overflow": null,
            "overflow_x": null,
            "overflow_y": null,
            "padding": null,
            "right": null,
            "top": null,
            "visibility": null,
            "width": null
          }
        },
        "68bcba0c27f549b3b885926ee1398413": {
          "model_module": "@jupyter-widgets/controls",
          "model_name": "DescriptionStyleModel",
          "model_module_version": "1.5.0",
          "state": {
            "_model_module": "@jupyter-widgets/controls",
            "_model_module_version": "1.5.0",
            "_model_name": "DescriptionStyleModel",
            "_view_count": null,
            "_view_module": "@jupyter-widgets/base",
            "_view_module_version": "1.2.0",
            "_view_name": "StyleView",
            "description_width": ""
          }
        },
        "539910c933e347d7be05725967321617": {
          "model_module": "@jupyter-widgets/base",
          "model_name": "LayoutModel",
          "model_module_version": "1.2.0",
          "state": {
            "_model_module": "@jupyter-widgets/base",
            "_model_module_version": "1.2.0",
            "_model_name": "LayoutModel",
            "_view_count": null,
            "_view_module": "@jupyter-widgets/base",
            "_view_module_version": "1.2.0",
            "_view_name": "LayoutView",
            "align_content": null,
            "align_items": null,
            "align_self": null,
            "border": null,
            "bottom": null,
            "display": null,
            "flex": null,
            "flex_flow": null,
            "grid_area": null,
            "grid_auto_columns": null,
            "grid_auto_flow": null,
            "grid_auto_rows": null,
            "grid_column": null,
            "grid_gap": null,
            "grid_row": null,
            "grid_template_areas": null,
            "grid_template_columns": null,
            "grid_template_rows": null,
            "height": null,
            "justify_content": null,
            "justify_items": null,
            "left": null,
            "margin": null,
            "max_height": null,
            "max_width": null,
            "min_height": null,
            "min_width": null,
            "object_fit": null,
            "object_position": null,
            "order": null,
            "overflow": null,
            "overflow_x": null,
            "overflow_y": null,
            "padding": null,
            "right": null,
            "top": null,
            "visibility": null,
            "width": null
          }
        },
        "00920aca41f84df18d066fa809bc5612": {
          "model_module": "@jupyter-widgets/controls",
          "model_name": "ProgressStyleModel",
          "model_module_version": "1.5.0",
          "state": {
            "_model_module": "@jupyter-widgets/controls",
            "_model_module_version": "1.5.0",
            "_model_name": "ProgressStyleModel",
            "_view_count": null,
            "_view_module": "@jupyter-widgets/base",
            "_view_module_version": "1.2.0",
            "_view_name": "StyleView",
            "bar_color": null,
            "description_width": ""
          }
        },
        "94bd1fb7822f4f4a9f2dba23716ab203": {
          "model_module": "@jupyter-widgets/base",
          "model_name": "LayoutModel",
          "model_module_version": "1.2.0",
          "state": {
            "_model_module": "@jupyter-widgets/base",
            "_model_module_version": "1.2.0",
            "_model_name": "LayoutModel",
            "_view_count": null,
            "_view_module": "@jupyter-widgets/base",
            "_view_module_version": "1.2.0",
            "_view_name": "LayoutView",
            "align_content": null,
            "align_items": null,
            "align_self": null,
            "border": null,
            "bottom": null,
            "display": null,
            "flex": null,
            "flex_flow": null,
            "grid_area": null,
            "grid_auto_columns": null,
            "grid_auto_flow": null,
            "grid_auto_rows": null,
            "grid_column": null,
            "grid_gap": null,
            "grid_row": null,
            "grid_template_areas": null,
            "grid_template_columns": null,
            "grid_template_rows": null,
            "height": null,
            "justify_content": null,
            "justify_items": null,
            "left": null,
            "margin": null,
            "max_height": null,
            "max_width": null,
            "min_height": null,
            "min_width": null,
            "object_fit": null,
            "object_position": null,
            "order": null,
            "overflow": null,
            "overflow_x": null,
            "overflow_y": null,
            "padding": null,
            "right": null,
            "top": null,
            "visibility": null,
            "width": null
          }
        },
        "6af7a8994cb9447d81a1af04a631830d": {
          "model_module": "@jupyter-widgets/controls",
          "model_name": "DescriptionStyleModel",
          "model_module_version": "1.5.0",
          "state": {
            "_model_module": "@jupyter-widgets/controls",
            "_model_module_version": "1.5.0",
            "_model_name": "DescriptionStyleModel",
            "_view_count": null,
            "_view_module": "@jupyter-widgets/base",
            "_view_module_version": "1.2.0",
            "_view_name": "StyleView",
            "description_width": ""
          }
        },
        "1eb3400830f345dab50aee1016749a45": {
          "model_module": "@jupyter-widgets/controls",
          "model_name": "HBoxModel",
          "model_module_version": "1.5.0",
          "state": {
            "_dom_classes": [],
            "_model_module": "@jupyter-widgets/controls",
            "_model_module_version": "1.5.0",
            "_model_name": "HBoxModel",
            "_view_count": null,
            "_view_module": "@jupyter-widgets/controls",
            "_view_module_version": "1.5.0",
            "_view_name": "HBoxView",
            "box_style": "",
            "children": [
              "IPY_MODEL_6a1f46abb4b14e8291e8a229c85fe7a0",
              "IPY_MODEL_4aa51e9ceec14456b708e5a36a26b639",
              "IPY_MODEL_0dd6bbedd7014072a27df179b233e68b"
            ],
            "layout": "IPY_MODEL_f3e99bb9ff3841d493ccaa03a745120b"
          }
        },
        "6a1f46abb4b14e8291e8a229c85fe7a0": {
          "model_module": "@jupyter-widgets/controls",
          "model_name": "HTMLModel",
          "model_module_version": "1.5.0",
          "state": {
            "_dom_classes": [],
            "_model_module": "@jupyter-widgets/controls",
            "_model_module_version": "1.5.0",
            "_model_name": "HTMLModel",
            "_view_count": null,
            "_view_module": "@jupyter-widgets/controls",
            "_view_module_version": "1.5.0",
            "_view_name": "HTMLView",
            "description": "",
            "description_tooltip": null,
            "layout": "IPY_MODEL_48232f180994400ab438b1ea47c11927",
            "placeholder": "​",
            "style": "IPY_MODEL_373992d10b2a46878d4f65f8f6979b83",
            "value": "tokenizer_config.json: 100%"
          }
        },
        "4aa51e9ceec14456b708e5a36a26b639": {
          "model_module": "@jupyter-widgets/controls",
          "model_name": "FloatProgressModel",
          "model_module_version": "1.5.0",
          "state": {
            "_dom_classes": [],
            "_model_module": "@jupyter-widgets/controls",
            "_model_module_version": "1.5.0",
            "_model_name": "FloatProgressModel",
            "_view_count": null,
            "_view_module": "@jupyter-widgets/controls",
            "_view_module_version": "1.5.0",
            "_view_name": "ProgressView",
            "bar_style": "success",
            "description": "",
            "description_tooltip": null,
            "layout": "IPY_MODEL_078f79f308e841b1af7b63cf8c21e58a",
            "max": 363,
            "min": 0,
            "orientation": "horizontal",
            "style": "IPY_MODEL_63a1ef55fb614645a9b74ecc33f169fc",
            "value": 363
          }
        },
        "0dd6bbedd7014072a27df179b233e68b": {
          "model_module": "@jupyter-widgets/controls",
          "model_name": "HTMLModel",
          "model_module_version": "1.5.0",
          "state": {
            "_dom_classes": [],
            "_model_module": "@jupyter-widgets/controls",
            "_model_module_version": "1.5.0",
            "_model_name": "HTMLModel",
            "_view_count": null,
            "_view_module": "@jupyter-widgets/controls",
            "_view_module_version": "1.5.0",
            "_view_name": "HTMLView",
            "description": "",
            "description_tooltip": null,
            "layout": "IPY_MODEL_99fcf2830651460abf6679be56482c91",
            "placeholder": "​",
            "style": "IPY_MODEL_5cae7262ddfe49e38ed7dacf59fed974",
            "value": " 363/363 [00:00&lt;00:00, 28.6kB/s]"
          }
        },
        "f3e99bb9ff3841d493ccaa03a745120b": {
          "model_module": "@jupyter-widgets/base",
          "model_name": "LayoutModel",
          "model_module_version": "1.2.0",
          "state": {
            "_model_module": "@jupyter-widgets/base",
            "_model_module_version": "1.2.0",
            "_model_name": "LayoutModel",
            "_view_count": null,
            "_view_module": "@jupyter-widgets/base",
            "_view_module_version": "1.2.0",
            "_view_name": "LayoutView",
            "align_content": null,
            "align_items": null,
            "align_self": null,
            "border": null,
            "bottom": null,
            "display": null,
            "flex": null,
            "flex_flow": null,
            "grid_area": null,
            "grid_auto_columns": null,
            "grid_auto_flow": null,
            "grid_auto_rows": null,
            "grid_column": null,
            "grid_gap": null,
            "grid_row": null,
            "grid_template_areas": null,
            "grid_template_columns": null,
            "grid_template_rows": null,
            "height": null,
            "justify_content": null,
            "justify_items": null,
            "left": null,
            "margin": null,
            "max_height": null,
            "max_width": null,
            "min_height": null,
            "min_width": null,
            "object_fit": null,
            "object_position": null,
            "order": null,
            "overflow": null,
            "overflow_x": null,
            "overflow_y": null,
            "padding": null,
            "right": null,
            "top": null,
            "visibility": null,
            "width": null
          }
        },
        "48232f180994400ab438b1ea47c11927": {
          "model_module": "@jupyter-widgets/base",
          "model_name": "LayoutModel",
          "model_module_version": "1.2.0",
          "state": {
            "_model_module": "@jupyter-widgets/base",
            "_model_module_version": "1.2.0",
            "_model_name": "LayoutModel",
            "_view_count": null,
            "_view_module": "@jupyter-widgets/base",
            "_view_module_version": "1.2.0",
            "_view_name": "LayoutView",
            "align_content": null,
            "align_items": null,
            "align_self": null,
            "border": null,
            "bottom": null,
            "display": null,
            "flex": null,
            "flex_flow": null,
            "grid_area": null,
            "grid_auto_columns": null,
            "grid_auto_flow": null,
            "grid_auto_rows": null,
            "grid_column": null,
            "grid_gap": null,
            "grid_row": null,
            "grid_template_areas": null,
            "grid_template_columns": null,
            "grid_template_rows": null,
            "height": null,
            "justify_content": null,
            "justify_items": null,
            "left": null,
            "margin": null,
            "max_height": null,
            "max_width": null,
            "min_height": null,
            "min_width": null,
            "object_fit": null,
            "object_position": null,
            "order": null,
            "overflow": null,
            "overflow_x": null,
            "overflow_y": null,
            "padding": null,
            "right": null,
            "top": null,
            "visibility": null,
            "width": null
          }
        },
        "373992d10b2a46878d4f65f8f6979b83": {
          "model_module": "@jupyter-widgets/controls",
          "model_name": "DescriptionStyleModel",
          "model_module_version": "1.5.0",
          "state": {
            "_model_module": "@jupyter-widgets/controls",
            "_model_module_version": "1.5.0",
            "_model_name": "DescriptionStyleModel",
            "_view_count": null,
            "_view_module": "@jupyter-widgets/base",
            "_view_module_version": "1.2.0",
            "_view_name": "StyleView",
            "description_width": ""
          }
        },
        "078f79f308e841b1af7b63cf8c21e58a": {
          "model_module": "@jupyter-widgets/base",
          "model_name": "LayoutModel",
          "model_module_version": "1.2.0",
          "state": {
            "_model_module": "@jupyter-widgets/base",
            "_model_module_version": "1.2.0",
            "_model_name": "LayoutModel",
            "_view_count": null,
            "_view_module": "@jupyter-widgets/base",
            "_view_module_version": "1.2.0",
            "_view_name": "LayoutView",
            "align_content": null,
            "align_items": null,
            "align_self": null,
            "border": null,
            "bottom": null,
            "display": null,
            "flex": null,
            "flex_flow": null,
            "grid_area": null,
            "grid_auto_columns": null,
            "grid_auto_flow": null,
            "grid_auto_rows": null,
            "grid_column": null,
            "grid_gap": null,
            "grid_row": null,
            "grid_template_areas": null,
            "grid_template_columns": null,
            "grid_template_rows": null,
            "height": null,
            "justify_content": null,
            "justify_items": null,
            "left": null,
            "margin": null,
            "max_height": null,
            "max_width": null,
            "min_height": null,
            "min_width": null,
            "object_fit": null,
            "object_position": null,
            "order": null,
            "overflow": null,
            "overflow_x": null,
            "overflow_y": null,
            "padding": null,
            "right": null,
            "top": null,
            "visibility": null,
            "width": null
          }
        },
        "63a1ef55fb614645a9b74ecc33f169fc": {
          "model_module": "@jupyter-widgets/controls",
          "model_name": "ProgressStyleModel",
          "model_module_version": "1.5.0",
          "state": {
            "_model_module": "@jupyter-widgets/controls",
            "_model_module_version": "1.5.0",
            "_model_name": "ProgressStyleModel",
            "_view_count": null,
            "_view_module": "@jupyter-widgets/base",
            "_view_module_version": "1.2.0",
            "_view_name": "StyleView",
            "bar_color": null,
            "description_width": ""
          }
        },
        "99fcf2830651460abf6679be56482c91": {
          "model_module": "@jupyter-widgets/base",
          "model_name": "LayoutModel",
          "model_module_version": "1.2.0",
          "state": {
            "_model_module": "@jupyter-widgets/base",
            "_model_module_version": "1.2.0",
            "_model_name": "LayoutModel",
            "_view_count": null,
            "_view_module": "@jupyter-widgets/base",
            "_view_module_version": "1.2.0",
            "_view_name": "LayoutView",
            "align_content": null,
            "align_items": null,
            "align_self": null,
            "border": null,
            "bottom": null,
            "display": null,
            "flex": null,
            "flex_flow": null,
            "grid_area": null,
            "grid_auto_columns": null,
            "grid_auto_flow": null,
            "grid_auto_rows": null,
            "grid_column": null,
            "grid_gap": null,
            "grid_row": null,
            "grid_template_areas": null,
            "grid_template_columns": null,
            "grid_template_rows": null,
            "height": null,
            "justify_content": null,
            "justify_items": null,
            "left": null,
            "margin": null,
            "max_height": null,
            "max_width": null,
            "min_height": null,
            "min_width": null,
            "object_fit": null,
            "object_position": null,
            "order": null,
            "overflow": null,
            "overflow_x": null,
            "overflow_y": null,
            "padding": null,
            "right": null,
            "top": null,
            "visibility": null,
            "width": null
          }
        },
        "5cae7262ddfe49e38ed7dacf59fed974": {
          "model_module": "@jupyter-widgets/controls",
          "model_name": "DescriptionStyleModel",
          "model_module_version": "1.5.0",
          "state": {
            "_model_module": "@jupyter-widgets/controls",
            "_model_module_version": "1.5.0",
            "_model_name": "DescriptionStyleModel",
            "_view_count": null,
            "_view_module": "@jupyter-widgets/base",
            "_view_module_version": "1.2.0",
            "_view_name": "StyleView",
            "description_width": ""
          }
        },
        "4a48893726d448218ef3bf70e4d09050": {
          "model_module": "@jupyter-widgets/controls",
          "model_name": "HBoxModel",
          "model_module_version": "1.5.0",
          "state": {
            "_dom_classes": [],
            "_model_module": "@jupyter-widgets/controls",
            "_model_module_version": "1.5.0",
            "_model_name": "HBoxModel",
            "_view_count": null,
            "_view_module": "@jupyter-widgets/controls",
            "_view_module_version": "1.5.0",
            "_view_name": "HBoxView",
            "box_style": "",
            "children": [
              "IPY_MODEL_7683d9c9783e46bda933b0ebd54377fa",
              "IPY_MODEL_a4f4982b95794472a322e64738b534c9",
              "IPY_MODEL_dcbd87627a7f46a4be77a42d25828d9e"
            ],
            "layout": "IPY_MODEL_fa824daf2ec04c05a0168e5f15489648"
          }
        },
        "7683d9c9783e46bda933b0ebd54377fa": {
          "model_module": "@jupyter-widgets/controls",
          "model_name": "HTMLModel",
          "model_module_version": "1.5.0",
          "state": {
            "_dom_classes": [],
            "_model_module": "@jupyter-widgets/controls",
            "_model_module_version": "1.5.0",
            "_model_name": "HTMLModel",
            "_view_count": null,
            "_view_module": "@jupyter-widgets/controls",
            "_view_module_version": "1.5.0",
            "_view_name": "HTMLView",
            "description": "",
            "description_tooltip": null,
            "layout": "IPY_MODEL_bc5b670de0714e5abd6cd445e5d99c1a",
            "placeholder": "​",
            "style": "IPY_MODEL_a14399b3f3f64352a984f7f1ffd7a5d9",
            "value": "vocab.txt: 100%"
          }
        },
        "a4f4982b95794472a322e64738b534c9": {
          "model_module": "@jupyter-widgets/controls",
          "model_name": "FloatProgressModel",
          "model_module_version": "1.5.0",
          "state": {
            "_dom_classes": [],
            "_model_module": "@jupyter-widgets/controls",
            "_model_module_version": "1.5.0",
            "_model_name": "FloatProgressModel",
            "_view_count": null,
            "_view_module": "@jupyter-widgets/controls",
            "_view_module_version": "1.5.0",
            "_view_name": "ProgressView",
            "bar_style": "success",
            "description": "",
            "description_tooltip": null,
            "layout": "IPY_MODEL_d523811717cd48cd83444c3d6718273b",
            "max": 231536,
            "min": 0,
            "orientation": "horizontal",
            "style": "IPY_MODEL_d948e2bbb5164d79906d2346f5b98269",
            "value": 231536
          }
        },
        "dcbd87627a7f46a4be77a42d25828d9e": {
          "model_module": "@jupyter-widgets/controls",
          "model_name": "HTMLModel",
          "model_module_version": "1.5.0",
          "state": {
            "_dom_classes": [],
            "_model_module": "@jupyter-widgets/controls",
            "_model_module_version": "1.5.0",
            "_model_name": "HTMLModel",
            "_view_count": null,
            "_view_module": "@jupyter-widgets/controls",
            "_view_module_version": "1.5.0",
            "_view_name": "HTMLView",
            "description": "",
            "description_tooltip": null,
            "layout": "IPY_MODEL_c830aeae41d74397a01b8f1073e167cf",
            "placeholder": "​",
            "style": "IPY_MODEL_7647247cbffd46a7aa17cae5d7f63fa0",
            "value": " 232k/232k [00:00&lt;00:00, 4.62MB/s]"
          }
        },
        "fa824daf2ec04c05a0168e5f15489648": {
          "model_module": "@jupyter-widgets/base",
          "model_name": "LayoutModel",
          "model_module_version": "1.2.0",
          "state": {
            "_model_module": "@jupyter-widgets/base",
            "_model_module_version": "1.2.0",
            "_model_name": "LayoutModel",
            "_view_count": null,
            "_view_module": "@jupyter-widgets/base",
            "_view_module_version": "1.2.0",
            "_view_name": "LayoutView",
            "align_content": null,
            "align_items": null,
            "align_self": null,
            "border": null,
            "bottom": null,
            "display": null,
            "flex": null,
            "flex_flow": null,
            "grid_area": null,
            "grid_auto_columns": null,
            "grid_auto_flow": null,
            "grid_auto_rows": null,
            "grid_column": null,
            "grid_gap": null,
            "grid_row": null,
            "grid_template_areas": null,
            "grid_template_columns": null,
            "grid_template_rows": null,
            "height": null,
            "justify_content": null,
            "justify_items": null,
            "left": null,
            "margin": null,
            "max_height": null,
            "max_width": null,
            "min_height": null,
            "min_width": null,
            "object_fit": null,
            "object_position": null,
            "order": null,
            "overflow": null,
            "overflow_x": null,
            "overflow_y": null,
            "padding": null,
            "right": null,
            "top": null,
            "visibility": null,
            "width": null
          }
        },
        "bc5b670de0714e5abd6cd445e5d99c1a": {
          "model_module": "@jupyter-widgets/base",
          "model_name": "LayoutModel",
          "model_module_version": "1.2.0",
          "state": {
            "_model_module": "@jupyter-widgets/base",
            "_model_module_version": "1.2.0",
            "_model_name": "LayoutModel",
            "_view_count": null,
            "_view_module": "@jupyter-widgets/base",
            "_view_module_version": "1.2.0",
            "_view_name": "LayoutView",
            "align_content": null,
            "align_items": null,
            "align_self": null,
            "border": null,
            "bottom": null,
            "display": null,
            "flex": null,
            "flex_flow": null,
            "grid_area": null,
            "grid_auto_columns": null,
            "grid_auto_flow": null,
            "grid_auto_rows": null,
            "grid_column": null,
            "grid_gap": null,
            "grid_row": null,
            "grid_template_areas": null,
            "grid_template_columns": null,
            "grid_template_rows": null,
            "height": null,
            "justify_content": null,
            "justify_items": null,
            "left": null,
            "margin": null,
            "max_height": null,
            "max_width": null,
            "min_height": null,
            "min_width": null,
            "object_fit": null,
            "object_position": null,
            "order": null,
            "overflow": null,
            "overflow_x": null,
            "overflow_y": null,
            "padding": null,
            "right": null,
            "top": null,
            "visibility": null,
            "width": null
          }
        },
        "a14399b3f3f64352a984f7f1ffd7a5d9": {
          "model_module": "@jupyter-widgets/controls",
          "model_name": "DescriptionStyleModel",
          "model_module_version": "1.5.0",
          "state": {
            "_model_module": "@jupyter-widgets/controls",
            "_model_module_version": "1.5.0",
            "_model_name": "DescriptionStyleModel",
            "_view_count": null,
            "_view_module": "@jupyter-widgets/base",
            "_view_module_version": "1.2.0",
            "_view_name": "StyleView",
            "description_width": ""
          }
        },
        "d523811717cd48cd83444c3d6718273b": {
          "model_module": "@jupyter-widgets/base",
          "model_name": "LayoutModel",
          "model_module_version": "1.2.0",
          "state": {
            "_model_module": "@jupyter-widgets/base",
            "_model_module_version": "1.2.0",
            "_model_name": "LayoutModel",
            "_view_count": null,
            "_view_module": "@jupyter-widgets/base",
            "_view_module_version": "1.2.0",
            "_view_name": "LayoutView",
            "align_content": null,
            "align_items": null,
            "align_self": null,
            "border": null,
            "bottom": null,
            "display": null,
            "flex": null,
            "flex_flow": null,
            "grid_area": null,
            "grid_auto_columns": null,
            "grid_auto_flow": null,
            "grid_auto_rows": null,
            "grid_column": null,
            "grid_gap": null,
            "grid_row": null,
            "grid_template_areas": null,
            "grid_template_columns": null,
            "grid_template_rows": null,
            "height": null,
            "justify_content": null,
            "justify_items": null,
            "left": null,
            "margin": null,
            "max_height": null,
            "max_width": null,
            "min_height": null,
            "min_width": null,
            "object_fit": null,
            "object_position": null,
            "order": null,
            "overflow": null,
            "overflow_x": null,
            "overflow_y": null,
            "padding": null,
            "right": null,
            "top": null,
            "visibility": null,
            "width": null
          }
        },
        "d948e2bbb5164d79906d2346f5b98269": {
          "model_module": "@jupyter-widgets/controls",
          "model_name": "ProgressStyleModel",
          "model_module_version": "1.5.0",
          "state": {
            "_model_module": "@jupyter-widgets/controls",
            "_model_module_version": "1.5.0",
            "_model_name": "ProgressStyleModel",
            "_view_count": null,
            "_view_module": "@jupyter-widgets/base",
            "_view_module_version": "1.2.0",
            "_view_name": "StyleView",
            "bar_color": null,
            "description_width": ""
          }
        },
        "c830aeae41d74397a01b8f1073e167cf": {
          "model_module": "@jupyter-widgets/base",
          "model_name": "LayoutModel",
          "model_module_version": "1.2.0",
          "state": {
            "_model_module": "@jupyter-widgets/base",
            "_model_module_version": "1.2.0",
            "_model_name": "LayoutModel",
            "_view_count": null,
            "_view_module": "@jupyter-widgets/base",
            "_view_module_version": "1.2.0",
            "_view_name": "LayoutView",
            "align_content": null,
            "align_items": null,
            "align_self": null,
            "border": null,
            "bottom": null,
            "display": null,
            "flex": null,
            "flex_flow": null,
            "grid_area": null,
            "grid_auto_columns": null,
            "grid_auto_flow": null,
            "grid_auto_rows": null,
            "grid_column": null,
            "grid_gap": null,
            "grid_row": null,
            "grid_template_areas": null,
            "grid_template_columns": null,
            "grid_template_rows": null,
            "height": null,
            "justify_content": null,
            "justify_items": null,
            "left": null,
            "margin": null,
            "max_height": null,
            "max_width": null,
            "min_height": null,
            "min_width": null,
            "object_fit": null,
            "object_position": null,
            "order": null,
            "overflow": null,
            "overflow_x": null,
            "overflow_y": null,
            "padding": null,
            "right": null,
            "top": null,
            "visibility": null,
            "width": null
          }
        },
        "7647247cbffd46a7aa17cae5d7f63fa0": {
          "model_module": "@jupyter-widgets/controls",
          "model_name": "DescriptionStyleModel",
          "model_module_version": "1.5.0",
          "state": {
            "_model_module": "@jupyter-widgets/controls",
            "_model_module_version": "1.5.0",
            "_model_name": "DescriptionStyleModel",
            "_view_count": null,
            "_view_module": "@jupyter-widgets/base",
            "_view_module_version": "1.2.0",
            "_view_name": "StyleView",
            "description_width": ""
          }
        },
        "2e1f9be3795941cfb44d3980db005f74": {
          "model_module": "@jupyter-widgets/controls",
          "model_name": "HBoxModel",
          "model_module_version": "1.5.0",
          "state": {
            "_dom_classes": [],
            "_model_module": "@jupyter-widgets/controls",
            "_model_module_version": "1.5.0",
            "_model_name": "HBoxModel",
            "_view_count": null,
            "_view_module": "@jupyter-widgets/controls",
            "_view_module_version": "1.5.0",
            "_view_name": "HBoxView",
            "box_style": "",
            "children": [
              "IPY_MODEL_6e9df0ee691844b4b5eecb858832d4ce",
              "IPY_MODEL_9651a4f810bd4bd1b7c49e17c5258bf2",
              "IPY_MODEL_a1dfcd2eddb7482281d45f764fa264c8"
            ],
            "layout": "IPY_MODEL_1725cfdfedf944a2aaa816b9a818d44f"
          }
        },
        "6e9df0ee691844b4b5eecb858832d4ce": {
          "model_module": "@jupyter-widgets/controls",
          "model_name": "HTMLModel",
          "model_module_version": "1.5.0",
          "state": {
            "_dom_classes": [],
            "_model_module": "@jupyter-widgets/controls",
            "_model_module_version": "1.5.0",
            "_model_name": "HTMLModel",
            "_view_count": null,
            "_view_module": "@jupyter-widgets/controls",
            "_view_module_version": "1.5.0",
            "_view_name": "HTMLView",
            "description": "",
            "description_tooltip": null,
            "layout": "IPY_MODEL_9abd70762350448cafc2f4f8ccf51750",
            "placeholder": "​",
            "style": "IPY_MODEL_04a828733e0c4c05bd31776e612a056f",
            "value": "tokenizer.json: 100%"
          }
        },
        "9651a4f810bd4bd1b7c49e17c5258bf2": {
          "model_module": "@jupyter-widgets/controls",
          "model_name": "FloatProgressModel",
          "model_module_version": "1.5.0",
          "state": {
            "_dom_classes": [],
            "_model_module": "@jupyter-widgets/controls",
            "_model_module_version": "1.5.0",
            "_model_name": "FloatProgressModel",
            "_view_count": null,
            "_view_module": "@jupyter-widgets/controls",
            "_view_module_version": "1.5.0",
            "_view_name": "ProgressView",
            "bar_style": "success",
            "description": "",
            "description_tooltip": null,
            "layout": "IPY_MODEL_243833cec10542c8b6b6144198b84d35",
            "max": 466021,
            "min": 0,
            "orientation": "horizontal",
            "style": "IPY_MODEL_a32e15b5537f4327ba49daab8aaeddc5",
            "value": 466021
          }
        },
        "a1dfcd2eddb7482281d45f764fa264c8": {
          "model_module": "@jupyter-widgets/controls",
          "model_name": "HTMLModel",
          "model_module_version": "1.5.0",
          "state": {
            "_dom_classes": [],
            "_model_module": "@jupyter-widgets/controls",
            "_model_module_version": "1.5.0",
            "_model_name": "HTMLModel",
            "_view_count": null,
            "_view_module": "@jupyter-widgets/controls",
            "_view_module_version": "1.5.0",
            "_view_name": "HTMLView",
            "description": "",
            "description_tooltip": null,
            "layout": "IPY_MODEL_2db14e659a1a438db63787ca8e047b7a",
            "placeholder": "​",
            "style": "IPY_MODEL_8703fce1795247a78d97dfe6f1700ba9",
            "value": " 466k/466k [00:00&lt;00:00, 7.78MB/s]"
          }
        },
        "1725cfdfedf944a2aaa816b9a818d44f": {
          "model_module": "@jupyter-widgets/base",
          "model_name": "LayoutModel",
          "model_module_version": "1.2.0",
          "state": {
            "_model_module": "@jupyter-widgets/base",
            "_model_module_version": "1.2.0",
            "_model_name": "LayoutModel",
            "_view_count": null,
            "_view_module": "@jupyter-widgets/base",
            "_view_module_version": "1.2.0",
            "_view_name": "LayoutView",
            "align_content": null,
            "align_items": null,
            "align_self": null,
            "border": null,
            "bottom": null,
            "display": null,
            "flex": null,
            "flex_flow": null,
            "grid_area": null,
            "grid_auto_columns": null,
            "grid_auto_flow": null,
            "grid_auto_rows": null,
            "grid_column": null,
            "grid_gap": null,
            "grid_row": null,
            "grid_template_areas": null,
            "grid_template_columns": null,
            "grid_template_rows": null,
            "height": null,
            "justify_content": null,
            "justify_items": null,
            "left": null,
            "margin": null,
            "max_height": null,
            "max_width": null,
            "min_height": null,
            "min_width": null,
            "object_fit": null,
            "object_position": null,
            "order": null,
            "overflow": null,
            "overflow_x": null,
            "overflow_y": null,
            "padding": null,
            "right": null,
            "top": null,
            "visibility": null,
            "width": null
          }
        },
        "9abd70762350448cafc2f4f8ccf51750": {
          "model_module": "@jupyter-widgets/base",
          "model_name": "LayoutModel",
          "model_module_version": "1.2.0",
          "state": {
            "_model_module": "@jupyter-widgets/base",
            "_model_module_version": "1.2.0",
            "_model_name": "LayoutModel",
            "_view_count": null,
            "_view_module": "@jupyter-widgets/base",
            "_view_module_version": "1.2.0",
            "_view_name": "LayoutView",
            "align_content": null,
            "align_items": null,
            "align_self": null,
            "border": null,
            "bottom": null,
            "display": null,
            "flex": null,
            "flex_flow": null,
            "grid_area": null,
            "grid_auto_columns": null,
            "grid_auto_flow": null,
            "grid_auto_rows": null,
            "grid_column": null,
            "grid_gap": null,
            "grid_row": null,
            "grid_template_areas": null,
            "grid_template_columns": null,
            "grid_template_rows": null,
            "height": null,
            "justify_content": null,
            "justify_items": null,
            "left": null,
            "margin": null,
            "max_height": null,
            "max_width": null,
            "min_height": null,
            "min_width": null,
            "object_fit": null,
            "object_position": null,
            "order": null,
            "overflow": null,
            "overflow_x": null,
            "overflow_y": null,
            "padding": null,
            "right": null,
            "top": null,
            "visibility": null,
            "width": null
          }
        },
        "04a828733e0c4c05bd31776e612a056f": {
          "model_module": "@jupyter-widgets/controls",
          "model_name": "DescriptionStyleModel",
          "model_module_version": "1.5.0",
          "state": {
            "_model_module": "@jupyter-widgets/controls",
            "_model_module_version": "1.5.0",
            "_model_name": "DescriptionStyleModel",
            "_view_count": null,
            "_view_module": "@jupyter-widgets/base",
            "_view_module_version": "1.2.0",
            "_view_name": "StyleView",
            "description_width": ""
          }
        },
        "243833cec10542c8b6b6144198b84d35": {
          "model_module": "@jupyter-widgets/base",
          "model_name": "LayoutModel",
          "model_module_version": "1.2.0",
          "state": {
            "_model_module": "@jupyter-widgets/base",
            "_model_module_version": "1.2.0",
            "_model_name": "LayoutModel",
            "_view_count": null,
            "_view_module": "@jupyter-widgets/base",
            "_view_module_version": "1.2.0",
            "_view_name": "LayoutView",
            "align_content": null,
            "align_items": null,
            "align_self": null,
            "border": null,
            "bottom": null,
            "display": null,
            "flex": null,
            "flex_flow": null,
            "grid_area": null,
            "grid_auto_columns": null,
            "grid_auto_flow": null,
            "grid_auto_rows": null,
            "grid_column": null,
            "grid_gap": null,
            "grid_row": null,
            "grid_template_areas": null,
            "grid_template_columns": null,
            "grid_template_rows": null,
            "height": null,
            "justify_content": null,
            "justify_items": null,
            "left": null,
            "margin": null,
            "max_height": null,
            "max_width": null,
            "min_height": null,
            "min_width": null,
            "object_fit": null,
            "object_position": null,
            "order": null,
            "overflow": null,
            "overflow_x": null,
            "overflow_y": null,
            "padding": null,
            "right": null,
            "top": null,
            "visibility": null,
            "width": null
          }
        },
        "a32e15b5537f4327ba49daab8aaeddc5": {
          "model_module": "@jupyter-widgets/controls",
          "model_name": "ProgressStyleModel",
          "model_module_version": "1.5.0",
          "state": {
            "_model_module": "@jupyter-widgets/controls",
            "_model_module_version": "1.5.0",
            "_model_name": "ProgressStyleModel",
            "_view_count": null,
            "_view_module": "@jupyter-widgets/base",
            "_view_module_version": "1.2.0",
            "_view_name": "StyleView",
            "bar_color": null,
            "description_width": ""
          }
        },
        "2db14e659a1a438db63787ca8e047b7a": {
          "model_module": "@jupyter-widgets/base",
          "model_name": "LayoutModel",
          "model_module_version": "1.2.0",
          "state": {
            "_model_module": "@jupyter-widgets/base",
            "_model_module_version": "1.2.0",
            "_model_name": "LayoutModel",
            "_view_count": null,
            "_view_module": "@jupyter-widgets/base",
            "_view_module_version": "1.2.0",
            "_view_name": "LayoutView",
            "align_content": null,
            "align_items": null,
            "align_self": null,
            "border": null,
            "bottom": null,
            "display": null,
            "flex": null,
            "flex_flow": null,
            "grid_area": null,
            "grid_auto_columns": null,
            "grid_auto_flow": null,
            "grid_auto_rows": null,
            "grid_column": null,
            "grid_gap": null,
            "grid_row": null,
            "grid_template_areas": null,
            "grid_template_columns": null,
            "grid_template_rows": null,
            "height": null,
            "justify_content": null,
            "justify_items": null,
            "left": null,
            "margin": null,
            "max_height": null,
            "max_width": null,
            "min_height": null,
            "min_width": null,
            "object_fit": null,
            "object_position": null,
            "order": null,
            "overflow": null,
            "overflow_x": null,
            "overflow_y": null,
            "padding": null,
            "right": null,
            "top": null,
            "visibility": null,
            "width": null
          }
        },
        "8703fce1795247a78d97dfe6f1700ba9": {
          "model_module": "@jupyter-widgets/controls",
          "model_name": "DescriptionStyleModel",
          "model_module_version": "1.5.0",
          "state": {
            "_model_module": "@jupyter-widgets/controls",
            "_model_module_version": "1.5.0",
            "_model_name": "DescriptionStyleModel",
            "_view_count": null,
            "_view_module": "@jupyter-widgets/base",
            "_view_module_version": "1.2.0",
            "_view_name": "StyleView",
            "description_width": ""
          }
        },
        "e4ec2cef3c884d188f82ee6964def7ac": {
          "model_module": "@jupyter-widgets/controls",
          "model_name": "HBoxModel",
          "model_module_version": "1.5.0",
          "state": {
            "_dom_classes": [],
            "_model_module": "@jupyter-widgets/controls",
            "_model_module_version": "1.5.0",
            "_model_name": "HBoxModel",
            "_view_count": null,
            "_view_module": "@jupyter-widgets/controls",
            "_view_module_version": "1.5.0",
            "_view_name": "HBoxView",
            "box_style": "",
            "children": [
              "IPY_MODEL_057e516db01d44b0960282c135271130",
              "IPY_MODEL_362d2bb359a84b51bd8778de9a62ab40",
              "IPY_MODEL_a6ada28420044dcdb3710319762b766c"
            ],
            "layout": "IPY_MODEL_8760f087f5b24d6185eb365949baf342"
          }
        },
        "057e516db01d44b0960282c135271130": {
          "model_module": "@jupyter-widgets/controls",
          "model_name": "HTMLModel",
          "model_module_version": "1.5.0",
          "state": {
            "_dom_classes": [],
            "_model_module": "@jupyter-widgets/controls",
            "_model_module_version": "1.5.0",
            "_model_name": "HTMLModel",
            "_view_count": null,
            "_view_module": "@jupyter-widgets/controls",
            "_view_module_version": "1.5.0",
            "_view_name": "HTMLView",
            "description": "",
            "description_tooltip": null,
            "layout": "IPY_MODEL_eff12a81e4d24ffb859693c14b713af0",
            "placeholder": "​",
            "style": "IPY_MODEL_ffd05394af7b4fe3a7f48d8b97bb4a0c",
            "value": "special_tokens_map.json: 100%"
          }
        },
        "362d2bb359a84b51bd8778de9a62ab40": {
          "model_module": "@jupyter-widgets/controls",
          "model_name": "FloatProgressModel",
          "model_module_version": "1.5.0",
          "state": {
            "_dom_classes": [],
            "_model_module": "@jupyter-widgets/controls",
            "_model_module_version": "1.5.0",
            "_model_name": "FloatProgressModel",
            "_view_count": null,
            "_view_module": "@jupyter-widgets/controls",
            "_view_module_version": "1.5.0",
            "_view_name": "ProgressView",
            "bar_style": "success",
            "description": "",
            "description_tooltip": null,
            "layout": "IPY_MODEL_2c7cad5524fd488f894599ce10b1fd16",
            "max": 239,
            "min": 0,
            "orientation": "horizontal",
            "style": "IPY_MODEL_d4fbc44ae840413ebc19de8ea8fe300e",
            "value": 239
          }
        },
        "a6ada28420044dcdb3710319762b766c": {
          "model_module": "@jupyter-widgets/controls",
          "model_name": "HTMLModel",
          "model_module_version": "1.5.0",
          "state": {
            "_dom_classes": [],
            "_model_module": "@jupyter-widgets/controls",
            "_model_module_version": "1.5.0",
            "_model_name": "HTMLModel",
            "_view_count": null,
            "_view_module": "@jupyter-widgets/controls",
            "_view_module_version": "1.5.0",
            "_view_name": "HTMLView",
            "description": "",
            "description_tooltip": null,
            "layout": "IPY_MODEL_526d87ee5aef4603b60b1526d74a5b8f",
            "placeholder": "​",
            "style": "IPY_MODEL_cfe9e3e2115b4bc0b620db7e69c1b35e",
            "value": " 239/239 [00:00&lt;00:00, 20.4kB/s]"
          }
        },
        "8760f087f5b24d6185eb365949baf342": {
          "model_module": "@jupyter-widgets/base",
          "model_name": "LayoutModel",
          "model_module_version": "1.2.0",
          "state": {
            "_model_module": "@jupyter-widgets/base",
            "_model_module_version": "1.2.0",
            "_model_name": "LayoutModel",
            "_view_count": null,
            "_view_module": "@jupyter-widgets/base",
            "_view_module_version": "1.2.0",
            "_view_name": "LayoutView",
            "align_content": null,
            "align_items": null,
            "align_self": null,
            "border": null,
            "bottom": null,
            "display": null,
            "flex": null,
            "flex_flow": null,
            "grid_area": null,
            "grid_auto_columns": null,
            "grid_auto_flow": null,
            "grid_auto_rows": null,
            "grid_column": null,
            "grid_gap": null,
            "grid_row": null,
            "grid_template_areas": null,
            "grid_template_columns": null,
            "grid_template_rows": null,
            "height": null,
            "justify_content": null,
            "justify_items": null,
            "left": null,
            "margin": null,
            "max_height": null,
            "max_width": null,
            "min_height": null,
            "min_width": null,
            "object_fit": null,
            "object_position": null,
            "order": null,
            "overflow": null,
            "overflow_x": null,
            "overflow_y": null,
            "padding": null,
            "right": null,
            "top": null,
            "visibility": null,
            "width": null
          }
        },
        "eff12a81e4d24ffb859693c14b713af0": {
          "model_module": "@jupyter-widgets/base",
          "model_name": "LayoutModel",
          "model_module_version": "1.2.0",
          "state": {
            "_model_module": "@jupyter-widgets/base",
            "_model_module_version": "1.2.0",
            "_model_name": "LayoutModel",
            "_view_count": null,
            "_view_module": "@jupyter-widgets/base",
            "_view_module_version": "1.2.0",
            "_view_name": "LayoutView",
            "align_content": null,
            "align_items": null,
            "align_self": null,
            "border": null,
            "bottom": null,
            "display": null,
            "flex": null,
            "flex_flow": null,
            "grid_area": null,
            "grid_auto_columns": null,
            "grid_auto_flow": null,
            "grid_auto_rows": null,
            "grid_column": null,
            "grid_gap": null,
            "grid_row": null,
            "grid_template_areas": null,
            "grid_template_columns": null,
            "grid_template_rows": null,
            "height": null,
            "justify_content": null,
            "justify_items": null,
            "left": null,
            "margin": null,
            "max_height": null,
            "max_width": null,
            "min_height": null,
            "min_width": null,
            "object_fit": null,
            "object_position": null,
            "order": null,
            "overflow": null,
            "overflow_x": null,
            "overflow_y": null,
            "padding": null,
            "right": null,
            "top": null,
            "visibility": null,
            "width": null
          }
        },
        "ffd05394af7b4fe3a7f48d8b97bb4a0c": {
          "model_module": "@jupyter-widgets/controls",
          "model_name": "DescriptionStyleModel",
          "model_module_version": "1.5.0",
          "state": {
            "_model_module": "@jupyter-widgets/controls",
            "_model_module_version": "1.5.0",
            "_model_name": "DescriptionStyleModel",
            "_view_count": null,
            "_view_module": "@jupyter-widgets/base",
            "_view_module_version": "1.2.0",
            "_view_name": "StyleView",
            "description_width": ""
          }
        },
        "2c7cad5524fd488f894599ce10b1fd16": {
          "model_module": "@jupyter-widgets/base",
          "model_name": "LayoutModel",
          "model_module_version": "1.2.0",
          "state": {
            "_model_module": "@jupyter-widgets/base",
            "_model_module_version": "1.2.0",
            "_model_name": "LayoutModel",
            "_view_count": null,
            "_view_module": "@jupyter-widgets/base",
            "_view_module_version": "1.2.0",
            "_view_name": "LayoutView",
            "align_content": null,
            "align_items": null,
            "align_self": null,
            "border": null,
            "bottom": null,
            "display": null,
            "flex": null,
            "flex_flow": null,
            "grid_area": null,
            "grid_auto_columns": null,
            "grid_auto_flow": null,
            "grid_auto_rows": null,
            "grid_column": null,
            "grid_gap": null,
            "grid_row": null,
            "grid_template_areas": null,
            "grid_template_columns": null,
            "grid_template_rows": null,
            "height": null,
            "justify_content": null,
            "justify_items": null,
            "left": null,
            "margin": null,
            "max_height": null,
            "max_width": null,
            "min_height": null,
            "min_width": null,
            "object_fit": null,
            "object_position": null,
            "order": null,
            "overflow": null,
            "overflow_x": null,
            "overflow_y": null,
            "padding": null,
            "right": null,
            "top": null,
            "visibility": null,
            "width": null
          }
        },
        "d4fbc44ae840413ebc19de8ea8fe300e": {
          "model_module": "@jupyter-widgets/controls",
          "model_name": "ProgressStyleModel",
          "model_module_version": "1.5.0",
          "state": {
            "_model_module": "@jupyter-widgets/controls",
            "_model_module_version": "1.5.0",
            "_model_name": "ProgressStyleModel",
            "_view_count": null,
            "_view_module": "@jupyter-widgets/base",
            "_view_module_version": "1.2.0",
            "_view_name": "StyleView",
            "bar_color": null,
            "description_width": ""
          }
        },
        "526d87ee5aef4603b60b1526d74a5b8f": {
          "model_module": "@jupyter-widgets/base",
          "model_name": "LayoutModel",
          "model_module_version": "1.2.0",
          "state": {
            "_model_module": "@jupyter-widgets/base",
            "_model_module_version": "1.2.0",
            "_model_name": "LayoutModel",
            "_view_count": null,
            "_view_module": "@jupyter-widgets/base",
            "_view_module_version": "1.2.0",
            "_view_name": "LayoutView",
            "align_content": null,
            "align_items": null,
            "align_self": null,
            "border": null,
            "bottom": null,
            "display": null,
            "flex": null,
            "flex_flow": null,
            "grid_area": null,
            "grid_auto_columns": null,
            "grid_auto_flow": null,
            "grid_auto_rows": null,
            "grid_column": null,
            "grid_gap": null,
            "grid_row": null,
            "grid_template_areas": null,
            "grid_template_columns": null,
            "grid_template_rows": null,
            "height": null,
            "justify_content": null,
            "justify_items": null,
            "left": null,
            "margin": null,
            "max_height": null,
            "max_width": null,
            "min_height": null,
            "min_width": null,
            "object_fit": null,
            "object_position": null,
            "order": null,
            "overflow": null,
            "overflow_x": null,
            "overflow_y": null,
            "padding": null,
            "right": null,
            "top": null,
            "visibility": null,
            "width": null
          }
        },
        "cfe9e3e2115b4bc0b620db7e69c1b35e": {
          "model_module": "@jupyter-widgets/controls",
          "model_name": "DescriptionStyleModel",
          "model_module_version": "1.5.0",
          "state": {
            "_model_module": "@jupyter-widgets/controls",
            "_model_module_version": "1.5.0",
            "_model_name": "DescriptionStyleModel",
            "_view_count": null,
            "_view_module": "@jupyter-widgets/base",
            "_view_module_version": "1.2.0",
            "_view_name": "StyleView",
            "description_width": ""
          }
        },
        "b8502a0931b14889b8016f7e410eaa06": {
          "model_module": "@jupyter-widgets/controls",
          "model_name": "HBoxModel",
          "model_module_version": "1.5.0",
          "state": {
            "_dom_classes": [],
            "_model_module": "@jupyter-widgets/controls",
            "_model_module_version": "1.5.0",
            "_model_name": "HBoxModel",
            "_view_count": null,
            "_view_module": "@jupyter-widgets/controls",
            "_view_module_version": "1.5.0",
            "_view_name": "HBoxView",
            "box_style": "",
            "children": [
              "IPY_MODEL_542b096ecec54845ad2ad9be6e9988f8",
              "IPY_MODEL_861d0f24213a4da0b89685838d83bd20",
              "IPY_MODEL_f960c7a50ce24425a05cf8b22a415efd"
            ],
            "layout": "IPY_MODEL_902a50c0d5a643c08c3ed634fd58769e"
          }
        },
        "542b096ecec54845ad2ad9be6e9988f8": {
          "model_module": "@jupyter-widgets/controls",
          "model_name": "HTMLModel",
          "model_module_version": "1.5.0",
          "state": {
            "_dom_classes": [],
            "_model_module": "@jupyter-widgets/controls",
            "_model_module_version": "1.5.0",
            "_model_name": "HTMLModel",
            "_view_count": null,
            "_view_module": "@jupyter-widgets/controls",
            "_view_module_version": "1.5.0",
            "_view_name": "HTMLView",
            "description": "",
            "description_tooltip": null,
            "layout": "IPY_MODEL_de8a5056d4ed49b6adfa5e226a762dff",
            "placeholder": "​",
            "style": "IPY_MODEL_cd83b9f63e2e4c54b398a4f1a2a497a7",
            "value": "config.json: 100%"
          }
        },
        "861d0f24213a4da0b89685838d83bd20": {
          "model_module": "@jupyter-widgets/controls",
          "model_name": "FloatProgressModel",
          "model_module_version": "1.5.0",
          "state": {
            "_dom_classes": [],
            "_model_module": "@jupyter-widgets/controls",
            "_model_module_version": "1.5.0",
            "_model_name": "FloatProgressModel",
            "_view_count": null,
            "_view_module": "@jupyter-widgets/controls",
            "_view_module_version": "1.5.0",
            "_view_name": "ProgressView",
            "bar_style": "success",
            "description": "",
            "description_tooltip": null,
            "layout": "IPY_MODEL_c491e4b9ec7d4f45b5e1bdfbb63e7bef",
            "max": 190,
            "min": 0,
            "orientation": "horizontal",
            "style": "IPY_MODEL_f172c02d4dca4afa9540af7c8cdd528d",
            "value": 190
          }
        },
        "f960c7a50ce24425a05cf8b22a415efd": {
          "model_module": "@jupyter-widgets/controls",
          "model_name": "HTMLModel",
          "model_module_version": "1.5.0",
          "state": {
            "_dom_classes": [],
            "_model_module": "@jupyter-widgets/controls",
            "_model_module_version": "1.5.0",
            "_model_name": "HTMLModel",
            "_view_count": null,
            "_view_module": "@jupyter-widgets/controls",
            "_view_module_version": "1.5.0",
            "_view_name": "HTMLView",
            "description": "",
            "description_tooltip": null,
            "layout": "IPY_MODEL_cd54fe1dd278429a9ad311c6fdf4db82",
            "placeholder": "​",
            "style": "IPY_MODEL_1719a4f68fbd41eb9817b4e73a21f125",
            "value": " 190/190 [00:00&lt;00:00, 15.5kB/s]"
          }
        },
        "902a50c0d5a643c08c3ed634fd58769e": {
          "model_module": "@jupyter-widgets/base",
          "model_name": "LayoutModel",
          "model_module_version": "1.2.0",
          "state": {
            "_model_module": "@jupyter-widgets/base",
            "_model_module_version": "1.2.0",
            "_model_name": "LayoutModel",
            "_view_count": null,
            "_view_module": "@jupyter-widgets/base",
            "_view_module_version": "1.2.0",
            "_view_name": "LayoutView",
            "align_content": null,
            "align_items": null,
            "align_self": null,
            "border": null,
            "bottom": null,
            "display": null,
            "flex": null,
            "flex_flow": null,
            "grid_area": null,
            "grid_auto_columns": null,
            "grid_auto_flow": null,
            "grid_auto_rows": null,
            "grid_column": null,
            "grid_gap": null,
            "grid_row": null,
            "grid_template_areas": null,
            "grid_template_columns": null,
            "grid_template_rows": null,
            "height": null,
            "justify_content": null,
            "justify_items": null,
            "left": null,
            "margin": null,
            "max_height": null,
            "max_width": null,
            "min_height": null,
            "min_width": null,
            "object_fit": null,
            "object_position": null,
            "order": null,
            "overflow": null,
            "overflow_x": null,
            "overflow_y": null,
            "padding": null,
            "right": null,
            "top": null,
            "visibility": null,
            "width": null
          }
        },
        "de8a5056d4ed49b6adfa5e226a762dff": {
          "model_module": "@jupyter-widgets/base",
          "model_name": "LayoutModel",
          "model_module_version": "1.2.0",
          "state": {
            "_model_module": "@jupyter-widgets/base",
            "_model_module_version": "1.2.0",
            "_model_name": "LayoutModel",
            "_view_count": null,
            "_view_module": "@jupyter-widgets/base",
            "_view_module_version": "1.2.0",
            "_view_name": "LayoutView",
            "align_content": null,
            "align_items": null,
            "align_self": null,
            "border": null,
            "bottom": null,
            "display": null,
            "flex": null,
            "flex_flow": null,
            "grid_area": null,
            "grid_auto_columns": null,
            "grid_auto_flow": null,
            "grid_auto_rows": null,
            "grid_column": null,
            "grid_gap": null,
            "grid_row": null,
            "grid_template_areas": null,
            "grid_template_columns": null,
            "grid_template_rows": null,
            "height": null,
            "justify_content": null,
            "justify_items": null,
            "left": null,
            "margin": null,
            "max_height": null,
            "max_width": null,
            "min_height": null,
            "min_width": null,
            "object_fit": null,
            "object_position": null,
            "order": null,
            "overflow": null,
            "overflow_x": null,
            "overflow_y": null,
            "padding": null,
            "right": null,
            "top": null,
            "visibility": null,
            "width": null
          }
        },
        "cd83b9f63e2e4c54b398a4f1a2a497a7": {
          "model_module": "@jupyter-widgets/controls",
          "model_name": "DescriptionStyleModel",
          "model_module_version": "1.5.0",
          "state": {
            "_model_module": "@jupyter-widgets/controls",
            "_model_module_version": "1.5.0",
            "_model_name": "DescriptionStyleModel",
            "_view_count": null,
            "_view_module": "@jupyter-widgets/base",
            "_view_module_version": "1.2.0",
            "_view_name": "StyleView",
            "description_width": ""
          }
        },
        "c491e4b9ec7d4f45b5e1bdfbb63e7bef": {
          "model_module": "@jupyter-widgets/base",
          "model_name": "LayoutModel",
          "model_module_version": "1.2.0",
          "state": {
            "_model_module": "@jupyter-widgets/base",
            "_model_module_version": "1.2.0",
            "_model_name": "LayoutModel",
            "_view_count": null,
            "_view_module": "@jupyter-widgets/base",
            "_view_module_version": "1.2.0",
            "_view_name": "LayoutView",
            "align_content": null,
            "align_items": null,
            "align_self": null,
            "border": null,
            "bottom": null,
            "display": null,
            "flex": null,
            "flex_flow": null,
            "grid_area": null,
            "grid_auto_columns": null,
            "grid_auto_flow": null,
            "grid_auto_rows": null,
            "grid_column": null,
            "grid_gap": null,
            "grid_row": null,
            "grid_template_areas": null,
            "grid_template_columns": null,
            "grid_template_rows": null,
            "height": null,
            "justify_content": null,
            "justify_items": null,
            "left": null,
            "margin": null,
            "max_height": null,
            "max_width": null,
            "min_height": null,
            "min_width": null,
            "object_fit": null,
            "object_position": null,
            "order": null,
            "overflow": null,
            "overflow_x": null,
            "overflow_y": null,
            "padding": null,
            "right": null,
            "top": null,
            "visibility": null,
            "width": null
          }
        },
        "f172c02d4dca4afa9540af7c8cdd528d": {
          "model_module": "@jupyter-widgets/controls",
          "model_name": "ProgressStyleModel",
          "model_module_version": "1.5.0",
          "state": {
            "_model_module": "@jupyter-widgets/controls",
            "_model_module_version": "1.5.0",
            "_model_name": "ProgressStyleModel",
            "_view_count": null,
            "_view_module": "@jupyter-widgets/base",
            "_view_module_version": "1.2.0",
            "_view_name": "StyleView",
            "bar_color": null,
            "description_width": ""
          }
        },
        "cd54fe1dd278429a9ad311c6fdf4db82": {
          "model_module": "@jupyter-widgets/base",
          "model_name": "LayoutModel",
          "model_module_version": "1.2.0",
          "state": {
            "_model_module": "@jupyter-widgets/base",
            "_model_module_version": "1.2.0",
            "_model_name": "LayoutModel",
            "_view_count": null,
            "_view_module": "@jupyter-widgets/base",
            "_view_module_version": "1.2.0",
            "_view_name": "LayoutView",
            "align_content": null,
            "align_items": null,
            "align_self": null,
            "border": null,
            "bottom": null,
            "display": null,
            "flex": null,
            "flex_flow": null,
            "grid_area": null,
            "grid_auto_columns": null,
            "grid_auto_flow": null,
            "grid_auto_rows": null,
            "grid_column": null,
            "grid_gap": null,
            "grid_row": null,
            "grid_template_areas": null,
            "grid_template_columns": null,
            "grid_template_rows": null,
            "height": null,
            "justify_content": null,
            "justify_items": null,
            "left": null,
            "margin": null,
            "max_height": null,
            "max_width": null,
            "min_height": null,
            "min_width": null,
            "object_fit": null,
            "object_position": null,
            "order": null,
            "overflow": null,
            "overflow_x": null,
            "overflow_y": null,
            "padding": null,
            "right": null,
            "top": null,
            "visibility": null,
            "width": null
          }
        },
        "1719a4f68fbd41eb9817b4e73a21f125": {
          "model_module": "@jupyter-widgets/controls",
          "model_name": "DescriptionStyleModel",
          "model_module_version": "1.5.0",
          "state": {
            "_model_module": "@jupyter-widgets/controls",
            "_model_module_version": "1.5.0",
            "_model_name": "DescriptionStyleModel",
            "_view_count": null,
            "_view_module": "@jupyter-widgets/base",
            "_view_module_version": "1.2.0",
            "_view_name": "StyleView",
            "description_width": ""
          }
        }
      }
    }
  },
  "nbformat": 4,
  "nbformat_minor": 0
}